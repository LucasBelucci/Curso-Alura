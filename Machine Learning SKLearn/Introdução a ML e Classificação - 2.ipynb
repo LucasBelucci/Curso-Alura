{
 "cells": [
  {
   "cell_type": "code",
   "execution_count": 1,
   "id": "66b7a7ae",
   "metadata": {},
   "outputs": [],
   "source": [
    "import pandas as pd"
   ]
  },
  {
   "cell_type": "code",
   "execution_count": 26,
   "id": "1aca0c6e",
   "metadata": {},
   "outputs": [
    {
     "data": {
      "text/html": [
       "<div>\n",
       "<style scoped>\n",
       "    .dataframe tbody tr th:only-of-type {\n",
       "        vertical-align: middle;\n",
       "    }\n",
       "\n",
       "    .dataframe tbody tr th {\n",
       "        vertical-align: top;\n",
       "    }\n",
       "\n",
       "    .dataframe thead th {\n",
       "        text-align: right;\n",
       "    }\n",
       "</style>\n",
       "<table border=\"1\" class=\"dataframe\">\n",
       "  <thead>\n",
       "    <tr style=\"text-align: right;\">\n",
       "      <th></th>\n",
       "      <th>home</th>\n",
       "      <th>how_it_works</th>\n",
       "      <th>contact</th>\n",
       "      <th>bought</th>\n",
       "    </tr>\n",
       "  </thead>\n",
       "  <tbody>\n",
       "    <tr>\n",
       "      <th>0</th>\n",
       "      <td>1</td>\n",
       "      <td>1</td>\n",
       "      <td>0</td>\n",
       "      <td>0</td>\n",
       "    </tr>\n",
       "    <tr>\n",
       "      <th>1</th>\n",
       "      <td>1</td>\n",
       "      <td>1</td>\n",
       "      <td>0</td>\n",
       "      <td>0</td>\n",
       "    </tr>\n",
       "    <tr>\n",
       "      <th>2</th>\n",
       "      <td>1</td>\n",
       "      <td>1</td>\n",
       "      <td>0</td>\n",
       "      <td>0</td>\n",
       "    </tr>\n",
       "    <tr>\n",
       "      <th>3</th>\n",
       "      <td>1</td>\n",
       "      <td>1</td>\n",
       "      <td>0</td>\n",
       "      <td>0</td>\n",
       "    </tr>\n",
       "    <tr>\n",
       "      <th>4</th>\n",
       "      <td>1</td>\n",
       "      <td>1</td>\n",
       "      <td>0</td>\n",
       "      <td>0</td>\n",
       "    </tr>\n",
       "  </tbody>\n",
       "</table>\n",
       "</div>"
      ],
      "text/plain": [
       "   home  how_it_works  contact  bought\n",
       "0     1             1        0       0\n",
       "1     1             1        0       0\n",
       "2     1             1        0       0\n",
       "3     1             1        0       0\n",
       "4     1             1        0       0"
      ]
     },
     "execution_count": 26,
     "metadata": {},
     "output_type": "execute_result"
    }
   ],
   "source": [
    "uri = 'https://gist.githubusercontent.com/guilhermesilveira/2d2efa37d66b6c84a722ea627a897ced/raw/10968b997d885cbded1c92938c7a9912ba41c615/tracking.csv'\n",
    "\n",
    "dados = pd.read_csv(uri)\n",
    "\n",
    "dados.head()"
   ]
  },
  {
   "cell_type": "code",
   "execution_count": 27,
   "id": "6eda5f76",
   "metadata": {},
   "outputs": [],
   "source": [
    "mapa ={\n",
    "    'home':'principal',\n",
    "    'how_it_works':'como_funciona',\n",
    "    'contact':'contato',\n",
    "    'bought':'comprou'\n",
    "}\n",
    "dados = dados.rename(columns = mapa)"
   ]
  },
  {
   "cell_type": "code",
   "execution_count": 30,
   "id": "0bcfce3e",
   "metadata": {},
   "outputs": [],
   "source": [
    "x = dados.loc[:,:'contato']\n",
    "y = dados['comprou']\n"
   ]
  },
  {
   "cell_type": "code",
   "execution_count": 32,
   "id": "e659829b",
   "metadata": {},
   "outputs": [
    {
     "data": {
      "text/plain": [
       "(99, 4)"
      ]
     },
     "execution_count": 32,
     "metadata": {},
     "output_type": "execute_result"
    }
   ],
   "source": [
    "dados.shape"
   ]
  },
  {
   "cell_type": "code",
   "execution_count": 37,
   "id": "c8b5832b",
   "metadata": {},
   "outputs": [
    {
     "name": "stdout",
     "output_type": "stream",
     "text": [
      "Treinamos usando x: 75 y: 75\n",
      " Testaremos com x: 24 y: 24\n"
     ]
    }
   ],
   "source": [
    "x_train = x[:75]\n",
    "y_train = y[:75]\n",
    "x_test = x[75:]\n",
    "y_test = y[75:]\n",
    "\n",
    "print(f'Treinamos usando x: {len(x_train)} y: {len(y_train)}\\n Testaremos com x: {len(x_test)} y: {len(y_test)}')"
   ]
  },
  {
   "cell_type": "code",
   "execution_count": 44,
   "id": "f695ba8a",
   "metadata": {},
   "outputs": [
    {
     "name": "stdout",
     "output_type": "stream",
     "text": [
      "taxa_de_acerto: 95.83%\n"
     ]
    }
   ],
   "source": [
    "from sklearn.svm import LinearSVC\n",
    "from sklearn.metrics import accuracy_score\n",
    "\n",
    "modelo = LinearSVC()\n",
    "modelo.fit(x_train, y_train)\n",
    "previsoes = modelo.predict(x_test)\n",
    "\n",
    "taxa_de_acerto  = accuracy_score(y_test, previsoes)\n",
    "\n",
    "print(f'taxa_de_acerto: {round(taxa_de_acerto*100,2)}%')"
   ]
  },
  {
   "cell_type": "code",
   "execution_count": 64,
   "id": "a173fde4",
   "metadata": {},
   "outputs": [
    {
     "name": "stdout",
     "output_type": "stream",
     "text": [
      "x_train: (74, 3)\n",
      "x_test: (25, 3)\n",
      "y_train: (74,)\n",
      "y_test: (25,)\n",
      "taxa_de_acerto: 96.0%\n"
     ]
    }
   ],
   "source": [
    "from sklearn.svm import LinearSVC\n",
    "from sklearn.metrics import accuracy_score\n",
    "from sklearn.model_selection import train_test_split\n",
    "\n",
    "seed = 20\n",
    "\n",
    "x_train, x_test, y_train, y_test = train_test_split(x, y, random_state = seed ,test_size=0.25)\n",
    "\n",
    "print(f'x_train: {x_train.shape}')\n",
    "print(f'x_test: {x_test.shape}')\n",
    "print(f'y_train: {y_train.shape}')\n",
    "print(f'y_test: {y_test.shape}')\n",
    "\n",
    "modelo = LinearSVC()\n",
    "modelo.fit(x_train, y_train)\n",
    "previsoes = modelo.predict(x_test)\n",
    "\n",
    "taxa_de_acerto  = accuracy_score(y_test, previsoes)\n",
    "\n",
    "print(f'taxa_de_acerto: {round(taxa_de_acerto*100,2)}%')"
   ]
  },
  {
   "cell_type": "code",
   "execution_count": 65,
   "id": "4eab8486",
   "metadata": {},
   "outputs": [
    {
     "data": {
      "text/plain": [
       "0    47\n",
       "1    27\n",
       "Name: comprou, dtype: int64"
      ]
     },
     "execution_count": 65,
     "metadata": {},
     "output_type": "execute_result"
    }
   ],
   "source": [
    "y_train.value_counts()"
   ]
  },
  {
   "cell_type": "code",
   "execution_count": 66,
   "id": "33b89fb8",
   "metadata": {},
   "outputs": [
    {
     "data": {
      "text/plain": [
       "0    19\n",
       "1     6\n",
       "Name: comprou, dtype: int64"
      ]
     },
     "execution_count": 66,
     "metadata": {},
     "output_type": "execute_result"
    }
   ],
   "source": [
    "y_test.value_counts()"
   ]
  },
  {
   "cell_type": "code",
   "execution_count": 67,
   "id": "76700288",
   "metadata": {},
   "outputs": [
    {
     "name": "stdout",
     "output_type": "stream",
     "text": [
      "Treinamos usando x: 74 y: 74\n",
      " Testaremos com x: 25 y: 25\n",
      "taxa_de_acerto: 96.0%\n"
     ]
    }
   ],
   "source": [
    "from sklearn.svm import LinearSVC\n",
    "from sklearn.metrics import accuracy_score\n",
    "from sklearn.model_selection import train_test_split\n",
    "\n",
    "seed = 20\n",
    "\n",
    "x_train, x_test, y_train, y_test = train_test_split(x, y, random_state = seed ,test_size=0.25, stratify = y)\n",
    "\n",
    "\n",
    "print(f'Treinamos usando x: {len(x_train)} y: {len(y_train)}\\n Testaremos com x: {len(x_test)} y: {len(y_test)}')\n",
    "\n",
    "modelo = LinearSVC()\n",
    "modelo.fit(x_train, y_train)\n",
    "previsoes = modelo.predict(x_test)\n",
    "\n",
    "taxa_de_acerto  = accuracy_score(y_test, previsoes)\n",
    "\n",
    "print(f'taxa_de_acerto: {round(taxa_de_acerto*100,2)}%')"
   ]
  },
  {
   "cell_type": "code",
   "execution_count": 68,
   "id": "bfd95ae5",
   "metadata": {},
   "outputs": [
    {
     "data": {
      "text/plain": [
       "0    49\n",
       "1    25\n",
       "Name: comprou, dtype: int64"
      ]
     },
     "execution_count": 68,
     "metadata": {},
     "output_type": "execute_result"
    }
   ],
   "source": [
    "y_train.value_counts()"
   ]
  },
  {
   "cell_type": "code",
   "execution_count": 69,
   "id": "9a188ff8",
   "metadata": {},
   "outputs": [
    {
     "data": {
      "text/plain": [
       "0    17\n",
       "1     8\n",
       "Name: comprou, dtype: int64"
      ]
     },
     "execution_count": 69,
     "metadata": {},
     "output_type": "execute_result"
    }
   ],
   "source": [
    "y_test.value_counts()"
   ]
  },
  {
   "cell_type": "code",
   "execution_count": null,
   "id": "e950f3b8",
   "metadata": {},
   "outputs": [],
   "source": []
  }
 ],
 "metadata": {
  "kernelspec": {
   "display_name": "Python 3 (ipykernel)",
   "language": "python",
   "name": "python3"
  },
  "language_info": {
   "codemirror_mode": {
    "name": "ipython",
    "version": 3
   },
   "file_extension": ".py",
   "mimetype": "text/x-python",
   "name": "python",
   "nbconvert_exporter": "python",
   "pygments_lexer": "ipython3",
   "version": "3.10.6"
  }
 },
 "nbformat": 4,
 "nbformat_minor": 5
}
