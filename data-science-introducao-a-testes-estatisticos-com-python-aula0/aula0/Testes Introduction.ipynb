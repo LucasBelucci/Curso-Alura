{
 "cells": [
  {
   "cell_type": "code",
   "execution_count": 6,
   "id": "1e428fdf",
   "metadata": {},
   "outputs": [],
   "source": [
    "import numpy as np\n",
    "import pandas as pd\n",
    "import matplotlib.pyplot as plt\n",
    "import seaborn as sns\n",
    "\n",
    "%matplotlib inline"
   ]
  },
  {
   "cell_type": "code",
   "execution_count": 3,
   "id": "d94f8fff",
   "metadata": {},
   "outputs": [],
   "source": [
    "tmdb = pd.read_csv('tmdb_5000_movies.csv')\n",
    "movies = pd.read_csv('movies.csv')\n",
    "rating = pd.read_csv('ratings.csv')"
   ]
  },
  {
   "cell_type": "code",
   "execution_count": 4,
   "id": "08a5fef4",
   "metadata": {},
   "outputs": [
    {
     "data": {
      "text/html": [
       "<div>\n",
       "<style scoped>\n",
       "    .dataframe tbody tr th:only-of-type {\n",
       "        vertical-align: middle;\n",
       "    }\n",
       "\n",
       "    .dataframe tbody tr th {\n",
       "        vertical-align: top;\n",
       "    }\n",
       "\n",
       "    .dataframe thead th {\n",
       "        text-align: right;\n",
       "    }\n",
       "</style>\n",
       "<table border=\"1\" class=\"dataframe\">\n",
       "  <thead>\n",
       "    <tr style=\"text-align: right;\">\n",
       "      <th></th>\n",
       "      <th>budget</th>\n",
       "      <th>genres</th>\n",
       "      <th>homepage</th>\n",
       "      <th>id</th>\n",
       "      <th>keywords</th>\n",
       "      <th>original_language</th>\n",
       "      <th>original_title</th>\n",
       "      <th>overview</th>\n",
       "      <th>popularity</th>\n",
       "      <th>production_companies</th>\n",
       "      <th>production_countries</th>\n",
       "      <th>release_date</th>\n",
       "      <th>revenue</th>\n",
       "      <th>runtime</th>\n",
       "      <th>spoken_languages</th>\n",
       "      <th>status</th>\n",
       "      <th>tagline</th>\n",
       "      <th>title</th>\n",
       "      <th>vote_average</th>\n",
       "      <th>vote_count</th>\n",
       "    </tr>\n",
       "  </thead>\n",
       "  <tbody>\n",
       "    <tr>\n",
       "      <th>0</th>\n",
       "      <td>237000000</td>\n",
       "      <td>[{\"id\": 28, \"name\": \"Action\"}, {\"id\": 12, \"nam...</td>\n",
       "      <td>http://www.avatarmovie.com/</td>\n",
       "      <td>19995</td>\n",
       "      <td>[{\"id\": 1463, \"name\": \"culture clash\"}, {\"id\":...</td>\n",
       "      <td>en</td>\n",
       "      <td>Avatar</td>\n",
       "      <td>In the 22nd century, a paraplegic Marine is di...</td>\n",
       "      <td>150.437577</td>\n",
       "      <td>[{\"name\": \"Ingenious Film Partners\", \"id\": 289...</td>\n",
       "      <td>[{\"iso_3166_1\": \"US\", \"name\": \"United States o...</td>\n",
       "      <td>2009-12-10</td>\n",
       "      <td>2787965087</td>\n",
       "      <td>162.0</td>\n",
       "      <td>[{\"iso_639_1\": \"en\", \"name\": \"English\"}, {\"iso...</td>\n",
       "      <td>Released</td>\n",
       "      <td>Enter the World of Pandora.</td>\n",
       "      <td>Avatar</td>\n",
       "      <td>7.2</td>\n",
       "      <td>11800</td>\n",
       "    </tr>\n",
       "    <tr>\n",
       "      <th>1</th>\n",
       "      <td>300000000</td>\n",
       "      <td>[{\"id\": 12, \"name\": \"Adventure\"}, {\"id\": 14, \"...</td>\n",
       "      <td>http://disney.go.com/disneypictures/pirates/</td>\n",
       "      <td>285</td>\n",
       "      <td>[{\"id\": 270, \"name\": \"ocean\"}, {\"id\": 726, \"na...</td>\n",
       "      <td>en</td>\n",
       "      <td>Pirates of the Caribbean: At World's End</td>\n",
       "      <td>Captain Barbossa, long believed to be dead, ha...</td>\n",
       "      <td>139.082615</td>\n",
       "      <td>[{\"name\": \"Walt Disney Pictures\", \"id\": 2}, {\"...</td>\n",
       "      <td>[{\"iso_3166_1\": \"US\", \"name\": \"United States o...</td>\n",
       "      <td>2007-05-19</td>\n",
       "      <td>961000000</td>\n",
       "      <td>169.0</td>\n",
       "      <td>[{\"iso_639_1\": \"en\", \"name\": \"English\"}]</td>\n",
       "      <td>Released</td>\n",
       "      <td>At the end of the world, the adventure begins.</td>\n",
       "      <td>Pirates of the Caribbean: At World's End</td>\n",
       "      <td>6.9</td>\n",
       "      <td>4500</td>\n",
       "    </tr>\n",
       "    <tr>\n",
       "      <th>2</th>\n",
       "      <td>245000000</td>\n",
       "      <td>[{\"id\": 28, \"name\": \"Action\"}, {\"id\": 12, \"nam...</td>\n",
       "      <td>http://www.sonypictures.com/movies/spectre/</td>\n",
       "      <td>206647</td>\n",
       "      <td>[{\"id\": 470, \"name\": \"spy\"}, {\"id\": 818, \"name...</td>\n",
       "      <td>en</td>\n",
       "      <td>Spectre</td>\n",
       "      <td>A cryptic message from Bond’s past sends him o...</td>\n",
       "      <td>107.376788</td>\n",
       "      <td>[{\"name\": \"Columbia Pictures\", \"id\": 5}, {\"nam...</td>\n",
       "      <td>[{\"iso_3166_1\": \"GB\", \"name\": \"United Kingdom\"...</td>\n",
       "      <td>2015-10-26</td>\n",
       "      <td>880674609</td>\n",
       "      <td>148.0</td>\n",
       "      <td>[{\"iso_639_1\": \"fr\", \"name\": \"Fran\\u00e7ais\"},...</td>\n",
       "      <td>Released</td>\n",
       "      <td>A Plan No One Escapes</td>\n",
       "      <td>Spectre</td>\n",
       "      <td>6.3</td>\n",
       "      <td>4466</td>\n",
       "    </tr>\n",
       "    <tr>\n",
       "      <th>3</th>\n",
       "      <td>250000000</td>\n",
       "      <td>[{\"id\": 28, \"name\": \"Action\"}, {\"id\": 80, \"nam...</td>\n",
       "      <td>http://www.thedarkknightrises.com/</td>\n",
       "      <td>49026</td>\n",
       "      <td>[{\"id\": 849, \"name\": \"dc comics\"}, {\"id\": 853,...</td>\n",
       "      <td>en</td>\n",
       "      <td>The Dark Knight Rises</td>\n",
       "      <td>Following the death of District Attorney Harve...</td>\n",
       "      <td>112.312950</td>\n",
       "      <td>[{\"name\": \"Legendary Pictures\", \"id\": 923}, {\"...</td>\n",
       "      <td>[{\"iso_3166_1\": \"US\", \"name\": \"United States o...</td>\n",
       "      <td>2012-07-16</td>\n",
       "      <td>1084939099</td>\n",
       "      <td>165.0</td>\n",
       "      <td>[{\"iso_639_1\": \"en\", \"name\": \"English\"}]</td>\n",
       "      <td>Released</td>\n",
       "      <td>The Legend Ends</td>\n",
       "      <td>The Dark Knight Rises</td>\n",
       "      <td>7.6</td>\n",
       "      <td>9106</td>\n",
       "    </tr>\n",
       "    <tr>\n",
       "      <th>4</th>\n",
       "      <td>260000000</td>\n",
       "      <td>[{\"id\": 28, \"name\": \"Action\"}, {\"id\": 12, \"nam...</td>\n",
       "      <td>http://movies.disney.com/john-carter</td>\n",
       "      <td>49529</td>\n",
       "      <td>[{\"id\": 818, \"name\": \"based on novel\"}, {\"id\":...</td>\n",
       "      <td>en</td>\n",
       "      <td>John Carter</td>\n",
       "      <td>John Carter is a war-weary, former military ca...</td>\n",
       "      <td>43.926995</td>\n",
       "      <td>[{\"name\": \"Walt Disney Pictures\", \"id\": 2}]</td>\n",
       "      <td>[{\"iso_3166_1\": \"US\", \"name\": \"United States o...</td>\n",
       "      <td>2012-03-07</td>\n",
       "      <td>284139100</td>\n",
       "      <td>132.0</td>\n",
       "      <td>[{\"iso_639_1\": \"en\", \"name\": \"English\"}]</td>\n",
       "      <td>Released</td>\n",
       "      <td>Lost in our world, found in another.</td>\n",
       "      <td>John Carter</td>\n",
       "      <td>6.1</td>\n",
       "      <td>2124</td>\n",
       "    </tr>\n",
       "  </tbody>\n",
       "</table>\n",
       "</div>"
      ],
      "text/plain": [
       "      budget                                             genres  \\\n",
       "0  237000000  [{\"id\": 28, \"name\": \"Action\"}, {\"id\": 12, \"nam...   \n",
       "1  300000000  [{\"id\": 12, \"name\": \"Adventure\"}, {\"id\": 14, \"...   \n",
       "2  245000000  [{\"id\": 28, \"name\": \"Action\"}, {\"id\": 12, \"nam...   \n",
       "3  250000000  [{\"id\": 28, \"name\": \"Action\"}, {\"id\": 80, \"nam...   \n",
       "4  260000000  [{\"id\": 28, \"name\": \"Action\"}, {\"id\": 12, \"nam...   \n",
       "\n",
       "                                       homepage      id  \\\n",
       "0                   http://www.avatarmovie.com/   19995   \n",
       "1  http://disney.go.com/disneypictures/pirates/     285   \n",
       "2   http://www.sonypictures.com/movies/spectre/  206647   \n",
       "3            http://www.thedarkknightrises.com/   49026   \n",
       "4          http://movies.disney.com/john-carter   49529   \n",
       "\n",
       "                                            keywords original_language  \\\n",
       "0  [{\"id\": 1463, \"name\": \"culture clash\"}, {\"id\":...                en   \n",
       "1  [{\"id\": 270, \"name\": \"ocean\"}, {\"id\": 726, \"na...                en   \n",
       "2  [{\"id\": 470, \"name\": \"spy\"}, {\"id\": 818, \"name...                en   \n",
       "3  [{\"id\": 849, \"name\": \"dc comics\"}, {\"id\": 853,...                en   \n",
       "4  [{\"id\": 818, \"name\": \"based on novel\"}, {\"id\":...                en   \n",
       "\n",
       "                             original_title  \\\n",
       "0                                    Avatar   \n",
       "1  Pirates of the Caribbean: At World's End   \n",
       "2                                   Spectre   \n",
       "3                     The Dark Knight Rises   \n",
       "4                               John Carter   \n",
       "\n",
       "                                            overview  popularity  \\\n",
       "0  In the 22nd century, a paraplegic Marine is di...  150.437577   \n",
       "1  Captain Barbossa, long believed to be dead, ha...  139.082615   \n",
       "2  A cryptic message from Bond’s past sends him o...  107.376788   \n",
       "3  Following the death of District Attorney Harve...  112.312950   \n",
       "4  John Carter is a war-weary, former military ca...   43.926995   \n",
       "\n",
       "                                production_companies  \\\n",
       "0  [{\"name\": \"Ingenious Film Partners\", \"id\": 289...   \n",
       "1  [{\"name\": \"Walt Disney Pictures\", \"id\": 2}, {\"...   \n",
       "2  [{\"name\": \"Columbia Pictures\", \"id\": 5}, {\"nam...   \n",
       "3  [{\"name\": \"Legendary Pictures\", \"id\": 923}, {\"...   \n",
       "4        [{\"name\": \"Walt Disney Pictures\", \"id\": 2}]   \n",
       "\n",
       "                                production_countries release_date     revenue  \\\n",
       "0  [{\"iso_3166_1\": \"US\", \"name\": \"United States o...   2009-12-10  2787965087   \n",
       "1  [{\"iso_3166_1\": \"US\", \"name\": \"United States o...   2007-05-19   961000000   \n",
       "2  [{\"iso_3166_1\": \"GB\", \"name\": \"United Kingdom\"...   2015-10-26   880674609   \n",
       "3  [{\"iso_3166_1\": \"US\", \"name\": \"United States o...   2012-07-16  1084939099   \n",
       "4  [{\"iso_3166_1\": \"US\", \"name\": \"United States o...   2012-03-07   284139100   \n",
       "\n",
       "   runtime                                   spoken_languages    status  \\\n",
       "0    162.0  [{\"iso_639_1\": \"en\", \"name\": \"English\"}, {\"iso...  Released   \n",
       "1    169.0           [{\"iso_639_1\": \"en\", \"name\": \"English\"}]  Released   \n",
       "2    148.0  [{\"iso_639_1\": \"fr\", \"name\": \"Fran\\u00e7ais\"},...  Released   \n",
       "3    165.0           [{\"iso_639_1\": \"en\", \"name\": \"English\"}]  Released   \n",
       "4    132.0           [{\"iso_639_1\": \"en\", \"name\": \"English\"}]  Released   \n",
       "\n",
       "                                          tagline  \\\n",
       "0                     Enter the World of Pandora.   \n",
       "1  At the end of the world, the adventure begins.   \n",
       "2                           A Plan No One Escapes   \n",
       "3                                 The Legend Ends   \n",
       "4            Lost in our world, found in another.   \n",
       "\n",
       "                                      title  vote_average  vote_count  \n",
       "0                                    Avatar           7.2       11800  \n",
       "1  Pirates of the Caribbean: At World's End           6.9        4500  \n",
       "2                                   Spectre           6.3        4466  \n",
       "3                     The Dark Knight Rises           7.6        9106  \n",
       "4                               John Carter           6.1        2124  "
      ]
     },
     "execution_count": 4,
     "metadata": {},
     "output_type": "execute_result"
    }
   ],
   "source": [
    "tmdb.head()"
   ]
  },
  {
   "cell_type": "code",
   "execution_count": 5,
   "id": "7b1f38b6",
   "metadata": {},
   "outputs": [
    {
     "data": {
      "text/html": [
       "<div>\n",
       "<style scoped>\n",
       "    .dataframe tbody tr th:only-of-type {\n",
       "        vertical-align: middle;\n",
       "    }\n",
       "\n",
       "    .dataframe tbody tr th {\n",
       "        vertical-align: top;\n",
       "    }\n",
       "\n",
       "    .dataframe thead th {\n",
       "        text-align: right;\n",
       "    }\n",
       "</style>\n",
       "<table border=\"1\" class=\"dataframe\">\n",
       "  <thead>\n",
       "    <tr style=\"text-align: right;\">\n",
       "      <th></th>\n",
       "      <th>budget</th>\n",
       "      <th>id</th>\n",
       "      <th>popularity</th>\n",
       "      <th>revenue</th>\n",
       "      <th>runtime</th>\n",
       "      <th>vote_average</th>\n",
       "      <th>vote_count</th>\n",
       "    </tr>\n",
       "  </thead>\n",
       "  <tbody>\n",
       "    <tr>\n",
       "      <th>count</th>\n",
       "      <td>4.803000e+03</td>\n",
       "      <td>4803.000000</td>\n",
       "      <td>4803.000000</td>\n",
       "      <td>4.803000e+03</td>\n",
       "      <td>4801.000000</td>\n",
       "      <td>4803.000000</td>\n",
       "      <td>4803.000000</td>\n",
       "    </tr>\n",
       "    <tr>\n",
       "      <th>mean</th>\n",
       "      <td>2.904504e+07</td>\n",
       "      <td>57165.484281</td>\n",
       "      <td>21.492301</td>\n",
       "      <td>8.226064e+07</td>\n",
       "      <td>106.875859</td>\n",
       "      <td>6.092172</td>\n",
       "      <td>690.217989</td>\n",
       "    </tr>\n",
       "    <tr>\n",
       "      <th>std</th>\n",
       "      <td>4.072239e+07</td>\n",
       "      <td>88694.614033</td>\n",
       "      <td>31.816650</td>\n",
       "      <td>1.628571e+08</td>\n",
       "      <td>22.611935</td>\n",
       "      <td>1.194612</td>\n",
       "      <td>1234.585891</td>\n",
       "    </tr>\n",
       "    <tr>\n",
       "      <th>min</th>\n",
       "      <td>0.000000e+00</td>\n",
       "      <td>5.000000</td>\n",
       "      <td>0.000000</td>\n",
       "      <td>0.000000e+00</td>\n",
       "      <td>0.000000</td>\n",
       "      <td>0.000000</td>\n",
       "      <td>0.000000</td>\n",
       "    </tr>\n",
       "    <tr>\n",
       "      <th>25%</th>\n",
       "      <td>7.900000e+05</td>\n",
       "      <td>9014.500000</td>\n",
       "      <td>4.668070</td>\n",
       "      <td>0.000000e+00</td>\n",
       "      <td>94.000000</td>\n",
       "      <td>5.600000</td>\n",
       "      <td>54.000000</td>\n",
       "    </tr>\n",
       "    <tr>\n",
       "      <th>50%</th>\n",
       "      <td>1.500000e+07</td>\n",
       "      <td>14629.000000</td>\n",
       "      <td>12.921594</td>\n",
       "      <td>1.917000e+07</td>\n",
       "      <td>103.000000</td>\n",
       "      <td>6.200000</td>\n",
       "      <td>235.000000</td>\n",
       "    </tr>\n",
       "    <tr>\n",
       "      <th>75%</th>\n",
       "      <td>4.000000e+07</td>\n",
       "      <td>58610.500000</td>\n",
       "      <td>28.313505</td>\n",
       "      <td>9.291719e+07</td>\n",
       "      <td>118.000000</td>\n",
       "      <td>6.800000</td>\n",
       "      <td>737.000000</td>\n",
       "    </tr>\n",
       "    <tr>\n",
       "      <th>max</th>\n",
       "      <td>3.800000e+08</td>\n",
       "      <td>459488.000000</td>\n",
       "      <td>875.581305</td>\n",
       "      <td>2.787965e+09</td>\n",
       "      <td>338.000000</td>\n",
       "      <td>10.000000</td>\n",
       "      <td>13752.000000</td>\n",
       "    </tr>\n",
       "  </tbody>\n",
       "</table>\n",
       "</div>"
      ],
      "text/plain": [
       "             budget             id   popularity       revenue      runtime  \\\n",
       "count  4.803000e+03    4803.000000  4803.000000  4.803000e+03  4801.000000   \n",
       "mean   2.904504e+07   57165.484281    21.492301  8.226064e+07   106.875859   \n",
       "std    4.072239e+07   88694.614033    31.816650  1.628571e+08    22.611935   \n",
       "min    0.000000e+00       5.000000     0.000000  0.000000e+00     0.000000   \n",
       "25%    7.900000e+05    9014.500000     4.668070  0.000000e+00    94.000000   \n",
       "50%    1.500000e+07   14629.000000    12.921594  1.917000e+07   103.000000   \n",
       "75%    4.000000e+07   58610.500000    28.313505  9.291719e+07   118.000000   \n",
       "max    3.800000e+08  459488.000000   875.581305  2.787965e+09   338.000000   \n",
       "\n",
       "       vote_average    vote_count  \n",
       "count   4803.000000   4803.000000  \n",
       "mean       6.092172    690.217989  \n",
       "std        1.194612   1234.585891  \n",
       "min        0.000000      0.000000  \n",
       "25%        5.600000     54.000000  \n",
       "50%        6.200000    235.000000  \n",
       "75%        6.800000    737.000000  \n",
       "max       10.000000  13752.000000  "
      ]
     },
     "execution_count": 5,
     "metadata": {},
     "output_type": "execute_result"
    }
   ],
   "source": [
    "tmdb.describe()"
   ]
  },
  {
   "cell_type": "code",
   "execution_count": 14,
   "id": "97245f84",
   "metadata": {},
   "outputs": [
    {
     "name": "stderr",
     "output_type": "stream",
     "text": [
      "C:\\Users\\lucas\\AppData\\Local\\Temp\\ipykernel_21788\\4290612373.py:1: UserWarning: \n",
      "\n",
      "`distplot` is a deprecated function and will be removed in seaborn v0.14.0.\n",
      "\n",
      "Please adapt your code to use either `displot` (a figure-level function with\n",
      "similar flexibility) or `histplot` (an axes-level function for histograms).\n",
      "\n",
      "For a guide to updating your code to use the new functions, please see\n",
      "https://gist.github.com/mwaskom/de44147ed2974457ad6372750bbe5751\n",
      "\n",
      "  ax = sns.distplot(tmdb.vote_average)\n"
     ]
    },
    {
     "data": {
      "text/plain": [
       "Text(0.5, 1.0, 'Vote average')"
      ]
     },
     "execution_count": 14,
     "metadata": {},
     "output_type": "execute_result"
    },
    {
     "data": {
      "image/png": "[encoded data removed]",
      "text/plain": [
       "<Figure size 640x480 with 1 Axes>"
      ]
     },
     "metadata": {},
     "output_type": "display_data"
    }
   ],
   "source": [
    "ax = sns.distplot(tmdb.vote_average)\n",
    "ax.set_xlabel('Nota média')\n",
    "ax.set_title('Vote average')"
   ]
  },
  {
   "cell_type": "code",
   "execution_count": 16,
   "id": "c61ef806",
   "metadata": {},
   "outputs": [
    {
     "name": "stderr",
     "output_type": "stream",
     "text": [
      "C:\\Users\\lucas\\AppData\\Local\\Temp\\ipykernel_21788\\604346552.py:1: UserWarning: \n",
      "\n",
      "`distplot` is a deprecated function and will be removed in seaborn v0.14.0.\n",
      "\n",
      "Please adapt your code to use either `displot` (a figure-level function with\n",
      "similar flexibility) or `histplot` (an axes-level function for histograms).\n",
      "\n",
      "For a guide to updating your code to use the new functions, please see\n",
      "https://gist.github.com/mwaskom/de44147ed2974457ad6372750bbe5751\n",
      "\n",
      "  ax = sns.distplot(tmdb.vote_average, norm_hist=False, kde=False)\n"
     ]
    },
    {
     "data": {
      "text/plain": [
       "Text(0.5, 1.0, 'Vote average')"
      ]
     },
     "execution_count": 16,
     "metadata": {},
     "output_type": "execute_result"
    },
    {
     "data": {
      "image/png": "[encoded data removed]",
      "text/plain": [
       "<Figure size 640x480 with 1 Axes>"
      ]
     },
     "metadata": {},
     "output_type": "display_data"
    }
   ],
   "source": [
    "ax = sns.distplot(tmdb.vote_average, norm_hist=False, kde=False)\n",
    "ax.set_xlabel('Nota média')\n",
    "ax.set_ylabel('Frequência')\n",
    "ax.set_title('Vote average')"
   ]
  },
  {
   "cell_type": "code",
   "execution_count": 22,
   "id": "c990271e",
   "metadata": {},
   "outputs": [
    {
     "data": {
      "text/plain": [
       "Text(0.5, 0, 'Nota média')"
      ]
     },
     "execution_count": 22,
     "metadata": {},
     "output_type": "execute_result"
    },
    {
     "data": {
      "image/png": "[encoded data removed]",
      "text/plain": [
       "<Figure size 640x480 with 1 Axes>"
      ]
     },
     "metadata": {},
     "output_type": "display_data"
    }
   ],
   "source": [
    "ax = sns.boxplot(x=tmdb.vote_average)\n",
    "ax.set_title('Distribuição de nota média')\n",
    "ax.set_xlabel('Nota média')"
   ]
  },
  {
   "cell_type": "code",
   "execution_count": 28,
   "id": "11d3030b",
   "metadata": {},
   "outputs": [
    {
     "data": {
      "text/html": [
       "<div>\n",
       "<style scoped>\n",
       "    .dataframe tbody tr th:only-of-type {\n",
       "        vertical-align: middle;\n",
       "    }\n",
       "\n",
       "    .dataframe tbody tr th {\n",
       "        vertical-align: top;\n",
       "    }\n",
       "\n",
       "    .dataframe thead th {\n",
       "        text-align: right;\n",
       "    }\n",
       "</style>\n",
       "<table border=\"1\" class=\"dataframe\">\n",
       "  <thead>\n",
       "    <tr style=\"text-align: right;\">\n",
       "      <th></th>\n",
       "      <th>budget</th>\n",
       "      <th>genres</th>\n",
       "      <th>homepage</th>\n",
       "      <th>id</th>\n",
       "      <th>keywords</th>\n",
       "      <th>original_language</th>\n",
       "      <th>original_title</th>\n",
       "      <th>overview</th>\n",
       "      <th>popularity</th>\n",
       "      <th>production_companies</th>\n",
       "      <th>production_countries</th>\n",
       "      <th>release_date</th>\n",
       "      <th>revenue</th>\n",
       "      <th>runtime</th>\n",
       "      <th>spoken_languages</th>\n",
       "      <th>status</th>\n",
       "      <th>tagline</th>\n",
       "      <th>title</th>\n",
       "      <th>vote_average</th>\n",
       "      <th>vote_count</th>\n",
       "    </tr>\n",
       "  </thead>\n",
       "  <tbody>\n",
       "    <tr>\n",
       "      <th>1464</th>\n",
       "      <td>0</td>\n",
       "      <td>[{\"id\": 18, \"name\": \"Drama\"}, {\"id\": 80, \"name...</td>\n",
       "      <td>NaN</td>\n",
       "      <td>310706</td>\n",
       "      <td>[]</td>\n",
       "      <td>en</td>\n",
       "      <td>Black Water Transit</td>\n",
       "      <td>In this action thriller set in post-Katrina Ne...</td>\n",
       "      <td>0.126738</td>\n",
       "      <td>[{\"name\": \"Capitol Films\", \"id\": 826}]</td>\n",
       "      <td>[{\"iso_3166_1\": \"US\", \"name\": \"United States o...</td>\n",
       "      <td>2009-05-13</td>\n",
       "      <td>0</td>\n",
       "      <td>100.0</td>\n",
       "      <td>[{\"iso_639_1\": \"en\", \"name\": \"English\"}]</td>\n",
       "      <td>Released</td>\n",
       "      <td>NaN</td>\n",
       "      <td>Black Water Transit</td>\n",
       "      <td>0.0</td>\n",
       "      <td>0</td>\n",
       "    </tr>\n",
       "    <tr>\n",
       "      <th>3669</th>\n",
       "      <td>0</td>\n",
       "      <td>[{\"id\": 35, \"name\": \"Comedy\"}, {\"id\": 18, \"nam...</td>\n",
       "      <td>http://www.romeothemovie.com/</td>\n",
       "      <td>113406</td>\n",
       "      <td>[]</td>\n",
       "      <td>en</td>\n",
       "      <td>Should've Been Romeo</td>\n",
       "      <td>A self-centered, middle-aged pitchman for a po...</td>\n",
       "      <td>0.407030</td>\n",
       "      <td>[{\"name\": \"Phillybrook Films\", \"id\": 65147}]</td>\n",
       "      <td>[{\"iso_3166_1\": \"US\", \"name\": \"United States o...</td>\n",
       "      <td>2012-04-28</td>\n",
       "      <td>0</td>\n",
       "      <td>0.0</td>\n",
       "      <td>[{\"iso_639_1\": \"en\", \"name\": \"English\"}]</td>\n",
       "      <td>Released</td>\n",
       "      <td>Even Shakespeare didn't see this one coming.</td>\n",
       "      <td>Should've Been Romeo</td>\n",
       "      <td>0.0</td>\n",
       "      <td>0</td>\n",
       "    </tr>\n",
       "    <tr>\n",
       "      <th>3670</th>\n",
       "      <td>0</td>\n",
       "      <td>[{\"id\": 10751, \"name\": \"Family\"}]</td>\n",
       "      <td>NaN</td>\n",
       "      <td>447027</td>\n",
       "      <td>[]</td>\n",
       "      <td>en</td>\n",
       "      <td>Running Forever</td>\n",
       "      <td>After being estranged since her mother's death...</td>\n",
       "      <td>0.028756</td>\n",
       "      <td>[{\"name\": \"New Kingdom Pictures\", \"id\": 41671}]</td>\n",
       "      <td>[{\"iso_3166_1\": \"US\", \"name\": \"United States o...</td>\n",
       "      <td>2015-10-27</td>\n",
       "      <td>0</td>\n",
       "      <td>88.0</td>\n",
       "      <td>[]</td>\n",
       "      <td>Released</td>\n",
       "      <td>NaN</td>\n",
       "      <td>Running Forever</td>\n",
       "      <td>0.0</td>\n",
       "      <td>0</td>\n",
       "    </tr>\n",
       "    <tr>\n",
       "      <th>3852</th>\n",
       "      <td>0</td>\n",
       "      <td>[{\"id\": 18, \"name\": \"Drama\"}]</td>\n",
       "      <td>NaN</td>\n",
       "      <td>395766</td>\n",
       "      <td>[{\"id\": 11162, \"name\": \"miniseries\"}]</td>\n",
       "      <td>en</td>\n",
       "      <td>The Secret</td>\n",
       "      <td>The Secret is the story of a real-life double ...</td>\n",
       "      <td>0.042346</td>\n",
       "      <td>[]</td>\n",
       "      <td>[]</td>\n",
       "      <td>2016-04-29</td>\n",
       "      <td>0</td>\n",
       "      <td>200.0</td>\n",
       "      <td>[]</td>\n",
       "      <td>Released</td>\n",
       "      <td>NaN</td>\n",
       "      <td>The Secret</td>\n",
       "      <td>0.0</td>\n",
       "      <td>0</td>\n",
       "    </tr>\n",
       "    <tr>\n",
       "      <th>3855</th>\n",
       "      <td>3500000</td>\n",
       "      <td>[{\"id\": 99, \"name\": \"Documentary\"}]</td>\n",
       "      <td>http://www.timetochoose.com</td>\n",
       "      <td>370662</td>\n",
       "      <td>[{\"id\": 2210, \"name\": \"climate change\"}, {\"id\"...</td>\n",
       "      <td>en</td>\n",
       "      <td>Time to Choose</td>\n",
       "      <td>Academy Award® winning director Charles Fergus...</td>\n",
       "      <td>1.618138</td>\n",
       "      <td>[{\"name\": \"Representational Pictures\", \"id\": 8...</td>\n",
       "      <td>[{\"iso_3166_1\": \"US\", \"name\": \"United States o...</td>\n",
       "      <td>2015-09-04</td>\n",
       "      <td>0</td>\n",
       "      <td>100.0</td>\n",
       "      <td>[{\"iso_639_1\": \"en\", \"name\": \"English\"}]</td>\n",
       "      <td>Released</td>\n",
       "      <td>Climate change for good.</td>\n",
       "      <td>Time to Choose</td>\n",
       "      <td>0.0</td>\n",
       "      <td>0</td>\n",
       "    </tr>\n",
       "  </tbody>\n",
       "</table>\n",
       "</div>"
      ],
      "text/plain": [
       "       budget                                             genres  \\\n",
       "1464        0  [{\"id\": 18, \"name\": \"Drama\"}, {\"id\": 80, \"name...   \n",
       "3669        0  [{\"id\": 35, \"name\": \"Comedy\"}, {\"id\": 18, \"nam...   \n",
       "3670        0                  [{\"id\": 10751, \"name\": \"Family\"}]   \n",
       "3852        0                      [{\"id\": 18, \"name\": \"Drama\"}]   \n",
       "3855  3500000                [{\"id\": 99, \"name\": \"Documentary\"}]   \n",
       "\n",
       "                           homepage      id  \\\n",
       "1464                            NaN  310706   \n",
       "3669  http://www.romeothemovie.com/  113406   \n",
       "3670                            NaN  447027   \n",
       "3852                            NaN  395766   \n",
       "3855    http://www.timetochoose.com  370662   \n",
       "\n",
       "                                               keywords original_language  \\\n",
       "1464                                                 []                en   \n",
       "3669                                                 []                en   \n",
       "3670                                                 []                en   \n",
       "3852              [{\"id\": 11162, \"name\": \"miniseries\"}]                en   \n",
       "3855  [{\"id\": 2210, \"name\": \"climate change\"}, {\"id\"...                en   \n",
       "\n",
       "            original_title                                           overview  \\\n",
       "1464   Black Water Transit  In this action thriller set in post-Katrina Ne...   \n",
       "3669  Should've Been Romeo  A self-centered, middle-aged pitchman for a po...   \n",
       "3670       Running Forever  After being estranged since her mother's death...   \n",
       "3852            The Secret  The Secret is the story of a real-life double ...   \n",
       "3855        Time to Choose  Academy Award® winning director Charles Fergus...   \n",
       "\n",
       "      popularity                               production_companies  \\\n",
       "1464    0.126738             [{\"name\": \"Capitol Films\", \"id\": 826}]   \n",
       "3669    0.407030       [{\"name\": \"Phillybrook Films\", \"id\": 65147}]   \n",
       "3670    0.028756    [{\"name\": \"New Kingdom Pictures\", \"id\": 41671}]   \n",
       "3852    0.042346                                                 []   \n",
       "3855    1.618138  [{\"name\": \"Representational Pictures\", \"id\": 8...   \n",
       "\n",
       "                                   production_countries release_date  revenue  \\\n",
       "1464  [{\"iso_3166_1\": \"US\", \"name\": \"United States o...   2009-05-13        0   \n",
       "3669  [{\"iso_3166_1\": \"US\", \"name\": \"United States o...   2012-04-28        0   \n",
       "3670  [{\"iso_3166_1\": \"US\", \"name\": \"United States o...   2015-10-27        0   \n",
       "3852                                                 []   2016-04-29        0   \n",
       "3855  [{\"iso_3166_1\": \"US\", \"name\": \"United States o...   2015-09-04        0   \n",
       "\n",
       "      runtime                          spoken_languages    status  \\\n",
       "1464    100.0  [{\"iso_639_1\": \"en\", \"name\": \"English\"}]  Released   \n",
       "3669      0.0  [{\"iso_639_1\": \"en\", \"name\": \"English\"}]  Released   \n",
       "3670     88.0                                        []  Released   \n",
       "3852    200.0                                        []  Released   \n",
       "3855    100.0  [{\"iso_639_1\": \"en\", \"name\": \"English\"}]  Released   \n",
       "\n",
       "                                           tagline                 title  \\\n",
       "1464                                           NaN   Black Water Transit   \n",
       "3669  Even Shakespeare didn't see this one coming.  Should've Been Romeo   \n",
       "3670                                           NaN       Running Forever   \n",
       "3852                                           NaN            The Secret   \n",
       "3855                      Climate change for good.        Time to Choose   \n",
       "\n",
       "      vote_average  vote_count  \n",
       "1464           0.0           0  \n",
       "3669           0.0           0  \n",
       "3670           0.0           0  \n",
       "3852           0.0           0  \n",
       "3855           0.0           0  "
      ]
     },
     "execution_count": 28,
     "metadata": {},
     "output_type": "execute_result"
    }
   ],
   "source": [
    "tmdb.query('vote_average ==0').head()"
   ]
  },
  {
   "cell_type": "code",
   "execution_count": 29,
   "id": "00e1b0e7",
   "metadata": {},
   "outputs": [
    {
     "data": {
      "text/html": [
       "<div>\n",
       "<style scoped>\n",
       "    .dataframe tbody tr th:only-of-type {\n",
       "        vertical-align: middle;\n",
       "    }\n",
       "\n",
       "    .dataframe tbody tr th {\n",
       "        vertical-align: top;\n",
       "    }\n",
       "\n",
       "    .dataframe thead th {\n",
       "        text-align: right;\n",
       "    }\n",
       "</style>\n",
       "<table border=\"1\" class=\"dataframe\">\n",
       "  <thead>\n",
       "    <tr style=\"text-align: right;\">\n",
       "      <th></th>\n",
       "      <th>budget</th>\n",
       "      <th>genres</th>\n",
       "      <th>homepage</th>\n",
       "      <th>id</th>\n",
       "      <th>keywords</th>\n",
       "      <th>original_language</th>\n",
       "      <th>original_title</th>\n",
       "      <th>overview</th>\n",
       "      <th>popularity</th>\n",
       "      <th>production_companies</th>\n",
       "      <th>production_countries</th>\n",
       "      <th>release_date</th>\n",
       "      <th>revenue</th>\n",
       "      <th>runtime</th>\n",
       "      <th>spoken_languages</th>\n",
       "      <th>status</th>\n",
       "      <th>tagline</th>\n",
       "      <th>title</th>\n",
       "      <th>vote_average</th>\n",
       "      <th>vote_count</th>\n",
       "    </tr>\n",
       "  </thead>\n",
       "  <tbody>\n",
       "    <tr>\n",
       "      <th>3519</th>\n",
       "      <td>0</td>\n",
       "      <td>[{\"id\": 35, \"name\": \"Comedy\"}]</td>\n",
       "      <td>NaN</td>\n",
       "      <td>89861</td>\n",
       "      <td>[{\"id\": 131, \"name\": \"italy\"}, {\"id\": 8250, \"n...</td>\n",
       "      <td>en</td>\n",
       "      <td>Stiff Upper Lips</td>\n",
       "      <td>Stiff Upper Lips is a broad parody of British ...</td>\n",
       "      <td>0.356495</td>\n",
       "      <td>[]</td>\n",
       "      <td>[{\"iso_3166_1\": \"GB\", \"name\": \"United Kingdom\"...</td>\n",
       "      <td>1998-06-12</td>\n",
       "      <td>0</td>\n",
       "      <td>99.0</td>\n",
       "      <td>[{\"iso_639_1\": \"en\", \"name\": \"English\"}]</td>\n",
       "      <td>Released</td>\n",
       "      <td>NaN</td>\n",
       "      <td>Stiff Upper Lips</td>\n",
       "      <td>10.0</td>\n",
       "      <td>1</td>\n",
       "    </tr>\n",
       "    <tr>\n",
       "      <th>4045</th>\n",
       "      <td>0</td>\n",
       "      <td>[{\"id\": 35, \"name\": \"Comedy\"}, {\"id\": 18, \"nam...</td>\n",
       "      <td>NaN</td>\n",
       "      <td>78373</td>\n",
       "      <td>[{\"id\": 1415, \"name\": \"small town\"}, {\"id\": 15...</td>\n",
       "      <td>en</td>\n",
       "      <td>Dancer, Texas Pop. 81</td>\n",
       "      <td>Four guys, best friends, have grown up togethe...</td>\n",
       "      <td>0.376662</td>\n",
       "      <td>[{\"name\": \"HSX Films\", \"id\": 4714}, {\"name\": \"...</td>\n",
       "      <td>[{\"iso_3166_1\": \"US\", \"name\": \"United States o...</td>\n",
       "      <td>1998-05-01</td>\n",
       "      <td>565592</td>\n",
       "      <td>97.0</td>\n",
       "      <td>[{\"iso_639_1\": \"en\", \"name\": \"English\"}]</td>\n",
       "      <td>Released</td>\n",
       "      <td>in the middle of nowhere they had everything</td>\n",
       "      <td>Dancer, Texas Pop. 81</td>\n",
       "      <td>10.0</td>\n",
       "      <td>1</td>\n",
       "    </tr>\n",
       "    <tr>\n",
       "      <th>4247</th>\n",
       "      <td>1</td>\n",
       "      <td>[{\"id\": 10749, \"name\": \"Romance\"}, {\"id\": 35, ...</td>\n",
       "      <td>NaN</td>\n",
       "      <td>361505</td>\n",
       "      <td>[]</td>\n",
       "      <td>en</td>\n",
       "      <td>Me You and Five Bucks</td>\n",
       "      <td>A womanizing yet lovable loser, Charlie, a wai...</td>\n",
       "      <td>0.094105</td>\n",
       "      <td>[]</td>\n",
       "      <td>[]</td>\n",
       "      <td>2015-07-07</td>\n",
       "      <td>0</td>\n",
       "      <td>90.0</td>\n",
       "      <td>[]</td>\n",
       "      <td>Released</td>\n",
       "      <td>A story about second, second chances</td>\n",
       "      <td>Me You and Five Bucks</td>\n",
       "      <td>10.0</td>\n",
       "      <td>2</td>\n",
       "    </tr>\n",
       "    <tr>\n",
       "      <th>4662</th>\n",
       "      <td>0</td>\n",
       "      <td>[{\"id\": 35, \"name\": \"Comedy\"}]</td>\n",
       "      <td>NaN</td>\n",
       "      <td>40963</td>\n",
       "      <td>[{\"id\": 10183, \"name\": \"independent film\"}]</td>\n",
       "      <td>en</td>\n",
       "      <td>Little Big Top</td>\n",
       "      <td>An aging out of work clown returns to his smal...</td>\n",
       "      <td>0.092100</td>\n",
       "      <td>[{\"name\": \"Fly High Films\", \"id\": 24248}]</td>\n",
       "      <td>[{\"iso_3166_1\": \"US\", \"name\": \"United States o...</td>\n",
       "      <td>2006-01-01</td>\n",
       "      <td>0</td>\n",
       "      <td>0.0</td>\n",
       "      <td>[{\"iso_639_1\": \"en\", \"name\": \"English\"}]</td>\n",
       "      <td>Rumored</td>\n",
       "      <td>NaN</td>\n",
       "      <td>Little Big Top</td>\n",
       "      <td>10.0</td>\n",
       "      <td>1</td>\n",
       "    </tr>\n",
       "  </tbody>\n",
       "</table>\n",
       "</div>"
      ],
      "text/plain": [
       "      budget                                             genres homepage  \\\n",
       "3519       0                     [{\"id\": 35, \"name\": \"Comedy\"}]      NaN   \n",
       "4045       0  [{\"id\": 35, \"name\": \"Comedy\"}, {\"id\": 18, \"nam...      NaN   \n",
       "4247       1  [{\"id\": 10749, \"name\": \"Romance\"}, {\"id\": 35, ...      NaN   \n",
       "4662       0                     [{\"id\": 35, \"name\": \"Comedy\"}]      NaN   \n",
       "\n",
       "          id                                           keywords  \\\n",
       "3519   89861  [{\"id\": 131, \"name\": \"italy\"}, {\"id\": 8250, \"n...   \n",
       "4045   78373  [{\"id\": 1415, \"name\": \"small town\"}, {\"id\": 15...   \n",
       "4247  361505                                                 []   \n",
       "4662   40963        [{\"id\": 10183, \"name\": \"independent film\"}]   \n",
       "\n",
       "     original_language         original_title  \\\n",
       "3519                en       Stiff Upper Lips   \n",
       "4045                en  Dancer, Texas Pop. 81   \n",
       "4247                en  Me You and Five Bucks   \n",
       "4662                en         Little Big Top   \n",
       "\n",
       "                                               overview  popularity  \\\n",
       "3519  Stiff Upper Lips is a broad parody of British ...    0.356495   \n",
       "4045  Four guys, best friends, have grown up togethe...    0.376662   \n",
       "4247  A womanizing yet lovable loser, Charlie, a wai...    0.094105   \n",
       "4662  An aging out of work clown returns to his smal...    0.092100   \n",
       "\n",
       "                                   production_companies  \\\n",
       "3519                                                 []   \n",
       "4045  [{\"name\": \"HSX Films\", \"id\": 4714}, {\"name\": \"...   \n",
       "4247                                                 []   \n",
       "4662          [{\"name\": \"Fly High Films\", \"id\": 24248}]   \n",
       "\n",
       "                                   production_countries release_date  revenue  \\\n",
       "3519  [{\"iso_3166_1\": \"GB\", \"name\": \"United Kingdom\"...   1998-06-12        0   \n",
       "4045  [{\"iso_3166_1\": \"US\", \"name\": \"United States o...   1998-05-01   565592   \n",
       "4247                                                 []   2015-07-07        0   \n",
       "4662  [{\"iso_3166_1\": \"US\", \"name\": \"United States o...   2006-01-01        0   \n",
       "\n",
       "      runtime                          spoken_languages    status  \\\n",
       "3519     99.0  [{\"iso_639_1\": \"en\", \"name\": \"English\"}]  Released   \n",
       "4045     97.0  [{\"iso_639_1\": \"en\", \"name\": \"English\"}]  Released   \n",
       "4247     90.0                                        []  Released   \n",
       "4662      0.0  [{\"iso_639_1\": \"en\", \"name\": \"English\"}]   Rumored   \n",
       "\n",
       "                                           tagline                  title  \\\n",
       "3519                                           NaN       Stiff Upper Lips   \n",
       "4045  in the middle of nowhere they had everything  Dancer, Texas Pop. 81   \n",
       "4247          A story about second, second chances  Me You and Five Bucks   \n",
       "4662                                           NaN         Little Big Top   \n",
       "\n",
       "      vote_average  vote_count  \n",
       "3519          10.0           1  \n",
       "4045          10.0           1  \n",
       "4247          10.0           2  \n",
       "4662          10.0           1  "
      ]
     },
     "execution_count": 29,
     "metadata": {},
     "output_type": "execute_result"
    }
   ],
   "source": [
    "tmdb.query('vote_average == 10').head()"
   ]
  },
  {
   "cell_type": "code",
   "execution_count": 25,
   "id": "1c3dd399",
   "metadata": {},
   "outputs": [],
   "source": [
    "tmdb_10 = tmdb.query('vote_count >= 10')"
   ]
  },
  {
   "cell_type": "code",
   "execution_count": 26,
   "id": "d085bc41",
   "metadata": {},
   "outputs": [
    {
     "data": {
      "text/html": [
       "<div>\n",
       "<style scoped>\n",
       "    .dataframe tbody tr th:only-of-type {\n",
       "        vertical-align: middle;\n",
       "    }\n",
       "\n",
       "    .dataframe tbody tr th {\n",
       "        vertical-align: top;\n",
       "    }\n",
       "\n",
       "    .dataframe thead th {\n",
       "        text-align: right;\n",
       "    }\n",
       "</style>\n",
       "<table border=\"1\" class=\"dataframe\">\n",
       "  <thead>\n",
       "    <tr style=\"text-align: right;\">\n",
       "      <th></th>\n",
       "      <th>budget</th>\n",
       "      <th>id</th>\n",
       "      <th>popularity</th>\n",
       "      <th>revenue</th>\n",
       "      <th>runtime</th>\n",
       "      <th>vote_average</th>\n",
       "      <th>vote_count</th>\n",
       "    </tr>\n",
       "  </thead>\n",
       "  <tbody>\n",
       "    <tr>\n",
       "      <th>count</th>\n",
       "      <td>4.392000e+03</td>\n",
       "      <td>4392.000000</td>\n",
       "      <td>4392.000000</td>\n",
       "      <td>4.392000e+03</td>\n",
       "      <td>4391.000000</td>\n",
       "      <td>4392.000000</td>\n",
       "      <td>4392.000000</td>\n",
       "    </tr>\n",
       "    <tr>\n",
       "      <th>mean</th>\n",
       "      <td>3.164545e+07</td>\n",
       "      <td>49204.119991</td>\n",
       "      <td>23.448815</td>\n",
       "      <td>8.990969e+07</td>\n",
       "      <td>108.430881</td>\n",
       "      <td>6.226935</td>\n",
       "      <td>754.441712</td>\n",
       "    </tr>\n",
       "    <tr>\n",
       "      <th>std</th>\n",
       "      <td>4.162736e+07</td>\n",
       "      <td>80136.249777</td>\n",
       "      <td>32.592158</td>\n",
       "      <td>1.682870e+08</td>\n",
       "      <td>21.014719</td>\n",
       "      <td>0.893215</td>\n",
       "      <td>1272.263761</td>\n",
       "    </tr>\n",
       "    <tr>\n",
       "      <th>min</th>\n",
       "      <td>0.000000e+00</td>\n",
       "      <td>5.000000</td>\n",
       "      <td>0.011697</td>\n",
       "      <td>0.000000e+00</td>\n",
       "      <td>0.000000</td>\n",
       "      <td>1.900000</td>\n",
       "      <td>10.000000</td>\n",
       "    </tr>\n",
       "    <tr>\n",
       "      <th>25%</th>\n",
       "      <td>2.895962e+06</td>\n",
       "      <td>8403.500000</td>\n",
       "      <td>6.512166</td>\n",
       "      <td>1.365700e+04</td>\n",
       "      <td>95.000000</td>\n",
       "      <td>5.700000</td>\n",
       "      <td>83.750000</td>\n",
       "    </tr>\n",
       "    <tr>\n",
       "      <th>50%</th>\n",
       "      <td>1.700000e+07</td>\n",
       "      <td>13084.500000</td>\n",
       "      <td>14.827784</td>\n",
       "      <td>2.685837e+07</td>\n",
       "      <td>105.000000</td>\n",
       "      <td>6.300000</td>\n",
       "      <td>288.500000</td>\n",
       "    </tr>\n",
       "    <tr>\n",
       "      <th>75%</th>\n",
       "      <td>4.200000e+07</td>\n",
       "      <td>46831.250000</td>\n",
       "      <td>30.258282</td>\n",
       "      <td>1.022818e+08</td>\n",
       "      <td>118.500000</td>\n",
       "      <td>6.800000</td>\n",
       "      <td>831.000000</td>\n",
       "    </tr>\n",
       "    <tr>\n",
       "      <th>max</th>\n",
       "      <td>3.800000e+08</td>\n",
       "      <td>417859.000000</td>\n",
       "      <td>875.581305</td>\n",
       "      <td>2.787965e+09</td>\n",
       "      <td>338.000000</td>\n",
       "      <td>8.500000</td>\n",
       "      <td>13752.000000</td>\n",
       "    </tr>\n",
       "  </tbody>\n",
       "</table>\n",
       "</div>"
      ],
      "text/plain": [
       "             budget             id   popularity       revenue      runtime  \\\n",
       "count  4.392000e+03    4392.000000  4392.000000  4.392000e+03  4391.000000   \n",
       "mean   3.164545e+07   49204.119991    23.448815  8.990969e+07   108.430881   \n",
       "std    4.162736e+07   80136.249777    32.592158  1.682870e+08    21.014719   \n",
       "min    0.000000e+00       5.000000     0.011697  0.000000e+00     0.000000   \n",
       "25%    2.895962e+06    8403.500000     6.512166  1.365700e+04    95.000000   \n",
       "50%    1.700000e+07   13084.500000    14.827784  2.685837e+07   105.000000   \n",
       "75%    4.200000e+07   46831.250000    30.258282  1.022818e+08   118.500000   \n",
       "max    3.800000e+08  417859.000000   875.581305  2.787965e+09   338.000000   \n",
       "\n",
       "       vote_average    vote_count  \n",
       "count   4392.000000   4392.000000  \n",
       "mean       6.226935    754.441712  \n",
       "std        0.893215   1272.263761  \n",
       "min        1.900000     10.000000  \n",
       "25%        5.700000     83.750000  \n",
       "50%        6.300000    288.500000  \n",
       "75%        6.800000    831.000000  \n",
       "max        8.500000  13752.000000  "
      ]
     },
     "execution_count": 26,
     "metadata": {},
     "output_type": "execute_result"
    }
   ],
   "source": [
    "tmdb_10.describe()"
   ]
  },
  {
   "cell_type": "code",
   "execution_count": 34,
   "id": "0e760195",
   "metadata": {},
   "outputs": [
    {
     "name": "stderr",
     "output_type": "stream",
     "text": [
      "C:\\Users\\lucas\\AppData\\Local\\Temp\\ipykernel_21788\\1210962159.py:1: UserWarning: \n",
      "\n",
      "`distplot` is a deprecated function and will be removed in seaborn v0.14.0.\n",
      "\n",
      "Please adapt your code to use either `displot` (a figure-level function with\n",
      "similar flexibility) or `histplot` (an axes-level function for histograms).\n",
      "\n",
      "For a guide to updating your code to use the new functions, please see\n",
      "https://gist.github.com/mwaskom/de44147ed2974457ad6372750bbe5751\n",
      "\n",
      "  ax = sns.distplot(tmdb_10.vote_average)\n"
     ]
    },
    {
     "data": {
      "text/plain": [
       "Text(0.5, 1.0, 'Distribuição de nota média com 10 ou mais votos')"
      ]
     },
     "execution_count": 34,
     "metadata": {},
     "output_type": "execute_result"
    },
    {
     "data": {
      "image/png": "[encoded data removed]",
      "text/plain": [
       "<Figure size 640x480 with 1 Axes>"
      ]
     },
     "metadata": {},
     "output_type": "display_data"
    }
   ],
   "source": [
    "ax = sns.distplot(tmdb_10.vote_average)\n",
    "ax.set_xlabel('Nota média')\n",
    "ax.set_title('Distribuição de nota média com 10 ou mais votos')"
   ]
  },
  {
   "cell_type": "code",
   "execution_count": 33,
   "id": "48ebfed6",
   "metadata": {},
   "outputs": [
    {
     "name": "stderr",
     "output_type": "stream",
     "text": [
      "C:\\Users\\lucas\\AppData\\Local\\Temp\\ipykernel_21788\\2832437944.py:1: UserWarning: \n",
      "\n",
      "`distplot` is a deprecated function and will be removed in seaborn v0.14.0.\n",
      "\n",
      "Please adapt your code to use either `displot` (a figure-level function with\n",
      "similar flexibility) or `histplot` (an axes-level function for histograms).\n",
      "\n",
      "For a guide to updating your code to use the new functions, please see\n",
      "https://gist.github.com/mwaskom/de44147ed2974457ad6372750bbe5751\n",
      "\n",
      "  ax = sns.distplot(tmdb_10.vote_average, norm_hist=False, kde=False)\n"
     ]
    },
    {
     "data": {
      "text/plain": [
       "Text(0.5, 1.0, 'Distribuição de nota média com 10 ou mais votos')"
      ]
     },
     "execution_count": 33,
     "metadata": {},
     "output_type": "execute_result"
    },
    {
     "data": {
      "image/png": "[encoded data removed]",
      "text/plain": [
       "<Figure size 640x480 with 1 Axes>"
      ]
     },
     "metadata": {},
     "output_type": "display_data"
    }
   ],
   "source": [
    "ax = sns.distplot(tmdb_10.vote_average, norm_hist=False, kde=False)\n",
    "ax.set_xlabel('Nota média')\n",
    "ax.set_ylabel('Frequência')\n",
    "ax.set_title('Distribuição de nota média com 10 ou mais votos')"
   ]
  },
  {
   "cell_type": "code",
   "execution_count": 32,
   "id": "d214b556",
   "metadata": {},
   "outputs": [
    {
     "data": {
      "text/plain": [
       "Text(0.5, 0, 'Nota média')"
      ]
     },
     "execution_count": 32,
     "metadata": {},
     "output_type": "execute_result"
    },
    {
     "data": {
      "image/png": "[encoded data removed]",
      "text/plain": [
       "<Figure size 640x480 with 1 Axes>"
      ]
     },
     "metadata": {},
     "output_type": "display_data"
    }
   ],
   "source": [
    "ax = sns.boxplot(x=tmdb_10.vote_average)\n",
    "ax.set_title('Distribuição de nota média com 10 ou mais votos')\n",
    "ax.set_xlabel('Nota média')"
   ]
  },
  {
   "cell_type": "code",
   "execution_count": 35,
   "id": "180a5dbd",
   "metadata": {},
   "outputs": [
    {
     "data": {
      "text/html": [
       "<div>\n",
       "<style scoped>\n",
       "    .dataframe tbody tr th:only-of-type {\n",
       "        vertical-align: middle;\n",
       "    }\n",
       "\n",
       "    .dataframe tbody tr th {\n",
       "        vertical-align: top;\n",
       "    }\n",
       "\n",
       "    .dataframe thead th {\n",
       "        text-align: right;\n",
       "    }\n",
       "</style>\n",
       "<table border=\"1\" class=\"dataframe\">\n",
       "  <thead>\n",
       "    <tr style=\"text-align: right;\">\n",
       "      <th></th>\n",
       "      <th>userId</th>\n",
       "      <th>movieId</th>\n",
       "      <th>rating</th>\n",
       "      <th>timestamp</th>\n",
       "    </tr>\n",
       "  </thead>\n",
       "  <tbody>\n",
       "    <tr>\n",
       "      <th>0</th>\n",
       "      <td>1</td>\n",
       "      <td>1</td>\n",
       "      <td>4.0</td>\n",
       "      <td>964982703</td>\n",
       "    </tr>\n",
       "    <tr>\n",
       "      <th>1</th>\n",
       "      <td>1</td>\n",
       "      <td>3</td>\n",
       "      <td>4.0</td>\n",
       "      <td>964981247</td>\n",
       "    </tr>\n",
       "    <tr>\n",
       "      <th>2</th>\n",
       "      <td>1</td>\n",
       "      <td>6</td>\n",
       "      <td>4.0</td>\n",
       "      <td>964982224</td>\n",
       "    </tr>\n",
       "    <tr>\n",
       "      <th>3</th>\n",
       "      <td>1</td>\n",
       "      <td>47</td>\n",
       "      <td>5.0</td>\n",
       "      <td>964983815</td>\n",
       "    </tr>\n",
       "    <tr>\n",
       "      <th>4</th>\n",
       "      <td>1</td>\n",
       "      <td>50</td>\n",
       "      <td>5.0</td>\n",
       "      <td>964982931</td>\n",
       "    </tr>\n",
       "  </tbody>\n",
       "</table>\n",
       "</div>"
      ],
      "text/plain": [
       "   userId  movieId  rating  timestamp\n",
       "0       1        1     4.0  964982703\n",
       "1       1        3     4.0  964981247\n",
       "2       1        6     4.0  964982224\n",
       "3       1       47     5.0  964983815\n",
       "4       1       50     5.0  964982931"
      ]
     },
     "execution_count": 35,
     "metadata": {},
     "output_type": "execute_result"
    }
   ],
   "source": [
    "rating.head()"
   ]
  },
  {
   "cell_type": "code",
   "execution_count": 39,
   "id": "e179a48d",
   "metadata": {},
   "outputs": [
    {
     "data": {
      "text/plain": [
       "movieId\n",
       "1    3.920930\n",
       "2    3.431818\n",
       "3    3.259615\n",
       "4    2.357143\n",
       "5    3.071429\n",
       "Name: rating, dtype: float64"
      ]
     },
     "execution_count": 39,
     "metadata": {},
     "output_type": "execute_result"
    }
   ],
   "source": [
    "nota_media = rating.groupby('movieId').mean()['rating']\n",
    "nota_media.head()"
   ]
  },
  {
   "cell_type": "code",
   "execution_count": 41,
   "id": "78ff07e9",
   "metadata": {},
   "outputs": [
    {
     "name": "stderr",
     "output_type": "stream",
     "text": [
      "C:\\Users\\lucas\\AppData\\Local\\Temp\\ipykernel_21788\\1817473010.py:1: UserWarning: \n",
      "\n",
      "`distplot` is a deprecated function and will be removed in seaborn v0.14.0.\n",
      "\n",
      "Please adapt your code to use either `displot` (a figure-level function with\n",
      "similar flexibility) or `histplot` (an axes-level function for histograms).\n",
      "\n",
      "For a guide to updating your code to use the new functions, please see\n",
      "https://gist.github.com/mwaskom/de44147ed2974457ad6372750bbe5751\n",
      "\n",
      "  ax = sns.distplot(nota_media.values)\n"
     ]
    },
    {
     "data": {
      "text/plain": [
       "Text(0.5, 1.0, 'Distribuição de nota média MovieLens')"
      ]
     },
     "execution_count": 41,
     "metadata": {},
     "output_type": "execute_result"
    },
    {
     "data": {
      "image/png": "[encoded data removed]",
      "text/plain": [
       "<Figure size 640x480 with 1 Axes>"
      ]
     },
     "metadata": {},
     "output_type": "display_data"
    }
   ],
   "source": [
    "ax = sns.distplot(nota_media.values)\n",
    "ax.set_xlabel('Nota média')\n",
    "ax.set_title('Distribuição de nota média MovieLens')"
   ]
  },
  {
   "cell_type": "code",
   "execution_count": 48,
   "id": "98f12ba1",
   "metadata": {},
   "outputs": [
    {
     "data": {
      "text/plain": [
       "Int64Index([     1,      2,      3,      5,      6,      7,      9,     10,\n",
       "                11,     12,\n",
       "            ...\n",
       "            166461, 166528, 166643, 168250, 168252, 174055, 176371, 177765,\n",
       "            179819, 187593],\n",
       "           dtype='int64', name='movieId', length=2269)"
      ]
     },
     "execution_count": 48,
     "metadata": {},
     "output_type": "execute_result"
    }
   ],
   "source": [
    "filmes_10 = rating.groupby('movieId').count().query('rating >= 10').index\n",
    "filmes_10"
   ]
  },
  {
   "cell_type": "code",
   "execution_count": 51,
   "id": "11eef269",
   "metadata": {},
   "outputs": [
    {
     "data": {
      "text/plain": [
       "movieId\n",
       "1    3.920930\n",
       "2    3.431818\n",
       "3    3.259615\n",
       "5    3.071429\n",
       "6    3.946078\n",
       "Name: rating, dtype: float64"
      ]
     },
     "execution_count": 51,
     "metadata": {},
     "output_type": "execute_result"
    }
   ],
   "source": [
    "notas_media_10 = nota_media.loc[filmes_10]\n",
    "notas_media_10.head()"
   ]
  },
  {
   "cell_type": "code",
   "execution_count": 54,
   "id": "3e875a3f",
   "metadata": {},
   "outputs": [
    {
     "name": "stderr",
     "output_type": "stream",
     "text": [
      "C:\\Users\\lucas\\AppData\\Local\\Temp\\ipykernel_21788\\1477892049.py:1: UserWarning: \n",
      "\n",
      "`distplot` is a deprecated function and will be removed in seaborn v0.14.0.\n",
      "\n",
      "Please adapt your code to use either `displot` (a figure-level function with\n",
      "similar flexibility) or `histplot` (an axes-level function for histograms).\n",
      "\n",
      "For a guide to updating your code to use the new functions, please see\n",
      "https://gist.github.com/mwaskom/de44147ed2974457ad6372750bbe5751\n",
      "\n",
      "  ax = sns.distplot(notas_media_10.values)\n"
     ]
    },
    {
     "data": {
      "text/plain": [
       "Text(0.5, 1.0, 'Distribuição de nota média MovieLens')"
      ]
     },
     "execution_count": 54,
     "metadata": {},
     "output_type": "execute_result"
    },
    {
     "data": {
      "image/png": "[encoded data removed]",
      "text/plain": [
       "<Figure size 640x480 with 1 Axes>"
      ]
     },
     "metadata": {},
     "output_type": "display_data"
    }
   ],
   "source": [
    "ax = sns.distplot(notas_media_10.values)\n",
    "ax.set_xlabel('Nota média')\n",
    "ax.set_title('Distribuição de nota média MovieLens')"
   ]
  },
  {
   "cell_type": "code",
   "execution_count": 55,
   "id": "dd436d2c",
   "metadata": {},
   "outputs": [
    {
     "data": {
      "text/plain": [
       "Text(0.5, 0, 'Nota média')"
      ]
     },
     "execution_count": 55,
     "metadata": {},
     "output_type": "execute_result"
    },
    {
     "data": {
      "image/png": "[encoded data removed]",
      "text/plain": [
       "<Figure size 640x480 with 1 Axes>"
      ]
     },
     "metadata": {},
     "output_type": "display_data"
    }
   ],
   "source": [
    "ax = sns.boxplot(x=notas_media_10.values)\n",
    "ax.set_title('Distribuição de nota média com 10 ou mais votos')\n",
    "ax.set_xlabel('Nota média')"
   ]
  },
  {
   "cell_type": "code",
   "execution_count": 56,
   "id": "a5f14e05",
   "metadata": {},
   "outputs": [
    {
     "name": "stderr",
     "output_type": "stream",
     "text": [
      "C:\\Users\\lucas\\AppData\\Local\\Temp\\ipykernel_21788\\4090734204.py:1: UserWarning: \n",
      "\n",
      "`distplot` is a deprecated function and will be removed in seaborn v0.14.0.\n",
      "\n",
      "Please adapt your code to use either `displot` (a figure-level function with\n",
      "similar flexibility) or `histplot` (an axes-level function for histograms).\n",
      "\n",
      "For a guide to updating your code to use the new functions, please see\n",
      "https://gist.github.com/mwaskom/de44147ed2974457ad6372750bbe5751\n",
      "\n",
      "  ax = sns.distplot(notas_media_10.values, hist_kws = {'cumulative':True}, kde_kws = {'cumulative':True})\n"
     ]
    },
    {
     "data": {
      "text/plain": [
       "Text(0.5, 1.0, 'Distribuição de nota média MovieLens')"
      ]
     },
     "execution_count": 56,
     "metadata": {},
     "output_type": "execute_result"
    },
    {
     "data": {
      "image/png": "[encoded data removed]",
      "text/plain": [
       "<Figure size 640x480 with 1 Axes>"
      ]
     },
     "metadata": {},
     "output_type": "display_data"
    }
   ],
   "source": [
    "ax = sns.distplot(notas_media_10.values, hist_kws = {'cumulative':True}, kde_kws = {'cumulative':True})\n",
    "ax.set_xlabel('Nota média')\n",
    "ax.set_ylabel('% acumulada de filmes')\n",
    "ax.set_title('Distribuição de nota média MovieLens')"
   ]
  },
  {
   "cell_type": "code",
   "execution_count": 59,
   "id": "573137a6",
   "metadata": {},
   "outputs": [
    {
     "name": "stderr",
     "output_type": "stream",
     "text": [
      "C:\\Users\\lucas\\AppData\\Local\\Temp\\ipykernel_21788\\4090969767.py:1: UserWarning: \n",
      "\n",
      "`distplot` is a deprecated function and will be removed in seaborn v0.14.0.\n",
      "\n",
      "Please adapt your code to use either `displot` (a figure-level function with\n",
      "similar flexibility) or `histplot` (an axes-level function for histograms).\n",
      "\n",
      "For a guide to updating your code to use the new functions, please see\n",
      "https://gist.github.com/mwaskom/de44147ed2974457ad6372750bbe5751\n",
      "\n",
      "  ax = sns.distplot(tmdb_10.vote_average, hist_kws = {'cumulative':True}, kde_kws = {'cumulative':True})\n"
     ]
    },
    {
     "data": {
      "text/plain": [
       "Text(0.5, 1.0, 'Distribuição de nota média TMDB')"
      ]
     },
     "execution_count": 59,
     "metadata": {},
     "output_type": "execute_result"
    },
    {
     "data": {
      "image/png": "[encoded data removed]",
      "text/plain": [
       "<Figure size 640x480 with 1 Axes>"
      ]
     },
     "metadata": {},
     "output_type": "display_data"
    }
   ],
   "source": [
    "ax = sns.distplot(tmdb_10.vote_average, hist_kws = {'cumulative':True}, kde_kws = {'cumulative':True})\n",
    "ax.set_xlabel('Nota média')\n",
    "ax.set_ylabel('% acumulada de filmes')\n",
    "ax.set_title('Distribuição de nota média TMDB')"
   ]
  },
  {
   "cell_type": "code",
   "execution_count": 61,
   "id": "43a25afd",
   "metadata": {},
   "outputs": [
    {
     "data": {
      "text/plain": [
       "0       11800\n",
       "1        4500\n",
       "2        4466\n",
       "3        9106\n",
       "4        2124\n",
       "        ...  \n",
       "4790       17\n",
       "4792       63\n",
       "4796      658\n",
       "4798      238\n",
       "4802       16\n",
       "Name: vote_count, Length: 4392, dtype: int64"
      ]
     },
     "execution_count": 61,
     "metadata": {},
     "output_type": "execute_result"
    }
   ],
   "source": [
    "tmdb_10.vote_count"
   ]
  },
  {
   "cell_type": "code",
   "execution_count": 63,
   "id": "b59193c5",
   "metadata": {},
   "outputs": [
    {
     "name": "stderr",
     "output_type": "stream",
     "text": [
      "C:\\Users\\lucas\\AppData\\Local\\Temp\\ipykernel_21788\\679482412.py:1: UserWarning: \n",
      "\n",
      "`distplot` is a deprecated function and will be removed in seaborn v0.14.0.\n",
      "\n",
      "Please adapt your code to use either `displot` (a figure-level function with\n",
      "similar flexibility) or `histplot` (an axes-level function for histograms).\n",
      "\n",
      "For a guide to updating your code to use the new functions, please see\n",
      "https://gist.github.com/mwaskom/de44147ed2974457ad6372750bbe5751\n",
      "\n",
      "  ax = sns.distplot(tmdb_10.vote_count)\n"
     ]
    },
    {
     "data": {
      "text/plain": [
       "Text(0.5, 1.0, 'Número de votor em filmes no TMDB com 10 ou mais votos')"
      ]
     },
     "execution_count": 63,
     "metadata": {},
     "output_type": "execute_result"
    },
    {
     "data": {
      "image/png": "[encoded data removed]",
      "text/plain": [
       "<Figure size 640x480 with 1 Axes>"
      ]
     },
     "metadata": {},
     "output_type": "display_data"
    }
   ],
   "source": [
    "ax = sns.distplot(tmdb_10.vote_count)\n",
    "ax.set_xlabel('Número de votos')\n",
    "ax.set_title('Número de voto em filmes no TMDB com 10 ou mais votos')"
   ]
  },
  {
   "cell_type": "code",
   "execution_count": 67,
   "id": "2f97f7b1",
   "metadata": {},
   "outputs": [
    {
     "name": "stderr",
     "output_type": "stream",
     "text": [
      "C:\\Users\\lucas\\AppData\\Local\\Temp\\ipykernel_21788\\4225449590.py:1: UserWarning: \n",
      "\n",
      "`distplot` is a deprecated function and will be removed in seaborn v0.14.0.\n",
      "\n",
      "Please adapt your code to use either `displot` (a figure-level function with\n",
      "similar flexibility) or `histplot` (an axes-level function for histograms).\n",
      "\n",
      "For a guide to updating your code to use the new functions, please see\n",
      "https://gist.github.com/mwaskom/de44147ed2974457ad6372750bbe5751\n",
      "\n",
      "  ax = sns.distplot(tmdb.query('budget > 0').budget)\n"
     ]
    },
    {
     "data": {
      "text/plain": [
       "Text(0.5, 1.0, 'Gastos em filmes no TMDB com 10 ou mais votos')"
      ]
     },
     "execution_count": 67,
     "metadata": {},
     "output_type": "execute_result"
    },
    {
     "data": {
      "image/png": "[encoded data removed]",
      "text/plain": [
       "<Figure size 640x480 with 1 Axes>"
      ]
     },
     "metadata": {},
     "output_type": "display_data"
    }
   ],
   "source": [
    "ax = sns.distplot(tmdb.query('budget > 0').budget)\n",
    "ax.set_xlabel('Budget')\n",
    "ax.set_title('Gastos em filmes no TMDB com 10 ou mais votos')"
   ]
  },
  {
   "cell_type": "code",
   "execution_count": 69,
   "id": "dfb8287a",
   "metadata": {},
   "outputs": [
    {
     "data": {
      "text/html": [
       "<div>\n",
       "<style scoped>\n",
       "    .dataframe tbody tr th:only-of-type {\n",
       "        vertical-align: middle;\n",
       "    }\n",
       "\n",
       "    .dataframe tbody tr th {\n",
       "        vertical-align: top;\n",
       "    }\n",
       "\n",
       "    .dataframe thead th {\n",
       "        text-align: right;\n",
       "    }\n",
       "</style>\n",
       "<table border=\"1\" class=\"dataframe\">\n",
       "  <thead>\n",
       "    <tr style=\"text-align: right;\">\n",
       "      <th></th>\n",
       "      <th>budget</th>\n",
       "      <th>genres</th>\n",
       "      <th>homepage</th>\n",
       "      <th>id</th>\n",
       "      <th>keywords</th>\n",
       "      <th>original_language</th>\n",
       "      <th>original_title</th>\n",
       "      <th>overview</th>\n",
       "      <th>popularity</th>\n",
       "      <th>production_companies</th>\n",
       "      <th>production_countries</th>\n",
       "      <th>release_date</th>\n",
       "      <th>revenue</th>\n",
       "      <th>runtime</th>\n",
       "      <th>spoken_languages</th>\n",
       "      <th>status</th>\n",
       "      <th>tagline</th>\n",
       "      <th>title</th>\n",
       "      <th>vote_average</th>\n",
       "      <th>vote_count</th>\n",
       "    </tr>\n",
       "  </thead>\n",
       "  <tbody>\n",
       "    <tr>\n",
       "      <th>4553</th>\n",
       "      <td>0</td>\n",
       "      <td>[]</td>\n",
       "      <td>NaN</td>\n",
       "      <td>380097</td>\n",
       "      <td>[]</td>\n",
       "      <td>en</td>\n",
       "      <td>America Is Still the Place</td>\n",
       "      <td>1971 post civil rights San Francisco seemed li...</td>\n",
       "      <td>0.0</td>\n",
       "      <td>[]</td>\n",
       "      <td>[]</td>\n",
       "      <td>NaN</td>\n",
       "      <td>0</td>\n",
       "      <td>0.0</td>\n",
       "      <td>[]</td>\n",
       "      <td>Released</td>\n",
       "      <td>NaN</td>\n",
       "      <td>America Is Still the Place</td>\n",
       "      <td>0.0</td>\n",
       "      <td>0</td>\n",
       "    </tr>\n",
       "  </tbody>\n",
       "</table>\n",
       "</div>"
      ],
      "text/plain": [
       "      budget genres homepage      id keywords original_language  \\\n",
       "4553       0     []      NaN  380097       []                en   \n",
       "\n",
       "                  original_title  \\\n",
       "4553  America Is Still the Place   \n",
       "\n",
       "                                               overview  popularity  \\\n",
       "4553  1971 post civil rights San Francisco seemed li...         0.0   \n",
       "\n",
       "     production_companies production_countries release_date  revenue  runtime  \\\n",
       "4553                   []                   []          NaN        0      0.0   \n",
       "\n",
       "     spoken_languages    status tagline                       title  \\\n",
       "4553               []  Released     NaN  America Is Still the Place   \n",
       "\n",
       "      vote_average  vote_count  \n",
       "4553           0.0           0  "
      ]
     },
     "execution_count": 69,
     "metadata": {},
     "output_type": "execute_result"
    }
   ],
   "source": [
    "tmdb.query('popularity == 0')"
   ]
  },
  {
   "cell_type": "code",
   "execution_count": 70,
   "id": "b21830f8",
   "metadata": {},
   "outputs": [
    {
     "name": "stderr",
     "output_type": "stream",
     "text": [
      "C:\\Users\\lucas\\AppData\\Local\\Temp\\ipykernel_21788\\3994626426.py:1: UserWarning: \n",
      "\n",
      "`distplot` is a deprecated function and will be removed in seaborn v0.14.0.\n",
      "\n",
      "Please adapt your code to use either `displot` (a figure-level function with\n",
      "similar flexibility) or `histplot` (an axes-level function for histograms).\n",
      "\n",
      "For a guide to updating your code to use the new functions, please see\n",
      "https://gist.github.com/mwaskom/de44147ed2974457ad6372750bbe5751\n",
      "\n",
      "  ax = sns.distplot(tmdb.popularity)\n"
     ]
    },
    {
     "data": {
      "text/plain": [
       "Text(0.5, 1.0, 'Popularidade em filmes no TMDB com 10 ou mais votos')"
      ]
     },
     "execution_count": 70,
     "metadata": {},
     "output_type": "execute_result"
    },
    {
     "data": {
      "image/png": "[encoded data removed]",
      "text/plain": [
       "<Figure size 640x480 with 1 Axes>"
      ]
     },
     "metadata": {},
     "output_type": "display_data"
    }
   ],
   "source": [
    "ax = sns.distplot(tmdb.popularity)\n",
    "ax.set_xlabel('Popularidade')\n",
    "ax.set_title('Popularidade em filmes no TMDB com 10 ou mais votos')"
   ]
  },
  {
   "cell_type": "code",
   "execution_count": 72,
   "id": "fdb141d0",
   "metadata": {},
   "outputs": [
    {
     "data": {
      "text/plain": [
       "2"
      ]
     },
     "execution_count": 72,
     "metadata": {},
     "output_type": "execute_result"
    }
   ],
   "source": [
    "tmdb.runtime.isnull().sum()"
   ]
  },
  {
   "cell_type": "code",
   "execution_count": 71,
   "id": "4fdfe082",
   "metadata": {},
   "outputs": [
    {
     "name": "stderr",
     "output_type": "stream",
     "text": [
      "C:\\Users\\lucas\\AppData\\Local\\Temp\\ipykernel_21788\\2255510719.py:1: UserWarning: \n",
      "\n",
      "`distplot` is a deprecated function and will be removed in seaborn v0.14.0.\n",
      "\n",
      "Please adapt your code to use either `displot` (a figure-level function with\n",
      "similar flexibility) or `histplot` (an axes-level function for histograms).\n",
      "\n",
      "For a guide to updating your code to use the new functions, please see\n",
      "https://gist.github.com/mwaskom/de44147ed2974457ad6372750bbe5751\n",
      "\n",
      "  ax = sns.distplot(tmdb.runtime)\n"
     ]
    },
    {
     "data": {
      "text/plain": [
       "Text(0.5, 1.0, 'Tempo de duração em filmes no TMDB com 10 ou mais votos')"
      ]
     },
     "execution_count": 71,
     "metadata": {},
     "output_type": "execute_result"
    },
    {
     "data": {
      "image/png": "[encoded data removed]",
      "text/plain": [
       "<Figure size 640x480 with 1 Axes>"
      ]
     },
     "metadata": {},
     "output_type": "display_data"
    }
   ],
   "source": [
    "ax = sns.distplot(tmdb.runtime)\n",
    "ax.set_xlabel('Tempo de duração')\n",
    "ax.set_title('Tempo de duração em filmes no TMDB com 10 ou mais votos')"
   ]
  },
  {
   "cell_type": "code",
   "execution_count": 73,
   "id": "cdc9580a",
   "metadata": {},
   "outputs": [
    {
     "data": {
      "text/html": [
       "<div>\n",
       "<style scoped>\n",
       "    .dataframe tbody tr th:only-of-type {\n",
       "        vertical-align: middle;\n",
       "    }\n",
       "\n",
       "    .dataframe tbody tr th {\n",
       "        vertical-align: top;\n",
       "    }\n",
       "\n",
       "    .dataframe thead th {\n",
       "        text-align: right;\n",
       "    }\n",
       "</style>\n",
       "<table border=\"1\" class=\"dataframe\">\n",
       "  <thead>\n",
       "    <tr style=\"text-align: right;\">\n",
       "      <th></th>\n",
       "      <th>budget</th>\n",
       "      <th>genres</th>\n",
       "      <th>homepage</th>\n",
       "      <th>id</th>\n",
       "      <th>keywords</th>\n",
       "      <th>original_language</th>\n",
       "      <th>original_title</th>\n",
       "      <th>overview</th>\n",
       "      <th>popularity</th>\n",
       "      <th>production_companies</th>\n",
       "      <th>production_countries</th>\n",
       "      <th>release_date</th>\n",
       "      <th>revenue</th>\n",
       "      <th>runtime</th>\n",
       "      <th>spoken_languages</th>\n",
       "      <th>status</th>\n",
       "      <th>tagline</th>\n",
       "      <th>title</th>\n",
       "      <th>vote_average</th>\n",
       "      <th>vote_count</th>\n",
       "    </tr>\n",
       "  </thead>\n",
       "  <tbody>\n",
       "    <tr>\n",
       "      <th>1011</th>\n",
       "      <td>0</td>\n",
       "      <td>[{\"id\": 27, \"name\": \"Horror\"}]</td>\n",
       "      <td>NaN</td>\n",
       "      <td>53953</td>\n",
       "      <td>[{\"id\": 10292, \"name\": \"gore\"}, {\"id\": 12339, ...</td>\n",
       "      <td>de</td>\n",
       "      <td>The Tooth Fairy</td>\n",
       "      <td>A woman and her daughter (Nicole Muñoz) encoun...</td>\n",
       "      <td>0.716764</td>\n",
       "      <td>[]</td>\n",
       "      <td>[]</td>\n",
       "      <td>2006-08-08</td>\n",
       "      <td>0</td>\n",
       "      <td>0.0</td>\n",
       "      <td>[{\"iso_639_1\": \"en\", \"name\": \"English\"}, {\"iso...</td>\n",
       "      <td>Released</td>\n",
       "      <td>NaN</td>\n",
       "      <td>The Tooth Fairy</td>\n",
       "      <td>4.3</td>\n",
       "      <td>13</td>\n",
       "    </tr>\n",
       "    <tr>\n",
       "      <th>3112</th>\n",
       "      <td>0</td>\n",
       "      <td>[{\"id\": 18, \"name\": \"Drama\"}, {\"id\": 80, \"name...</td>\n",
       "      <td>NaN</td>\n",
       "      <td>41894</td>\n",
       "      <td>[]</td>\n",
       "      <td>en</td>\n",
       "      <td>Blood Done Sign My Name</td>\n",
       "      <td>A drama based on the true story in which a bla...</td>\n",
       "      <td>0.397341</td>\n",
       "      <td>[]</td>\n",
       "      <td>[]</td>\n",
       "      <td>2010-02-01</td>\n",
       "      <td>0</td>\n",
       "      <td>0.0</td>\n",
       "      <td>[]</td>\n",
       "      <td>Released</td>\n",
       "      <td>No one changes the world alone.</td>\n",
       "      <td>Blood Done Sign My Name</td>\n",
       "      <td>6.0</td>\n",
       "      <td>5</td>\n",
       "    </tr>\n",
       "    <tr>\n",
       "      <th>3669</th>\n",
       "      <td>0</td>\n",
       "      <td>[{\"id\": 35, \"name\": \"Comedy\"}, {\"id\": 18, \"nam...</td>\n",
       "      <td>http://www.romeothemovie.com/</td>\n",
       "      <td>113406</td>\n",
       "      <td>[]</td>\n",
       "      <td>en</td>\n",
       "      <td>Should've Been Romeo</td>\n",
       "      <td>A self-centered, middle-aged pitchman for a po...</td>\n",
       "      <td>0.407030</td>\n",
       "      <td>[{\"name\": \"Phillybrook Films\", \"id\": 65147}]</td>\n",
       "      <td>[{\"iso_3166_1\": \"US\", \"name\": \"United States o...</td>\n",
       "      <td>2012-04-28</td>\n",
       "      <td>0</td>\n",
       "      <td>0.0</td>\n",
       "      <td>[{\"iso_639_1\": \"en\", \"name\": \"English\"}]</td>\n",
       "      <td>Released</td>\n",
       "      <td>Even Shakespeare didn't see this one coming.</td>\n",
       "      <td>Should've Been Romeo</td>\n",
       "      <td>0.0</td>\n",
       "      <td>0</td>\n",
       "    </tr>\n",
       "    <tr>\n",
       "      <th>3809</th>\n",
       "      <td>4000000</td>\n",
       "      <td>[{\"id\": 35, \"name\": \"Comedy\"}, {\"id\": 10749, \"...</td>\n",
       "      <td>NaN</td>\n",
       "      <td>158150</td>\n",
       "      <td>[]</td>\n",
       "      <td>en</td>\n",
       "      <td>How to Fall in Love</td>\n",
       "      <td>An accountant, who never quite grew out of his...</td>\n",
       "      <td>1.923514</td>\n",
       "      <td>[{\"name\": \"Annuit Coeptis Entertainment Inc.\",...</td>\n",
       "      <td>[{\"iso_3166_1\": \"US\", \"name\": \"United States o...</td>\n",
       "      <td>2012-07-21</td>\n",
       "      <td>0</td>\n",
       "      <td>0.0</td>\n",
       "      <td>[{\"iso_639_1\": \"en\", \"name\": \"English\"}]</td>\n",
       "      <td>Released</td>\n",
       "      <td>NaN</td>\n",
       "      <td>How to Fall in Love</td>\n",
       "      <td>5.2</td>\n",
       "      <td>20</td>\n",
       "    </tr>\n",
       "    <tr>\n",
       "      <th>3953</th>\n",
       "      <td>0</td>\n",
       "      <td>[{\"id\": 10752, \"name\": \"War\"}, {\"id\": 18, \"nam...</td>\n",
       "      <td>NaN</td>\n",
       "      <td>281230</td>\n",
       "      <td>[{\"id\": 187056, \"name\": \"woman director\"}]</td>\n",
       "      <td>en</td>\n",
       "      <td>Fort McCoy</td>\n",
       "      <td>Unable to serve in World War II because of a h...</td>\n",
       "      <td>0.384496</td>\n",
       "      <td>[]</td>\n",
       "      <td>[]</td>\n",
       "      <td>2014-01-01</td>\n",
       "      <td>0</td>\n",
       "      <td>0.0</td>\n",
       "      <td>[]</td>\n",
       "      <td>Released</td>\n",
       "      <td>NaN</td>\n",
       "      <td>Fort McCoy</td>\n",
       "      <td>6.3</td>\n",
       "      <td>2</td>\n",
       "    </tr>\n",
       "    <tr>\n",
       "      <th>3992</th>\n",
       "      <td>0</td>\n",
       "      <td>[]</td>\n",
       "      <td>NaN</td>\n",
       "      <td>346081</td>\n",
       "      <td>[]</td>\n",
       "      <td>en</td>\n",
       "      <td>Sardaarji</td>\n",
       "      <td>A ghost hunter uses bottles to capture trouble...</td>\n",
       "      <td>0.296981</td>\n",
       "      <td>[]</td>\n",
       "      <td>[{\"iso_3166_1\": \"IN\", \"name\": \"India\"}]</td>\n",
       "      <td>2015-06-26</td>\n",
       "      <td>0</td>\n",
       "      <td>0.0</td>\n",
       "      <td>[]</td>\n",
       "      <td>Released</td>\n",
       "      <td>NaN</td>\n",
       "      <td>Sardaarji</td>\n",
       "      <td>9.5</td>\n",
       "      <td>2</td>\n",
       "    </tr>\n",
       "    <tr>\n",
       "      <th>4068</th>\n",
       "      <td>0</td>\n",
       "      <td>[]</td>\n",
       "      <td>NaN</td>\n",
       "      <td>371085</td>\n",
       "      <td>[]</td>\n",
       "      <td>en</td>\n",
       "      <td>Sharkskin</td>\n",
       "      <td>The Post War II story of Manhattan born Mike E...</td>\n",
       "      <td>0.027801</td>\n",
       "      <td>[]</td>\n",
       "      <td>[]</td>\n",
       "      <td>2015-01-01</td>\n",
       "      <td>0</td>\n",
       "      <td>0.0</td>\n",
       "      <td>[]</td>\n",
       "      <td>Released</td>\n",
       "      <td>NaN</td>\n",
       "      <td>Sharkskin</td>\n",
       "      <td>0.0</td>\n",
       "      <td>0</td>\n",
       "    </tr>\n",
       "    <tr>\n",
       "      <th>4118</th>\n",
       "      <td>0</td>\n",
       "      <td>[]</td>\n",
       "      <td>NaN</td>\n",
       "      <td>325140</td>\n",
       "      <td>[]</td>\n",
       "      <td>en</td>\n",
       "      <td>Hum To Mohabbat Karega</td>\n",
       "      <td>Raju, a waiter, is in love with the famous TV ...</td>\n",
       "      <td>0.001186</td>\n",
       "      <td>[]</td>\n",
       "      <td>[]</td>\n",
       "      <td>2000-05-26</td>\n",
       "      <td>0</td>\n",
       "      <td>0.0</td>\n",
       "      <td>[]</td>\n",
       "      <td>Released</td>\n",
       "      <td>NaN</td>\n",
       "      <td>Hum To Mohabbat Karega</td>\n",
       "      <td>0.0</td>\n",
       "      <td>0</td>\n",
       "    </tr>\n",
       "    <tr>\n",
       "      <th>4205</th>\n",
       "      <td>0</td>\n",
       "      <td>[{\"id\": 18, \"name\": \"Drama\"}, {\"id\": 80, \"name...</td>\n",
       "      <td>http://www.imdb.com/title/tt1289419/</td>\n",
       "      <td>66468</td>\n",
       "      <td>[]</td>\n",
       "      <td>en</td>\n",
       "      <td>N-Secure</td>\n",
       "      <td>N-Secure is a no holds-barred thrilling drama ...</td>\n",
       "      <td>0.134560</td>\n",
       "      <td>[]</td>\n",
       "      <td>[]</td>\n",
       "      <td>2010-10-15</td>\n",
       "      <td>2592808</td>\n",
       "      <td>0.0</td>\n",
       "      <td>[]</td>\n",
       "      <td>Released</td>\n",
       "      <td>NaN</td>\n",
       "      <td>N-Secure</td>\n",
       "      <td>4.3</td>\n",
       "      <td>4</td>\n",
       "    </tr>\n",
       "    <tr>\n",
       "      <th>4210</th>\n",
       "      <td>0</td>\n",
       "      <td>[{\"id\": 10749, \"name\": \"Romance\"}]</td>\n",
       "      <td>NaN</td>\n",
       "      <td>74084</td>\n",
       "      <td>[]</td>\n",
       "      <td>hi</td>\n",
       "      <td>दिल जो भी कहे</td>\n",
       "      <td>During the British rule in India, several Indi...</td>\n",
       "      <td>0.122704</td>\n",
       "      <td>[{\"name\": \"Entertainment One Pvt. Ltd.\", \"id\":...</td>\n",
       "      <td>[{\"iso_3166_1\": \"IN\", \"name\": \"India\"}]</td>\n",
       "      <td>2006-12-07</td>\n",
       "      <td>0</td>\n",
       "      <td>0.0</td>\n",
       "      <td>[{\"iso_639_1\": \"en\", \"name\": \"English\"}, {\"iso...</td>\n",
       "      <td>Released</td>\n",
       "      <td>NaN</td>\n",
       "      <td>Dil Jo Bhi Kahey...</td>\n",
       "      <td>0.0</td>\n",
       "      <td>0</td>\n",
       "    </tr>\n",
       "    <tr>\n",
       "      <th>4241</th>\n",
       "      <td>1500000</td>\n",
       "      <td>[{\"id\": 35, \"name\": \"Comedy\"}]</td>\n",
       "      <td>NaN</td>\n",
       "      <td>51820</td>\n",
       "      <td>[{\"id\": 10183, \"name\": \"independent film\"}]</td>\n",
       "      <td>en</td>\n",
       "      <td>The Salon</td>\n",
       "      <td>A Beauty shop owner finds romance as she strug...</td>\n",
       "      <td>2.028170</td>\n",
       "      <td>[]</td>\n",
       "      <td>[]</td>\n",
       "      <td>2005-01-13</td>\n",
       "      <td>0</td>\n",
       "      <td>0.0</td>\n",
       "      <td>[{\"iso_639_1\": \"en\", \"name\": \"English\"}]</td>\n",
       "      <td>Released</td>\n",
       "      <td>Where you get more than just a hair cut!</td>\n",
       "      <td>The Salon</td>\n",
       "      <td>3.5</td>\n",
       "      <td>1</td>\n",
       "    </tr>\n",
       "    <tr>\n",
       "      <th>4313</th>\n",
       "      <td>0</td>\n",
       "      <td>[{\"id\": 53, \"name\": \"Thriller\"}, {\"id\": 27, \"n...</td>\n",
       "      <td>NaN</td>\n",
       "      <td>107315</td>\n",
       "      <td>[{\"id\": 888, \"name\": \"screenwriter\"}]</td>\n",
       "      <td>en</td>\n",
       "      <td>Below Zero</td>\n",
       "      <td>When Jack (Edward Furlong) is in danger of mis...</td>\n",
       "      <td>1.365140</td>\n",
       "      <td>[]</td>\n",
       "      <td>[{\"iso_3166_1\": \"CA\", \"name\": \"Canada\"}]</td>\n",
       "      <td>2011-10-22</td>\n",
       "      <td>0</td>\n",
       "      <td>0.0</td>\n",
       "      <td>[{\"iso_639_1\": \"en\", \"name\": \"English\"}]</td>\n",
       "      <td>Released</td>\n",
       "      <td>There's nothing scarier than a blank page.</td>\n",
       "      <td>Below Zero</td>\n",
       "      <td>4.4</td>\n",
       "      <td>12</td>\n",
       "    </tr>\n",
       "    <tr>\n",
       "      <th>4318</th>\n",
       "      <td>0</td>\n",
       "      <td>[{\"id\": 27, \"name\": \"Horror\"}]</td>\n",
       "      <td>NaN</td>\n",
       "      <td>310933</td>\n",
       "      <td>[]</td>\n",
       "      <td>en</td>\n",
       "      <td>Bleeding Hearts</td>\n",
       "      <td>Captured Hearts, an insane serial killer/horro...</td>\n",
       "      <td>0.100533</td>\n",
       "      <td>[]</td>\n",
       "      <td>[]</td>\n",
       "      <td>2013-06-01</td>\n",
       "      <td>0</td>\n",
       "      <td>0.0</td>\n",
       "      <td>[]</td>\n",
       "      <td>Released</td>\n",
       "      <td>NaN</td>\n",
       "      <td>Bleeding Hearts</td>\n",
       "      <td>2.0</td>\n",
       "      <td>1</td>\n",
       "    </tr>\n",
       "    <tr>\n",
       "      <th>4322</th>\n",
       "      <td>0</td>\n",
       "      <td>[{\"id\": 99, \"name\": \"Documentary\"}]</td>\n",
       "      <td>NaN</td>\n",
       "      <td>102840</td>\n",
       "      <td>[]</td>\n",
       "      <td>en</td>\n",
       "      <td>Sex With Strangers</td>\n",
       "      <td>For some married couples, sex is an obsession ...</td>\n",
       "      <td>0.014406</td>\n",
       "      <td>[]</td>\n",
       "      <td>[]</td>\n",
       "      <td>2002-02-22</td>\n",
       "      <td>0</td>\n",
       "      <td>0.0</td>\n",
       "      <td>[]</td>\n",
       "      <td>Released</td>\n",
       "      <td>NaN</td>\n",
       "      <td>Sex With Strangers</td>\n",
       "      <td>5.0</td>\n",
       "      <td>1</td>\n",
       "    </tr>\n",
       "    <tr>\n",
       "      <th>4328</th>\n",
       "      <td>0</td>\n",
       "      <td>[{\"id\": 27, \"name\": \"Horror\"}, {\"id\": 99, \"nam...</td>\n",
       "      <td>NaN</td>\n",
       "      <td>202604</td>\n",
       "      <td>[{\"id\": 2626, \"name\": \"exorcism\"}]</td>\n",
       "      <td>en</td>\n",
       "      <td>The Vatican Exorcisms</td>\n",
       "      <td>Documentary following US film-maker Joe Marino...</td>\n",
       "      <td>0.447166</td>\n",
       "      <td>[]</td>\n",
       "      <td>[]</td>\n",
       "      <td>2013-05-29</td>\n",
       "      <td>0</td>\n",
       "      <td>0.0</td>\n",
       "      <td>[{\"iso_639_1\": \"it\", \"name\": \"Italiano\"}, {\"is...</td>\n",
       "      <td>Released</td>\n",
       "      <td>The public were never meant to know</td>\n",
       "      <td>The Vatican Exorcisms</td>\n",
       "      <td>4.4</td>\n",
       "      <td>11</td>\n",
       "    </tr>\n",
       "    <tr>\n",
       "      <th>4405</th>\n",
       "      <td>0</td>\n",
       "      <td>[{\"id\": 10751, \"name\": \"Family\"}, {\"id\": 35, \"...</td>\n",
       "      <td>https://www.epicbuzz.net/movies/karachi-se-lahore</td>\n",
       "      <td>357441</td>\n",
       "      <td>[]</td>\n",
       "      <td>en</td>\n",
       "      <td>Karachi se Lahore</td>\n",
       "      <td>A road trip from Karachi to Lahore where 5 fri...</td>\n",
       "      <td>0.060003</td>\n",
       "      <td>[]</td>\n",
       "      <td>[{\"iso_3166_1\": \"PK\", \"name\": \"Pakistan\"}]</td>\n",
       "      <td>2015-07-31</td>\n",
       "      <td>0</td>\n",
       "      <td>0.0</td>\n",
       "      <td>[{\"iso_639_1\": \"ur\", \"name\": \"\\u0627\\u0631\\u06...</td>\n",
       "      <td>Released</td>\n",
       "      <td>NaN</td>\n",
       "      <td>Karachi se Lahore</td>\n",
       "      <td>8.0</td>\n",
       "      <td>1</td>\n",
       "    </tr>\n",
       "    <tr>\n",
       "      <th>4435</th>\n",
       "      <td>0</td>\n",
       "      <td>[{\"id\": 27, \"name\": \"Horror\"}]</td>\n",
       "      <td>NaN</td>\n",
       "      <td>323270</td>\n",
       "      <td>[{\"id\": 9706, \"name\": \"anthology\"}]</td>\n",
       "      <td>en</td>\n",
       "      <td>The Horror Network Vol. 1</td>\n",
       "      <td>Serial killers, ghostly phone calls, inner dem...</td>\n",
       "      <td>0.392658</td>\n",
       "      <td>[]</td>\n",
       "      <td>[]</td>\n",
       "      <td>2015-10-27</td>\n",
       "      <td>0</td>\n",
       "      <td>0.0</td>\n",
       "      <td>[]</td>\n",
       "      <td>Released</td>\n",
       "      <td>NaN</td>\n",
       "      <td>The Horror Network Vol. 1</td>\n",
       "      <td>5.0</td>\n",
       "      <td>2</td>\n",
       "    </tr>\n",
       "    <tr>\n",
       "      <th>4458</th>\n",
       "      <td>0</td>\n",
       "      <td>[]</td>\n",
       "      <td>NaN</td>\n",
       "      <td>279759</td>\n",
       "      <td>[]</td>\n",
       "      <td>en</td>\n",
       "      <td>Harrison Montgomery</td>\n",
       "      <td>Film from Daniel Davila</td>\n",
       "      <td>0.006943</td>\n",
       "      <td>[]</td>\n",
       "      <td>[]</td>\n",
       "      <td>2008-01-01</td>\n",
       "      <td>0</td>\n",
       "      <td>0.0</td>\n",
       "      <td>[]</td>\n",
       "      <td>Released</td>\n",
       "      <td>NaN</td>\n",
       "      <td>Harrison Montgomery</td>\n",
       "      <td>0.0</td>\n",
       "      <td>0</td>\n",
       "    </tr>\n",
       "    <tr>\n",
       "      <th>4502</th>\n",
       "      <td>0</td>\n",
       "      <td>[{\"id\": 80, \"name\": \"Crime\"}, {\"id\": 18, \"name...</td>\n",
       "      <td>NaN</td>\n",
       "      <td>263503</td>\n",
       "      <td>[]</td>\n",
       "      <td>en</td>\n",
       "      <td>Water &amp; Power</td>\n",
       "      <td>Twin brothers nicknamed \"Water\" and \"Power\" fr...</td>\n",
       "      <td>0.350557</td>\n",
       "      <td>[]</td>\n",
       "      <td>[]</td>\n",
       "      <td>2014-05-02</td>\n",
       "      <td>0</td>\n",
       "      <td>0.0</td>\n",
       "      <td>[]</td>\n",
       "      <td>Released</td>\n",
       "      <td>NaN</td>\n",
       "      <td>Water &amp; Power</td>\n",
       "      <td>3.0</td>\n",
       "      <td>1</td>\n",
       "    </tr>\n",
       "    <tr>\n",
       "      <th>4504</th>\n",
       "      <td>0</td>\n",
       "      <td>[]</td>\n",
       "      <td>NaN</td>\n",
       "      <td>331493</td>\n",
       "      <td>[]</td>\n",
       "      <td>en</td>\n",
       "      <td>Light from the Darkroom</td>\n",
       "      <td>Light in the Darkroom is the story of two best...</td>\n",
       "      <td>0.012942</td>\n",
       "      <td>[]</td>\n",
       "      <td>[]</td>\n",
       "      <td>2014-01-01</td>\n",
       "      <td>0</td>\n",
       "      <td>0.0</td>\n",
       "      <td>[]</td>\n",
       "      <td>Released</td>\n",
       "      <td>NaN</td>\n",
       "      <td>Light from the Darkroom</td>\n",
       "      <td>0.0</td>\n",
       "      <td>0</td>\n",
       "    </tr>\n",
       "    <tr>\n",
       "      <th>4553</th>\n",
       "      <td>0</td>\n",
       "      <td>[]</td>\n",
       "      <td>NaN</td>\n",
       "      <td>380097</td>\n",
       "      <td>[]</td>\n",
       "      <td>en</td>\n",
       "      <td>America Is Still the Place</td>\n",
       "      <td>1971 post civil rights San Francisco seemed li...</td>\n",
       "      <td>0.000000</td>\n",
       "      <td>[]</td>\n",
       "      <td>[]</td>\n",
       "      <td>NaN</td>\n",
       "      <td>0</td>\n",
       "      <td>0.0</td>\n",
       "      <td>[]</td>\n",
       "      <td>Released</td>\n",
       "      <td>NaN</td>\n",
       "      <td>America Is Still the Place</td>\n",
       "      <td>0.0</td>\n",
       "      <td>0</td>\n",
       "    </tr>\n",
       "    <tr>\n",
       "      <th>4558</th>\n",
       "      <td>0</td>\n",
       "      <td>[{\"id\": 10402, \"name\": \"Music\"}, {\"id\": 27, \"n...</td>\n",
       "      <td>http://www.thedevilscarnival.com/</td>\n",
       "      <td>285743</td>\n",
       "      <td>[{\"id\": 3473, \"name\": \"carnival\"}, {\"id\": 4344...</td>\n",
       "      <td>en</td>\n",
       "      <td>Alleluia! The Devil's Carnival</td>\n",
       "      <td>The Devil's Carnival: Alleluia! is the second ...</td>\n",
       "      <td>0.674398</td>\n",
       "      <td>[{\"name\": \"Limb from Limb Pictures\", \"id\": 590...</td>\n",
       "      <td>[{\"iso_3166_1\": \"US\", \"name\": \"United States o...</td>\n",
       "      <td>2016-03-29</td>\n",
       "      <td>0</td>\n",
       "      <td>0.0</td>\n",
       "      <td>[]</td>\n",
       "      <td>Released</td>\n",
       "      <td>Hell ain't got a prayer.</td>\n",
       "      <td>Alleluia! The Devil's Carnival</td>\n",
       "      <td>6.0</td>\n",
       "      <td>2</td>\n",
       "    </tr>\n",
       "    <tr>\n",
       "      <th>4564</th>\n",
       "      <td>0</td>\n",
       "      <td>[{\"id\": 18, \"name\": \"Drama\"}]</td>\n",
       "      <td>NaN</td>\n",
       "      <td>94072</td>\n",
       "      <td>[]</td>\n",
       "      <td>en</td>\n",
       "      <td>Straight Out of Brooklyn</td>\n",
       "      <td>A Special Jury Award winner at the Sundance Fi...</td>\n",
       "      <td>0.161517</td>\n",
       "      <td>[]</td>\n",
       "      <td>[]</td>\n",
       "      <td>1991-06-13</td>\n",
       "      <td>0</td>\n",
       "      <td>0.0</td>\n",
       "      <td>[]</td>\n",
       "      <td>Released</td>\n",
       "      <td>NaN</td>\n",
       "      <td>Straight Out of Brooklyn</td>\n",
       "      <td>4.3</td>\n",
       "      <td>4</td>\n",
       "    </tr>\n",
       "    <tr>\n",
       "      <th>4566</th>\n",
       "      <td>0</td>\n",
       "      <td>[]</td>\n",
       "      <td>NaN</td>\n",
       "      <td>325579</td>\n",
       "      <td>[]</td>\n",
       "      <td>en</td>\n",
       "      <td>Diamond Ruff</td>\n",
       "      <td>Action - Orphan, con artist, crime boss and mi...</td>\n",
       "      <td>0.165257</td>\n",
       "      <td>[]</td>\n",
       "      <td>[]</td>\n",
       "      <td>2015-01-01</td>\n",
       "      <td>0</td>\n",
       "      <td>0.0</td>\n",
       "      <td>[]</td>\n",
       "      <td>Released</td>\n",
       "      <td>NaN</td>\n",
       "      <td>Diamond Ruff</td>\n",
       "      <td>2.4</td>\n",
       "      <td>4</td>\n",
       "    </tr>\n",
       "    <tr>\n",
       "      <th>4569</th>\n",
       "      <td>0</td>\n",
       "      <td>[]</td>\n",
       "      <td>http://mutualfriendsmovie.com/</td>\n",
       "      <td>198370</td>\n",
       "      <td>[]</td>\n",
       "      <td>en</td>\n",
       "      <td>Mutual Friends</td>\n",
       "      <td>Surprise parties rarely go well. This one is n...</td>\n",
       "      <td>0.136721</td>\n",
       "      <td>[]</td>\n",
       "      <td>[]</td>\n",
       "      <td>2014-04-15</td>\n",
       "      <td>0</td>\n",
       "      <td>0.0</td>\n",
       "      <td>[{\"iso_639_1\": \"en\", \"name\": \"English\"}]</td>\n",
       "      <td>Released</td>\n",
       "      <td>Surprise parties rarely go well.</td>\n",
       "      <td>Mutual Friends</td>\n",
       "      <td>0.0</td>\n",
       "      <td>0</td>\n",
       "    </tr>\n",
       "    <tr>\n",
       "      <th>4571</th>\n",
       "      <td>0</td>\n",
       "      <td>[]</td>\n",
       "      <td>NaN</td>\n",
       "      <td>328307</td>\n",
       "      <td>[]</td>\n",
       "      <td>en</td>\n",
       "      <td>Rise of the Entrepreneur: The Search for a Bet...</td>\n",
       "      <td>The world is changing faster than ever. Techno...</td>\n",
       "      <td>0.052942</td>\n",
       "      <td>[]</td>\n",
       "      <td>[]</td>\n",
       "      <td>2014-11-20</td>\n",
       "      <td>0</td>\n",
       "      <td>0.0</td>\n",
       "      <td>[]</td>\n",
       "      <td>Released</td>\n",
       "      <td>NaN</td>\n",
       "      <td>Rise of the Entrepreneur: The Search for a Bet...</td>\n",
       "      <td>8.0</td>\n",
       "      <td>1</td>\n",
       "    </tr>\n",
       "    <tr>\n",
       "      <th>4581</th>\n",
       "      <td>0</td>\n",
       "      <td>[]</td>\n",
       "      <td>NaN</td>\n",
       "      <td>281189</td>\n",
       "      <td>[{\"id\": 187056, \"name\": \"woman director\"}]</td>\n",
       "      <td>en</td>\n",
       "      <td>Gory Gory Hallelujah</td>\n",
       "      <td>Four actors compete for the role of Jesus - a ...</td>\n",
       "      <td>0.033883</td>\n",
       "      <td>[]</td>\n",
       "      <td>[]</td>\n",
       "      <td>2003-11-05</td>\n",
       "      <td>0</td>\n",
       "      <td>0.0</td>\n",
       "      <td>[]</td>\n",
       "      <td>Released</td>\n",
       "      <td>NaN</td>\n",
       "      <td>Gory Gory Hallelujah</td>\n",
       "      <td>1.0</td>\n",
       "      <td>1</td>\n",
       "    </tr>\n",
       "    <tr>\n",
       "      <th>4584</th>\n",
       "      <td>0</td>\n",
       "      <td>[{\"id\": 27, \"name\": \"Horror\"}, {\"id\": 35, \"nam...</td>\n",
       "      <td>NaN</td>\n",
       "      <td>189711</td>\n",
       "      <td>[]</td>\n",
       "      <td>en</td>\n",
       "      <td>Love in the Time of Monsters</td>\n",
       "      <td>Two sisters travel to a cheesy tourist trap wh...</td>\n",
       "      <td>0.133619</td>\n",
       "      <td>[{\"name\": \"Red Cube Picture\", \"id\": 27892}, {\"...</td>\n",
       "      <td>[{\"iso_3166_1\": \"US\", \"name\": \"United States o...</td>\n",
       "      <td>2014-03-08</td>\n",
       "      <td>0</td>\n",
       "      <td>0.0</td>\n",
       "      <td>[]</td>\n",
       "      <td>Released</td>\n",
       "      <td>NaN</td>\n",
       "      <td>Love in the Time of Monsters</td>\n",
       "      <td>5.0</td>\n",
       "      <td>2</td>\n",
       "    </tr>\n",
       "    <tr>\n",
       "      <th>4611</th>\n",
       "      <td>0</td>\n",
       "      <td>[]</td>\n",
       "      <td>NaN</td>\n",
       "      <td>162396</td>\n",
       "      <td>[]</td>\n",
       "      <td>en</td>\n",
       "      <td>The Big Swap</td>\n",
       "      <td>In this British drama, Ellen (Sorcha Brooks) a...</td>\n",
       "      <td>0.627763</td>\n",
       "      <td>[]</td>\n",
       "      <td>[]</td>\n",
       "      <td>1998-06-11</td>\n",
       "      <td>0</td>\n",
       "      <td>0.0</td>\n",
       "      <td>[{\"iso_639_1\": \"en\", \"name\": \"English\"}]</td>\n",
       "      <td>Released</td>\n",
       "      <td>NaN</td>\n",
       "      <td>The Big Swap</td>\n",
       "      <td>0.0</td>\n",
       "      <td>0</td>\n",
       "    </tr>\n",
       "    <tr>\n",
       "      <th>4620</th>\n",
       "      <td>0</td>\n",
       "      <td>[{\"id\": 28, \"name\": \"Action\"}, {\"id\": 12, \"nam...</td>\n",
       "      <td>NaN</td>\n",
       "      <td>47534</td>\n",
       "      <td>[{\"id\": 2792, \"name\": \"boxer\"}, {\"id\": 4076, \"...</td>\n",
       "      <td>en</td>\n",
       "      <td>Fighting Tommy Riley</td>\n",
       "      <td>An aging trainer and a young fighter, both in ...</td>\n",
       "      <td>0.045429</td>\n",
       "      <td>[]</td>\n",
       "      <td>[]</td>\n",
       "      <td>2005-05-06</td>\n",
       "      <td>0</td>\n",
       "      <td>0.0</td>\n",
       "      <td>[{\"iso_639_1\": \"en\", \"name\": \"English\"}]</td>\n",
       "      <td>Released</td>\n",
       "      <td>NaN</td>\n",
       "      <td>Fighting Tommy Riley</td>\n",
       "      <td>5.3</td>\n",
       "      <td>4</td>\n",
       "    </tr>\n",
       "    <tr>\n",
       "      <th>4633</th>\n",
       "      <td>0</td>\n",
       "      <td>[]</td>\n",
       "      <td>NaN</td>\n",
       "      <td>300327</td>\n",
       "      <td>[]</td>\n",
       "      <td>en</td>\n",
       "      <td>Death Calls</td>\n",
       "      <td>An action-packed love story on the Mexican bor...</td>\n",
       "      <td>0.005883</td>\n",
       "      <td>[]</td>\n",
       "      <td>[]</td>\n",
       "      <td>2010-09-01</td>\n",
       "      <td>0</td>\n",
       "      <td>0.0</td>\n",
       "      <td>[]</td>\n",
       "      <td>Released</td>\n",
       "      <td>NaN</td>\n",
       "      <td>Death Calls</td>\n",
       "      <td>0.0</td>\n",
       "      <td>0</td>\n",
       "    </tr>\n",
       "    <tr>\n",
       "      <th>4657</th>\n",
       "      <td>0</td>\n",
       "      <td>[]</td>\n",
       "      <td>NaN</td>\n",
       "      <td>320435</td>\n",
       "      <td>[]</td>\n",
       "      <td>en</td>\n",
       "      <td>UnDivided</td>\n",
       "      <td>UnDivided documents the true story of how a su...</td>\n",
       "      <td>0.010607</td>\n",
       "      <td>[]</td>\n",
       "      <td>[]</td>\n",
       "      <td>2013-02-01</td>\n",
       "      <td>0</td>\n",
       "      <td>0.0</td>\n",
       "      <td>[]</td>\n",
       "      <td>Released</td>\n",
       "      <td>NaN</td>\n",
       "      <td>UnDivided</td>\n",
       "      <td>0.0</td>\n",
       "      <td>0</td>\n",
       "    </tr>\n",
       "    <tr>\n",
       "      <th>4658</th>\n",
       "      <td>0</td>\n",
       "      <td>[{\"id\": 27, \"name\": \"Horror\"}, {\"id\": 53, \"nam...</td>\n",
       "      <td>NaN</td>\n",
       "      <td>150211</td>\n",
       "      <td>[{\"id\": 177972, \"name\": \"bickering\"}, {\"id\": 2...</td>\n",
       "      <td>en</td>\n",
       "      <td>The Frozen</td>\n",
       "      <td>After a harrowing snowmobile accident, a young...</td>\n",
       "      <td>1.084387</td>\n",
       "      <td>[]</td>\n",
       "      <td>[]</td>\n",
       "      <td>2012-10-10</td>\n",
       "      <td>0</td>\n",
       "      <td>0.0</td>\n",
       "      <td>[]</td>\n",
       "      <td>Released</td>\n",
       "      <td>NaN</td>\n",
       "      <td>The Frozen</td>\n",
       "      <td>4.2</td>\n",
       "      <td>14</td>\n",
       "    </tr>\n",
       "    <tr>\n",
       "      <th>4662</th>\n",
       "      <td>0</td>\n",
       "      <td>[{\"id\": 35, \"name\": \"Comedy\"}]</td>\n",
       "      <td>NaN</td>\n",
       "      <td>40963</td>\n",
       "      <td>[{\"id\": 10183, \"name\": \"independent film\"}]</td>\n",
       "      <td>en</td>\n",
       "      <td>Little Big Top</td>\n",
       "      <td>An aging out of work clown returns to his smal...</td>\n",
       "      <td>0.092100</td>\n",
       "      <td>[{\"name\": \"Fly High Films\", \"id\": 24248}]</td>\n",
       "      <td>[{\"iso_3166_1\": \"US\", \"name\": \"United States o...</td>\n",
       "      <td>2006-01-01</td>\n",
       "      <td>0</td>\n",
       "      <td>0.0</td>\n",
       "      <td>[{\"iso_639_1\": \"en\", \"name\": \"English\"}]</td>\n",
       "      <td>Rumored</td>\n",
       "      <td>NaN</td>\n",
       "      <td>Little Big Top</td>\n",
       "      <td>10.0</td>\n",
       "      <td>1</td>\n",
       "    </tr>\n",
       "    <tr>\n",
       "      <th>4729</th>\n",
       "      <td>0</td>\n",
       "      <td>[{\"id\": 10751, \"name\": \"Family\"}]</td>\n",
       "      <td>NaN</td>\n",
       "      <td>272726</td>\n",
       "      <td>[]</td>\n",
       "      <td>en</td>\n",
       "      <td>Dude Where's My Dog?</td>\n",
       "      <td>Left home alone with his dog Harry, young Ray ...</td>\n",
       "      <td>0.283970</td>\n",
       "      <td>[]</td>\n",
       "      <td>[]</td>\n",
       "      <td>2014-06-12</td>\n",
       "      <td>0</td>\n",
       "      <td>0.0</td>\n",
       "      <td>[]</td>\n",
       "      <td>Released</td>\n",
       "      <td>NaN</td>\n",
       "      <td>Dude Where's My Dog?</td>\n",
       "      <td>0.0</td>\n",
       "      <td>0</td>\n",
       "    </tr>\n",
       "  </tbody>\n",
       "</table>\n",
       "</div>"
      ],
      "text/plain": [
       "       budget                                             genres  \\\n",
       "1011        0                     [{\"id\": 27, \"name\": \"Horror\"}]   \n",
       "3112        0  [{\"id\": 18, \"name\": \"Drama\"}, {\"id\": 80, \"name...   \n",
       "3669        0  [{\"id\": 35, \"name\": \"Comedy\"}, {\"id\": 18, \"nam...   \n",
       "3809  4000000  [{\"id\": 35, \"name\": \"Comedy\"}, {\"id\": 10749, \"...   \n",
       "3953        0  [{\"id\": 10752, \"name\": \"War\"}, {\"id\": 18, \"nam...   \n",
       "3992        0                                                 []   \n",
       "4068        0                                                 []   \n",
       "4118        0                                                 []   \n",
       "4205        0  [{\"id\": 18, \"name\": \"Drama\"}, {\"id\": 80, \"name...   \n",
       "4210        0                 [{\"id\": 10749, \"name\": \"Romance\"}]   \n",
       "4241  1500000                     [{\"id\": 35, \"name\": \"Comedy\"}]   \n",
       "4313        0  [{\"id\": 53, \"name\": \"Thriller\"}, {\"id\": 27, \"n...   \n",
       "4318        0                     [{\"id\": 27, \"name\": \"Horror\"}]   \n",
       "4322        0                [{\"id\": 99, \"name\": \"Documentary\"}]   \n",
       "4328        0  [{\"id\": 27, \"name\": \"Horror\"}, {\"id\": 99, \"nam...   \n",
       "4405        0  [{\"id\": 10751, \"name\": \"Family\"}, {\"id\": 35, \"...   \n",
       "4435        0                     [{\"id\": 27, \"name\": \"Horror\"}]   \n",
       "4458        0                                                 []   \n",
       "4502        0  [{\"id\": 80, \"name\": \"Crime\"}, {\"id\": 18, \"name...   \n",
       "4504        0                                                 []   \n",
       "4553        0                                                 []   \n",
       "4558        0  [{\"id\": 10402, \"name\": \"Music\"}, {\"id\": 27, \"n...   \n",
       "4564        0                      [{\"id\": 18, \"name\": \"Drama\"}]   \n",
       "4566        0                                                 []   \n",
       "4569        0                                                 []   \n",
       "4571        0                                                 []   \n",
       "4581        0                                                 []   \n",
       "4584        0  [{\"id\": 27, \"name\": \"Horror\"}, {\"id\": 35, \"nam...   \n",
       "4611        0                                                 []   \n",
       "4620        0  [{\"id\": 28, \"name\": \"Action\"}, {\"id\": 12, \"nam...   \n",
       "4633        0                                                 []   \n",
       "4657        0                                                 []   \n",
       "4658        0  [{\"id\": 27, \"name\": \"Horror\"}, {\"id\": 53, \"nam...   \n",
       "4662        0                     [{\"id\": 35, \"name\": \"Comedy\"}]   \n",
       "4729        0                  [{\"id\": 10751, \"name\": \"Family\"}]   \n",
       "\n",
       "                                               homepage      id  \\\n",
       "1011                                                NaN   53953   \n",
       "3112                                                NaN   41894   \n",
       "3669                      http://www.romeothemovie.com/  113406   \n",
       "3809                                                NaN  158150   \n",
       "3953                                                NaN  281230   \n",
       "3992                                                NaN  346081   \n",
       "4068                                                NaN  371085   \n",
       "4118                                                NaN  325140   \n",
       "4205               http://www.imdb.com/title/tt1289419/   66468   \n",
       "4210                                                NaN   74084   \n",
       "4241                                                NaN   51820   \n",
       "4313                                                NaN  107315   \n",
       "4318                                                NaN  310933   \n",
       "4322                                                NaN  102840   \n",
       "4328                                                NaN  202604   \n",
       "4405  https://www.epicbuzz.net/movies/karachi-se-lahore  357441   \n",
       "4435                                                NaN  323270   \n",
       "4458                                                NaN  279759   \n",
       "4502                                                NaN  263503   \n",
       "4504                                                NaN  331493   \n",
       "4553                                                NaN  380097   \n",
       "4558                  http://www.thedevilscarnival.com/  285743   \n",
       "4564                                                NaN   94072   \n",
       "4566                                                NaN  325579   \n",
       "4569                     http://mutualfriendsmovie.com/  198370   \n",
       "4571                                                NaN  328307   \n",
       "4581                                                NaN  281189   \n",
       "4584                                                NaN  189711   \n",
       "4611                                                NaN  162396   \n",
       "4620                                                NaN   47534   \n",
       "4633                                                NaN  300327   \n",
       "4657                                                NaN  320435   \n",
       "4658                                                NaN  150211   \n",
       "4662                                                NaN   40963   \n",
       "4729                                                NaN  272726   \n",
       "\n",
       "                                               keywords original_language  \\\n",
       "1011  [{\"id\": 10292, \"name\": \"gore\"}, {\"id\": 12339, ...                de   \n",
       "3112                                                 []                en   \n",
       "3669                                                 []                en   \n",
       "3809                                                 []                en   \n",
       "3953         [{\"id\": 187056, \"name\": \"woman director\"}]                en   \n",
       "3992                                                 []                en   \n",
       "4068                                                 []                en   \n",
       "4118                                                 []                en   \n",
       "4205                                                 []                en   \n",
       "4210                                                 []                hi   \n",
       "4241        [{\"id\": 10183, \"name\": \"independent film\"}]                en   \n",
       "4313              [{\"id\": 888, \"name\": \"screenwriter\"}]                en   \n",
       "4318                                                 []                en   \n",
       "4322                                                 []                en   \n",
       "4328                 [{\"id\": 2626, \"name\": \"exorcism\"}]                en   \n",
       "4405                                                 []                en   \n",
       "4435                [{\"id\": 9706, \"name\": \"anthology\"}]                en   \n",
       "4458                                                 []                en   \n",
       "4502                                                 []                en   \n",
       "4504                                                 []                en   \n",
       "4553                                                 []                en   \n",
       "4558  [{\"id\": 3473, \"name\": \"carnival\"}, {\"id\": 4344...                en   \n",
       "4564                                                 []                en   \n",
       "4566                                                 []                en   \n",
       "4569                                                 []                en   \n",
       "4571                                                 []                en   \n",
       "4581         [{\"id\": 187056, \"name\": \"woman director\"}]                en   \n",
       "4584                                                 []                en   \n",
       "4611                                                 []                en   \n",
       "4620  [{\"id\": 2792, \"name\": \"boxer\"}, {\"id\": 4076, \"...                en   \n",
       "4633                                                 []                en   \n",
       "4657                                                 []                en   \n",
       "4658  [{\"id\": 177972, \"name\": \"bickering\"}, {\"id\": 2...                en   \n",
       "4662        [{\"id\": 10183, \"name\": \"independent film\"}]                en   \n",
       "4729                                                 []                en   \n",
       "\n",
       "                                         original_title  \\\n",
       "1011                                    The Tooth Fairy   \n",
       "3112                            Blood Done Sign My Name   \n",
       "3669                               Should've Been Romeo   \n",
       "3809                                How to Fall in Love   \n",
       "3953                                         Fort McCoy   \n",
       "3992                                          Sardaarji   \n",
       "4068                                          Sharkskin   \n",
       "4118                             Hum To Mohabbat Karega   \n",
       "4205                                           N-Secure   \n",
       "4210                                      दिल जो भी कहे   \n",
       "4241                                          The Salon   \n",
       "4313                                         Below Zero   \n",
       "4318                                    Bleeding Hearts   \n",
       "4322                                 Sex With Strangers   \n",
       "4328                              The Vatican Exorcisms   \n",
       "4405                                  Karachi se Lahore   \n",
       "4435                          The Horror Network Vol. 1   \n",
       "4458                                Harrison Montgomery   \n",
       "4502                                      Water & Power   \n",
       "4504                            Light from the Darkroom   \n",
       "4553                         America Is Still the Place   \n",
       "4558                     Alleluia! The Devil's Carnival   \n",
       "4564                           Straight Out of Brooklyn   \n",
       "4566                                       Diamond Ruff   \n",
       "4569                                     Mutual Friends   \n",
       "4571  Rise of the Entrepreneur: The Search for a Bet...   \n",
       "4581                               Gory Gory Hallelujah   \n",
       "4584                       Love in the Time of Monsters   \n",
       "4611                                       The Big Swap   \n",
       "4620                               Fighting Tommy Riley   \n",
       "4633                                        Death Calls   \n",
       "4657                                          UnDivided   \n",
       "4658                                         The Frozen   \n",
       "4662                                     Little Big Top   \n",
       "4729                               Dude Where's My Dog?   \n",
       "\n",
       "                                               overview  popularity  \\\n",
       "1011  A woman and her daughter (Nicole Muñoz) encoun...    0.716764   \n",
       "3112  A drama based on the true story in which a bla...    0.397341   \n",
       "3669  A self-centered, middle-aged pitchman for a po...    0.407030   \n",
       "3809  An accountant, who never quite grew out of his...    1.923514   \n",
       "3953  Unable to serve in World War II because of a h...    0.384496   \n",
       "3992  A ghost hunter uses bottles to capture trouble...    0.296981   \n",
       "4068  The Post War II story of Manhattan born Mike E...    0.027801   \n",
       "4118  Raju, a waiter, is in love with the famous TV ...    0.001186   \n",
       "4205  N-Secure is a no holds-barred thrilling drama ...    0.134560   \n",
       "4210  During the British rule in India, several Indi...    0.122704   \n",
       "4241  A Beauty shop owner finds romance as she strug...    2.028170   \n",
       "4313  When Jack (Edward Furlong) is in danger of mis...    1.365140   \n",
       "4318  Captured Hearts, an insane serial killer/horro...    0.100533   \n",
       "4322  For some married couples, sex is an obsession ...    0.014406   \n",
       "4328  Documentary following US film-maker Joe Marino...    0.447166   \n",
       "4405  A road trip from Karachi to Lahore where 5 fri...    0.060003   \n",
       "4435  Serial killers, ghostly phone calls, inner dem...    0.392658   \n",
       "4458                            Film from Daniel Davila    0.006943   \n",
       "4502  Twin brothers nicknamed \"Water\" and \"Power\" fr...    0.350557   \n",
       "4504  Light in the Darkroom is the story of two best...    0.012942   \n",
       "4553  1971 post civil rights San Francisco seemed li...    0.000000   \n",
       "4558  The Devil's Carnival: Alleluia! is the second ...    0.674398   \n",
       "4564  A Special Jury Award winner at the Sundance Fi...    0.161517   \n",
       "4566  Action - Orphan, con artist, crime boss and mi...    0.165257   \n",
       "4569  Surprise parties rarely go well. This one is n...    0.136721   \n",
       "4571  The world is changing faster than ever. Techno...    0.052942   \n",
       "4581  Four actors compete for the role of Jesus - a ...    0.033883   \n",
       "4584  Two sisters travel to a cheesy tourist trap wh...    0.133619   \n",
       "4611  In this British drama, Ellen (Sorcha Brooks) a...    0.627763   \n",
       "4620  An aging trainer and a young fighter, both in ...    0.045429   \n",
       "4633  An action-packed love story on the Mexican bor...    0.005883   \n",
       "4657  UnDivided documents the true story of how a su...    0.010607   \n",
       "4658  After a harrowing snowmobile accident, a young...    1.084387   \n",
       "4662  An aging out of work clown returns to his smal...    0.092100   \n",
       "4729  Left home alone with his dog Harry, young Ray ...    0.283970   \n",
       "\n",
       "                                   production_companies  \\\n",
       "1011                                                 []   \n",
       "3112                                                 []   \n",
       "3669       [{\"name\": \"Phillybrook Films\", \"id\": 65147}]   \n",
       "3809  [{\"name\": \"Annuit Coeptis Entertainment Inc.\",...   \n",
       "3953                                                 []   \n",
       "3992                                                 []   \n",
       "4068                                                 []   \n",
       "4118                                                 []   \n",
       "4205                                                 []   \n",
       "4210  [{\"name\": \"Entertainment One Pvt. Ltd.\", \"id\":...   \n",
       "4241                                                 []   \n",
       "4313                                                 []   \n",
       "4318                                                 []   \n",
       "4322                                                 []   \n",
       "4328                                                 []   \n",
       "4405                                                 []   \n",
       "4435                                                 []   \n",
       "4458                                                 []   \n",
       "4502                                                 []   \n",
       "4504                                                 []   \n",
       "4553                                                 []   \n",
       "4558  [{\"name\": \"Limb from Limb Pictures\", \"id\": 590...   \n",
       "4564                                                 []   \n",
       "4566                                                 []   \n",
       "4569                                                 []   \n",
       "4571                                                 []   \n",
       "4581                                                 []   \n",
       "4584  [{\"name\": \"Red Cube Picture\", \"id\": 27892}, {\"...   \n",
       "4611                                                 []   \n",
       "4620                                                 []   \n",
       "4633                                                 []   \n",
       "4657                                                 []   \n",
       "4658                                                 []   \n",
       "4662          [{\"name\": \"Fly High Films\", \"id\": 24248}]   \n",
       "4729                                                 []   \n",
       "\n",
       "                                   production_countries release_date  revenue  \\\n",
       "1011                                                 []   2006-08-08        0   \n",
       "3112                                                 []   2010-02-01        0   \n",
       "3669  [{\"iso_3166_1\": \"US\", \"name\": \"United States o...   2012-04-28        0   \n",
       "3809  [{\"iso_3166_1\": \"US\", \"name\": \"United States o...   2012-07-21        0   \n",
       "3953                                                 []   2014-01-01        0   \n",
       "3992            [{\"iso_3166_1\": \"IN\", \"name\": \"India\"}]   2015-06-26        0   \n",
       "4068                                                 []   2015-01-01        0   \n",
       "4118                                                 []   2000-05-26        0   \n",
       "4205                                                 []   2010-10-15  2592808   \n",
       "4210            [{\"iso_3166_1\": \"IN\", \"name\": \"India\"}]   2006-12-07        0   \n",
       "4241                                                 []   2005-01-13        0   \n",
       "4313           [{\"iso_3166_1\": \"CA\", \"name\": \"Canada\"}]   2011-10-22        0   \n",
       "4318                                                 []   2013-06-01        0   \n",
       "4322                                                 []   2002-02-22        0   \n",
       "4328                                                 []   2013-05-29        0   \n",
       "4405         [{\"iso_3166_1\": \"PK\", \"name\": \"Pakistan\"}]   2015-07-31        0   \n",
       "4435                                                 []   2015-10-27        0   \n",
       "4458                                                 []   2008-01-01        0   \n",
       "4502                                                 []   2014-05-02        0   \n",
       "4504                                                 []   2014-01-01        0   \n",
       "4553                                                 []          NaN        0   \n",
       "4558  [{\"iso_3166_1\": \"US\", \"name\": \"United States o...   2016-03-29        0   \n",
       "4564                                                 []   1991-06-13        0   \n",
       "4566                                                 []   2015-01-01        0   \n",
       "4569                                                 []   2014-04-15        0   \n",
       "4571                                                 []   2014-11-20        0   \n",
       "4581                                                 []   2003-11-05        0   \n",
       "4584  [{\"iso_3166_1\": \"US\", \"name\": \"United States o...   2014-03-08        0   \n",
       "4611                                                 []   1998-06-11        0   \n",
       "4620                                                 []   2005-05-06        0   \n",
       "4633                                                 []   2010-09-01        0   \n",
       "4657                                                 []   2013-02-01        0   \n",
       "4658                                                 []   2012-10-10        0   \n",
       "4662  [{\"iso_3166_1\": \"US\", \"name\": \"United States o...   2006-01-01        0   \n",
       "4729                                                 []   2014-06-12        0   \n",
       "\n",
       "      runtime                                   spoken_languages    status  \\\n",
       "1011      0.0  [{\"iso_639_1\": \"en\", \"name\": \"English\"}, {\"iso...  Released   \n",
       "3112      0.0                                                 []  Released   \n",
       "3669      0.0           [{\"iso_639_1\": \"en\", \"name\": \"English\"}]  Released   \n",
       "3809      0.0           [{\"iso_639_1\": \"en\", \"name\": \"English\"}]  Released   \n",
       "3953      0.0                                                 []  Released   \n",
       "3992      0.0                                                 []  Released   \n",
       "4068      0.0                                                 []  Released   \n",
       "4118      0.0                                                 []  Released   \n",
       "4205      0.0                                                 []  Released   \n",
       "4210      0.0  [{\"iso_639_1\": \"en\", \"name\": \"English\"}, {\"iso...  Released   \n",
       "4241      0.0           [{\"iso_639_1\": \"en\", \"name\": \"English\"}]  Released   \n",
       "4313      0.0           [{\"iso_639_1\": \"en\", \"name\": \"English\"}]  Released   \n",
       "4318      0.0                                                 []  Released   \n",
       "4322      0.0                                                 []  Released   \n",
       "4328      0.0  [{\"iso_639_1\": \"it\", \"name\": \"Italiano\"}, {\"is...  Released   \n",
       "4405      0.0  [{\"iso_639_1\": \"ur\", \"name\": \"\\u0627\\u0631\\u06...  Released   \n",
       "4435      0.0                                                 []  Released   \n",
       "4458      0.0                                                 []  Released   \n",
       "4502      0.0                                                 []  Released   \n",
       "4504      0.0                                                 []  Released   \n",
       "4553      0.0                                                 []  Released   \n",
       "4558      0.0                                                 []  Released   \n",
       "4564      0.0                                                 []  Released   \n",
       "4566      0.0                                                 []  Released   \n",
       "4569      0.0           [{\"iso_639_1\": \"en\", \"name\": \"English\"}]  Released   \n",
       "4571      0.0                                                 []  Released   \n",
       "4581      0.0                                                 []  Released   \n",
       "4584      0.0                                                 []  Released   \n",
       "4611      0.0           [{\"iso_639_1\": \"en\", \"name\": \"English\"}]  Released   \n",
       "4620      0.0           [{\"iso_639_1\": \"en\", \"name\": \"English\"}]  Released   \n",
       "4633      0.0                                                 []  Released   \n",
       "4657      0.0                                                 []  Released   \n",
       "4658      0.0                                                 []  Released   \n",
       "4662      0.0           [{\"iso_639_1\": \"en\", \"name\": \"English\"}]   Rumored   \n",
       "4729      0.0                                                 []  Released   \n",
       "\n",
       "                                           tagline  \\\n",
       "1011                                           NaN   \n",
       "3112               No one changes the world alone.   \n",
       "3669  Even Shakespeare didn't see this one coming.   \n",
       "3809                                           NaN   \n",
       "3953                                           NaN   \n",
       "3992                                           NaN   \n",
       "4068                                           NaN   \n",
       "4118                                           NaN   \n",
       "4205                                           NaN   \n",
       "4210                                           NaN   \n",
       "4241      Where you get more than just a hair cut!   \n",
       "4313    There's nothing scarier than a blank page.   \n",
       "4318                                           NaN   \n",
       "4322                                           NaN   \n",
       "4328           The public were never meant to know   \n",
       "4405                                           NaN   \n",
       "4435                                           NaN   \n",
       "4458                                           NaN   \n",
       "4502                                           NaN   \n",
       "4504                                           NaN   \n",
       "4553                                           NaN   \n",
       "4558                      Hell ain't got a prayer.   \n",
       "4564                                           NaN   \n",
       "4566                                           NaN   \n",
       "4569              Surprise parties rarely go well.   \n",
       "4571                                           NaN   \n",
       "4581                                           NaN   \n",
       "4584                                           NaN   \n",
       "4611                                           NaN   \n",
       "4620                                           NaN   \n",
       "4633                                           NaN   \n",
       "4657                                           NaN   \n",
       "4658                                           NaN   \n",
       "4662                                           NaN   \n",
       "4729                                           NaN   \n",
       "\n",
       "                                                  title  vote_average  \\\n",
       "1011                                    The Tooth Fairy           4.3   \n",
       "3112                            Blood Done Sign My Name           6.0   \n",
       "3669                               Should've Been Romeo           0.0   \n",
       "3809                                How to Fall in Love           5.2   \n",
       "3953                                         Fort McCoy           6.3   \n",
       "3992                                          Sardaarji           9.5   \n",
       "4068                                          Sharkskin           0.0   \n",
       "4118                             Hum To Mohabbat Karega           0.0   \n",
       "4205                                           N-Secure           4.3   \n",
       "4210                                Dil Jo Bhi Kahey...           0.0   \n",
       "4241                                          The Salon           3.5   \n",
       "4313                                         Below Zero           4.4   \n",
       "4318                                    Bleeding Hearts           2.0   \n",
       "4322                                 Sex With Strangers           5.0   \n",
       "4328                              The Vatican Exorcisms           4.4   \n",
       "4405                                  Karachi se Lahore           8.0   \n",
       "4435                          The Horror Network Vol. 1           5.0   \n",
       "4458                                Harrison Montgomery           0.0   \n",
       "4502                                      Water & Power           3.0   \n",
       "4504                            Light from the Darkroom           0.0   \n",
       "4553                         America Is Still the Place           0.0   \n",
       "4558                     Alleluia! The Devil's Carnival           6.0   \n",
       "4564                           Straight Out of Brooklyn           4.3   \n",
       "4566                                       Diamond Ruff           2.4   \n",
       "4569                                     Mutual Friends           0.0   \n",
       "4571  Rise of the Entrepreneur: The Search for a Bet...           8.0   \n",
       "4581                               Gory Gory Hallelujah           1.0   \n",
       "4584                       Love in the Time of Monsters           5.0   \n",
       "4611                                       The Big Swap           0.0   \n",
       "4620                               Fighting Tommy Riley           5.3   \n",
       "4633                                        Death Calls           0.0   \n",
       "4657                                          UnDivided           0.0   \n",
       "4658                                         The Frozen           4.2   \n",
       "4662                                     Little Big Top          10.0   \n",
       "4729                               Dude Where's My Dog?           0.0   \n",
       "\n",
       "      vote_count  \n",
       "1011          13  \n",
       "3112           5  \n",
       "3669           0  \n",
       "3809          20  \n",
       "3953           2  \n",
       "3992           2  \n",
       "4068           0  \n",
       "4118           0  \n",
       "4205           4  \n",
       "4210           0  \n",
       "4241           1  \n",
       "4313          12  \n",
       "4318           1  \n",
       "4322           1  \n",
       "4328          11  \n",
       "4405           1  \n",
       "4435           2  \n",
       "4458           0  \n",
       "4502           1  \n",
       "4504           0  \n",
       "4553           0  \n",
       "4558           2  \n",
       "4564           4  \n",
       "4566           4  \n",
       "4569           0  \n",
       "4571           1  \n",
       "4581           1  \n",
       "4584           2  \n",
       "4611           0  \n",
       "4620           4  \n",
       "4633           0  \n",
       "4657           0  \n",
       "4658          14  \n",
       "4662           1  \n",
       "4729           0  "
      ]
     },
     "execution_count": 73,
     "metadata": {},
     "output_type": "execute_result"
    }
   ],
   "source": [
    "tmdb.query('runtime==0')"
   ]
  },
  {
   "cell_type": "code",
   "execution_count": 75,
   "id": "4d55e4b1",
   "metadata": {},
   "outputs": [
    {
     "name": "stderr",
     "output_type": "stream",
     "text": [
      "C:\\Users\\lucas\\AppData\\Local\\Temp\\ipykernel_21788\\2180631378.py:1: UserWarning: \n",
      "\n",
      "`distplot` is a deprecated function and will be removed in seaborn v0.14.0.\n",
      "\n",
      "Please adapt your code to use either `displot` (a figure-level function with\n",
      "similar flexibility) or `histplot` (an axes-level function for histograms).\n",
      "\n",
      "For a guide to updating your code to use the new functions, please see\n",
      "https://gist.github.com/mwaskom/de44147ed2974457ad6372750bbe5751\n",
      "\n",
      "  ax = sns.distplot(tmdb.query('runtime>0').runtime.dropna())\n"
     ]
    },
    {
     "data": {
      "text/plain": [
       "Text(0.5, 1.0, 'Tempo de duração em filmes no TMDB')"
      ]
     },
     "execution_count": 75,
     "metadata": {},
     "output_type": "execute_result"
    },
    {
     "data": {
      "image/png": "[encoded data removed]",
      "text/plain": [
       "<Figure size 640x480 with 1 Axes>"
      ]
     },
     "metadata": {},
     "output_type": "display_data"
    }
   ],
   "source": [
    "ax = sns.distplot(tmdb.query('runtime>0').runtime.dropna())\n",
    "ax.set_xlabel('Tempo de duração')\n",
    "ax.set_title('Tempo de duração em filmes no TMDB')"
   ]
  },
  {
   "cell_type": "code",
   "execution_count": 76,
   "id": "0323ec29",
   "metadata": {},
   "outputs": [
    {
     "name": "stderr",
     "output_type": "stream",
     "text": [
      "C:\\Users\\lucas\\AppData\\Local\\Temp\\ipykernel_21788\\698905887.py:1: UserWarning: \n",
      "\n",
      "`distplot` is a deprecated function and will be removed in seaborn v0.14.0.\n",
      "\n",
      "Please adapt your code to use either `displot` (a figure-level function with\n",
      "similar flexibility) or `histplot` (an axes-level function for histograms).\n",
      "\n",
      "For a guide to updating your code to use the new functions, please see\n",
      "https://gist.github.com/mwaskom/de44147ed2974457ad6372750bbe5751\n",
      "\n",
      "  ax = sns.distplot(tmdb.query('runtime>0').runtime.dropna(), hist_kws={'cumulative':True}, kde_kws={'cumulative':True})\n"
     ]
    },
    {
     "data": {
      "text/plain": [
       "Text(0.5, 1.0, 'Tempo de duração em filmes no TMDB')"
      ]
     },
     "execution_count": 76,
     "metadata": {},
     "output_type": "execute_result"
    },
    {
     "data": {
      "image/png": "[encoded data removed]",
      "text/plain": [
       "<Figure size 640x480 with 1 Axes>"
      ]
     },
     "metadata": {},
     "output_type": "display_data"
    }
   ],
   "source": [
    "ax = sns.distplot(tmdb.query('runtime>0').runtime.dropna(), hist_kws={'cumulative':True}, kde_kws={'cumulative':True})\n",
    "ax.set_xlabel('Tempo de duração')\n",
    "ax.set_ylabel('% de filmes')\n",
    "ax.set_title('Tempo de duração em filmes no TMDB')"
   ]
  },
  {
   "cell_type": "code",
   "execution_count": 77,
   "id": "7e7812c3",
   "metadata": {},
   "outputs": [
    {
     "data": {
      "text/plain": [
       "121.0"
      ]
     },
     "execution_count": 77,
     "metadata": {},
     "output_type": "execute_result"
    }
   ],
   "source": [
    "tmdb.query('runtime>0').runtime.dropna().quantile(0.8)"
   ]
  },
  {
   "cell_type": "code",
   "execution_count": 78,
   "id": "53c7c73f",
   "metadata": {},
   "outputs": [
    {
     "data": {
      "text/plain": [
       "3.4320503405352594"
      ]
     },
     "execution_count": 78,
     "metadata": {},
     "output_type": "execute_result"
    }
   ],
   "source": [
    "notas_media_10.mean()"
   ]
  },
  {
   "cell_type": "code",
   "execution_count": 87,
   "id": "6bad93ec",
   "metadata": {},
   "outputs": [
    {
     "data": {
      "text/plain": [
       "[<matplotlib.lines.Line2D at 0x214b9813460>]"
      ]
     },
     "execution_count": 87,
     "metadata": {},
     "output_type": "execute_result"
    },
    {
     "data": {
      "image/png": "[encoded data removed]",
      "text/plain": [
       "<Figure size 640x480 with 1 Axes>"
      ]
     },
     "metadata": {},
     "output_type": "display_data"
    }
   ],
   "source": [
    "medias = list()\n",
    "\n",
    "np.random.seed(75243)\n",
    "temp = notas_media_10.sample(frac=1)\n",
    "\n",
    "medias = [temp[0:i].mean() for i in range(1, len(temp))]\n",
    "    \n",
    "plt.plot(medias)\n",
    "    "
   ]
  },
  {
   "cell_type": "code",
   "execution_count": 108,
   "id": "b9a34e3a",
   "metadata": {},
   "outputs": [
    {
     "data": {
      "text/plain": [
       "(3.4112459477469557, 3.452854733323563)"
      ]
     },
     "execution_count": 108,
     "metadata": {},
     "output_type": "execute_result"
    }
   ],
   "source": [
    "from statsmodels.stats.weightstats import zconfint, DescrStatsW, ztest\n",
    "\n",
    "zconfint(notas_media_10)"
   ]
  },
  {
   "cell_type": "code",
   "execution_count": 91,
   "id": "3525d337",
   "metadata": {},
   "outputs": [
    {
     "data": {
      "text/plain": [
       "(3.411234839229381, 3.4528658418411395)"
      ]
     },
     "execution_count": 91,
     "metadata": {},
     "output_type": "execute_result"
    }
   ],
   "source": [
    "descr_10 = DescrStatsW(notas_media_10)\n",
    "descr_10.tconfint_mean()"
   ]
  },
  {
   "cell_type": "code",
   "execution_count": 92,
   "id": "d76e370b",
   "metadata": {},
   "outputs": [
    {
     "data": {
      "text/html": [
       "<div>\n",
       "<style scoped>\n",
       "    .dataframe tbody tr th:only-of-type {\n",
       "        vertical-align: middle;\n",
       "    }\n",
       "\n",
       "    .dataframe tbody tr th {\n",
       "        vertical-align: top;\n",
       "    }\n",
       "\n",
       "    .dataframe thead th {\n",
       "        text-align: right;\n",
       "    }\n",
       "</style>\n",
       "<table border=\"1\" class=\"dataframe\">\n",
       "  <thead>\n",
       "    <tr style=\"text-align: right;\">\n",
       "      <th></th>\n",
       "      <th>movieId</th>\n",
       "      <th>title</th>\n",
       "      <th>genres</th>\n",
       "    </tr>\n",
       "  </thead>\n",
       "  <tbody>\n",
       "    <tr>\n",
       "      <th>0</th>\n",
       "      <td>1</td>\n",
       "      <td>Toy Story (1995)</td>\n",
       "      <td>Adventure|Animation|Children|Comedy|Fantasy</td>\n",
       "    </tr>\n",
       "    <tr>\n",
       "      <th>1</th>\n",
       "      <td>2</td>\n",
       "      <td>Jumanji (1995)</td>\n",
       "      <td>Adventure|Children|Fantasy</td>\n",
       "    </tr>\n",
       "    <tr>\n",
       "      <th>2</th>\n",
       "      <td>3</td>\n",
       "      <td>Grumpier Old Men (1995)</td>\n",
       "      <td>Comedy|Romance</td>\n",
       "    </tr>\n",
       "    <tr>\n",
       "      <th>3</th>\n",
       "      <td>4</td>\n",
       "      <td>Waiting to Exhale (1995)</td>\n",
       "      <td>Comedy|Drama|Romance</td>\n",
       "    </tr>\n",
       "    <tr>\n",
       "      <th>4</th>\n",
       "      <td>5</td>\n",
       "      <td>Father of the Bride Part II (1995)</td>\n",
       "      <td>Comedy</td>\n",
       "    </tr>\n",
       "  </tbody>\n",
       "</table>\n",
       "</div>"
      ],
      "text/plain": [
       "   movieId                               title  \\\n",
       "0        1                    Toy Story (1995)   \n",
       "1        2                      Jumanji (1995)   \n",
       "2        3             Grumpier Old Men (1995)   \n",
       "3        4            Waiting to Exhale (1995)   \n",
       "4        5  Father of the Bride Part II (1995)   \n",
       "\n",
       "                                        genres  \n",
       "0  Adventure|Animation|Children|Comedy|Fantasy  \n",
       "1                   Adventure|Children|Fantasy  \n",
       "2                               Comedy|Romance  \n",
       "3                         Comedy|Drama|Romance  \n",
       "4                                       Comedy  "
      ]
     },
     "execution_count": 92,
     "metadata": {},
     "output_type": "execute_result"
    }
   ],
   "source": [
    "movies.head()"
   ]
  },
  {
   "cell_type": "code",
   "execution_count": 93,
   "id": "1cc3d186",
   "metadata": {},
   "outputs": [
    {
     "data": {
      "text/html": [
       "<div>\n",
       "<style scoped>\n",
       "    .dataframe tbody tr th:only-of-type {\n",
       "        vertical-align: middle;\n",
       "    }\n",
       "\n",
       "    .dataframe tbody tr th {\n",
       "        vertical-align: top;\n",
       "    }\n",
       "\n",
       "    .dataframe thead th {\n",
       "        text-align: right;\n",
       "    }\n",
       "</style>\n",
       "<table border=\"1\" class=\"dataframe\">\n",
       "  <thead>\n",
       "    <tr style=\"text-align: right;\">\n",
       "      <th></th>\n",
       "      <th>movieId</th>\n",
       "      <th>title</th>\n",
       "      <th>genres</th>\n",
       "    </tr>\n",
       "  </thead>\n",
       "  <tbody>\n",
       "    <tr>\n",
       "      <th>0</th>\n",
       "      <td>1</td>\n",
       "      <td>Toy Story (1995)</td>\n",
       "      <td>Adventure|Animation|Children|Comedy|Fantasy</td>\n",
       "    </tr>\n",
       "  </tbody>\n",
       "</table>\n",
       "</div>"
      ],
      "text/plain": [
       "   movieId             title                                       genres\n",
       "0        1  Toy Story (1995)  Adventure|Animation|Children|Comedy|Fantasy"
      ]
     },
     "execution_count": 93,
     "metadata": {},
     "output_type": "execute_result"
    }
   ],
   "source": [
    "movies.query('movieId == 1')"
   ]
  },
  {
   "cell_type": "code",
   "execution_count": 97,
   "id": "32921c06",
   "metadata": {},
   "outputs": [
    {
     "data": {
      "text/html": [
       "<div>\n",
       "<style scoped>\n",
       "    .dataframe tbody tr th:only-of-type {\n",
       "        vertical-align: middle;\n",
       "    }\n",
       "\n",
       "    .dataframe tbody tr th {\n",
       "        vertical-align: top;\n",
       "    }\n",
       "\n",
       "    .dataframe thead th {\n",
       "        text-align: right;\n",
       "    }\n",
       "</style>\n",
       "<table border=\"1\" class=\"dataframe\">\n",
       "  <thead>\n",
       "    <tr style=\"text-align: right;\">\n",
       "      <th></th>\n",
       "      <th>userId</th>\n",
       "      <th>movieId</th>\n",
       "      <th>rating</th>\n",
       "      <th>timestamp</th>\n",
       "    </tr>\n",
       "  </thead>\n",
       "  <tbody>\n",
       "    <tr>\n",
       "      <th>0</th>\n",
       "      <td>1</td>\n",
       "      <td>1</td>\n",
       "      <td>4.0</td>\n",
       "      <td>964982703</td>\n",
       "    </tr>\n",
       "    <tr>\n",
       "      <th>516</th>\n",
       "      <td>5</td>\n",
       "      <td>1</td>\n",
       "      <td>4.0</td>\n",
       "      <td>847434962</td>\n",
       "    </tr>\n",
       "    <tr>\n",
       "      <th>874</th>\n",
       "      <td>7</td>\n",
       "      <td>1</td>\n",
       "      <td>4.5</td>\n",
       "      <td>1106635946</td>\n",
       "    </tr>\n",
       "    <tr>\n",
       "      <th>1434</th>\n",
       "      <td>15</td>\n",
       "      <td>1</td>\n",
       "      <td>2.5</td>\n",
       "      <td>1510577970</td>\n",
       "    </tr>\n",
       "    <tr>\n",
       "      <th>1667</th>\n",
       "      <td>17</td>\n",
       "      <td>1</td>\n",
       "      <td>4.5</td>\n",
       "      <td>1305696483</td>\n",
       "    </tr>\n",
       "  </tbody>\n",
       "</table>\n",
       "</div>"
      ],
      "text/plain": [
       "      userId  movieId  rating   timestamp\n",
       "0          1        1     4.0   964982703\n",
       "516        5        1     4.0   847434962\n",
       "874        7        1     4.5  1106635946\n",
       "1434      15        1     2.5  1510577970\n",
       "1667      17        1     4.5  1305696483"
      ]
     },
     "execution_count": 97,
     "metadata": {},
     "output_type": "execute_result"
    }
   ],
   "source": [
    "notas1 = rating.query('movieId == 1')\n",
    "notas1.head()"
   ]
  },
  {
   "cell_type": "code",
   "execution_count": 99,
   "id": "b2343abf",
   "metadata": {},
   "outputs": [
    {
     "name": "stderr",
     "output_type": "stream",
     "text": [
      "C:\\Users\\lucas\\AppData\\Local\\Temp\\ipykernel_21788\\1836912690.py:1: UserWarning: \n",
      "\n",
      "`distplot` is a deprecated function and will be removed in seaborn v0.14.0.\n",
      "\n",
      "Please adapt your code to use either `displot` (a figure-level function with\n",
      "similar flexibility) or `histplot` (an axes-level function for histograms).\n",
      "\n",
      "For a guide to updating your code to use the new functions, please see\n",
      "https://gist.github.com/mwaskom/de44147ed2974457ad6372750bbe5751\n",
      "\n",
      "  ax = sns.distplot(notas1.rating)\n"
     ]
    },
    {
     "data": {
      "text/plain": [
       "Text(0.5, 1.0, 'Distribuição das notas para Toy Story')"
      ]
     },
     "execution_count": 99,
     "metadata": {},
     "output_type": "execute_result"
    },
    {
     "data": {
      "image/png": "[encoded data removed]",
      "text/plain": [
       "<Figure size 640x480 with 1 Axes>"
      ]
     },
     "metadata": {},
     "output_type": "display_data"
    }
   ],
   "source": [
    "ax = sns.distplot(notas1.rating)\n",
    "ax.set_xlabel('Nota')\n",
    "ax.set_ylabel('Densidade')\n",
    "ax.set_title('Distribuição das notas para Toy Story')"
   ]
  },
  {
   "cell_type": "code",
   "execution_count": 101,
   "id": "080c83a4",
   "metadata": {},
   "outputs": [
    {
     "data": {
      "text/plain": [
       "Text(0.5, 0, 'Notas')"
      ]
     },
     "execution_count": 101,
     "metadata": {},
     "output_type": "execute_result"
    },
    {
     "data": {
      "image/png": "[encoded data removed]",
      "text/plain": [
       "<Figure size 640x480 with 1 Axes>"
      ]
     },
     "metadata": {},
     "output_type": "display_data"
    }
   ],
   "source": [
    "ax = sns.boxplot(x=notas1.rating)\n",
    "ax.set_title('Distribuição das notas para o Toy Story')\n",
    "ax.set_xlabel('Notas')"
   ]
  },
  {
   "cell_type": "code",
   "execution_count": 102,
   "id": "4aae5db2",
   "metadata": {},
   "outputs": [
    {
     "data": {
      "text/plain": [
       "3.9209302325581397"
      ]
     },
     "execution_count": 102,
     "metadata": {},
     "output_type": "execute_result"
    }
   ],
   "source": [
    "notas1.rating.mean()"
   ]
  },
  {
   "cell_type": "code",
   "execution_count": 103,
   "id": "6f784a91",
   "metadata": {},
   "outputs": [
    {
     "data": {
      "text/plain": [
       "(3.8093359183563402, 4.032524546759939)"
      ]
     },
     "execution_count": 103,
     "metadata": {},
     "output_type": "execute_result"
    }
   ],
   "source": [
    "zconfint(notas1.rating)"
   ]
  },
  {
   "cell_type": "code",
   "execution_count": 105,
   "id": "9657b503",
   "metadata": {},
   "outputs": [
    {
     "data": {
      "text/plain": [
       "(3.8087012269492906, 4.033159238166989)"
      ]
     },
     "execution_count": 105,
     "metadata": {},
     "output_type": "execute_result"
    }
   ],
   "source": [
    "descr_10 = DescrStatsW(notas1.rating)\n",
    "descr_10.tconfint_mean()"
   ]
  },
  {
   "cell_type": "code",
   "execution_count": 106,
   "id": "7c84f660",
   "metadata": {},
   "outputs": [
    {
     "data": {
      "text/plain": [
       "3.9209302325581397"
      ]
     },
     "execution_count": 106,
     "metadata": {},
     "output_type": "execute_result"
    }
   ],
   "source": [
    "notas1.rating.mean()"
   ]
  },
  {
   "cell_type": "code",
   "execution_count": 110,
   "id": "f215dab6",
   "metadata": {},
   "outputs": [
    {
     "data": {
      "text/plain": [
       "(8.586342305916732, 8.97819040188565e-18)"
      ]
     },
     "execution_count": 110,
     "metadata": {},
     "output_type": "execute_result"
    }
   ],
   "source": [
    "ztest(notas1.rating, value = 3.4320503405352594)"
   ]
  },
  {
   "cell_type": "code",
   "execution_count": 126,
   "id": "876fd3da",
   "metadata": {
    "scrolled": true
   },
   "outputs": [
    {
     "data": {
      "text/plain": [
       "<matplotlib.collections.LineCollection at 0x214badf5d20>"
      ]
     },
     "execution_count": 126,
     "metadata": {},
     "output_type": "execute_result"
    },
    {
     "data": {
      "image/png": "[encoded data removed]",
      "text/plain": [
       "<Figure size 640x480 with 1 Axes>"
      ]
     },
     "metadata": {},
     "output_type": "display_data"
    }
   ],
   "source": [
    "np.random.seed(75241)\n",
    "temp = notas1.sample(frac=1).rating\n",
    "\n",
    "\n",
    "def calcula_test(i):\n",
    "    media = temp[0:i].mean()\n",
    "    stat, p = ztest(temp[0:i], value = 3.4320503405352594)\n",
    "    return (i, media, p)\n",
    "\n",
    "valores = np.array([calcula_test(i) for i in range(2, len(temp))])\n",
    "\n",
    "\n",
    "\n",
    "plt.plot(valores[:,0], valores[:,1])\n",
    "plt.plot(valores[:,0], valores[:,2])\n",
    "plt.hlines(y=0.05, xmin=2, xmax = len(temp), colors='g')"
   ]
  },
  {
   "cell_type": "code",
   "execution_count": 128,
   "id": "2f14107d",
   "metadata": {},
   "outputs": [
    {
     "name": "stdout",
     "output_type": "stream",
     "text": [
      "(5.894327101501841, 3.762112778881965e-09)\n"
     ]
    },
    {
     "data": {
      "text/plain": [
       "(0.2799245129192442, 0.5588219849631111)"
      ]
     },
     "execution_count": 128,
     "metadata": {},
     "output_type": "execute_result"
    }
   ],
   "source": [
    "print(ztest(notas1.rating, rating.rating))\n",
    "zconfint(notas1.rating, rating.rating)"
   ]
  },
  {
   "cell_type": "code",
   "execution_count": 146,
   "id": "2dcf4238",
   "metadata": {},
   "outputs": [
    {
     "data": {
      "text/plain": [
       "Ttest_indResult(statistic=-5.894327101501841, pvalue=3.774003138720876e-09)"
      ]
     },
     "execution_count": 146,
     "metadata": {},
     "output_type": "execute_result"
    }
   ],
   "source": [
    "from scipy.stats import ttest_ind, normaltest, ranksums\n",
    "\n",
    "ttest_ind(rating.rating, notas1.rating)"
   ]
  },
  {
   "cell_type": "code",
   "execution_count": 134,
   "id": "9d56bc42",
   "metadata": {},
   "outputs": [
    {
     "data": {
      "text/html": [
       "<table class=\"simpletable\">\n",
       "<caption>Test for equality of means</caption>\n",
       "<tr>\n",
       "      <td></td>         <th>coef</th>     <th>std err</th>      <th>t</th>      <th>P>|t|</th>  <th>[0.025</th>    <th>0.975]</th>  \n",
       "</tr>\n",
       "<tr>\n",
       "  <th>subset #1</th> <td>   -0.4194</td> <td>    0.071</td> <td>   -5.894</td> <td> 0.000</td> <td>   -0.559</td> <td>   -0.280</td>\n",
       "</tr>\n",
       "</table>"
      ],
      "text/latex": [
       "\\begin{center}\n",
       "\\begin{tabular}{lcccccc}\n",
       "\\toprule\n",
       "                    & \\textbf{coef} & \\textbf{std err} & \\textbf{t} & \\textbf{P$> |$t$|$} & \\textbf{[0.025} & \\textbf{0.975]}  \\\\\n",
       "\\midrule\n",
       "\\textbf{subset \\#1} &      -0.4194  &        0.071     &    -5.894  &         0.000        &       -0.559    &       -0.280     \\\\\n",
       "\\bottomrule\n",
       "\\end{tabular}\n",
       "%\\caption{Test for equality of means}\n",
       "\\end{center}"
      ],
      "text/plain": [
       "<class 'statsmodels.iolib.table.SimpleTable'>"
      ]
     },
     "execution_count": 134,
     "metadata": {},
     "output_type": "execute_result"
    }
   ],
   "source": [
    "descr_todas_notas = DescrStatsW(rating.rating)\n",
    "descr_toy = DescrStatsW(notas1.rating)\n",
    "comparacao = descr_todas_notas.get_compare(descr_toy)\n",
    "comparacao.summary()"
   ]
  },
  {
   "cell_type": "code",
   "execution_count": 136,
   "id": "793ba2a5",
   "metadata": {},
   "outputs": [
    {
     "data": {
      "text/html": [
       "<table class=\"simpletable\">\n",
       "<caption>Test for equality of means</caption>\n",
       "<tr>\n",
       "      <td></td>         <th>coef</th>     <th>std err</th>      <th>z</th>      <th>P>|z|</th>  <th>[0.025</th>    <th>0.975]</th>  \n",
       "</tr>\n",
       "<tr>\n",
       "  <th>subset #1</th> <td>   -0.4194</td> <td>    0.071</td> <td>   -5.894</td> <td> 0.000</td> <td>   -0.559</td> <td>   -0.280</td>\n",
       "</tr>\n",
       "</table>"
      ],
      "text/latex": [
       "\\begin{center}\n",
       "\\begin{tabular}{lcccccc}\n",
       "\\toprule\n",
       "                    & \\textbf{coef} & \\textbf{std err} & \\textbf{z} & \\textbf{P$> |$z$|$} & \\textbf{[0.025} & \\textbf{0.975]}  \\\\\n",
       "\\midrule\n",
       "\\textbf{subset \\#1} &      -0.4194  &        0.071     &    -5.894  &         0.000        &       -0.559    &       -0.280     \\\\\n",
       "\\bottomrule\n",
       "\\end{tabular}\n",
       "%\\caption{Test for equality of means}\n",
       "\\end{center}"
      ],
      "text/plain": [
       "<class 'statsmodels.iolib.table.SimpleTable'>"
      ]
     },
     "execution_count": 136,
     "metadata": {},
     "output_type": "execute_result"
    }
   ],
   "source": [
    "comparacao.summary(use_t=False)"
   ]
  },
  {
   "cell_type": "code",
   "execution_count": 141,
   "id": "4b7787d2",
   "metadata": {},
   "outputs": [
    {
     "data": {
      "text/plain": [
       "Text(0.5, 1.0, 'Distribuição das notas')"
      ]
     },
     "execution_count": 141,
     "metadata": {},
     "output_type": "execute_result"
    },
    {
     "data": {
      "image/png": "[encoded data removed]",
      "text/plain": [
       "<Figure size 640x480 with 1 Axes>"
      ]
     },
     "metadata": {},
     "output_type": "display_data"
    }
   ],
   "source": [
    "plt.boxplot([rating.rating, notas1.rating], labels=['Todas as notas', 'Toy Story'])\n",
    "plt.title('Distribuição das notas')"
   ]
  },
  {
   "cell_type": "code",
   "execution_count": 142,
   "id": "9d317079",
   "metadata": {},
   "outputs": [
    {
     "data": {
      "text/plain": [
       "Text(0.5, 1.0, 'Distribuição das notas')"
      ]
     },
     "execution_count": 142,
     "metadata": {},
     "output_type": "execute_result"
    },
    {
     "data": {
      "image/png": "[encoded data removed]",
      "text/plain": [
       "<Figure size 640x480 with 1 Axes>"
      ]
     },
     "metadata": {},
     "output_type": "display_data"
    }
   ],
   "source": [
    "plt.boxplot([rating.rating, notas1.rating[3:12]], labels=['Todas as notas', 'Toy Story(3:12)'])\n",
    "plt.title('Distribuição das notas')"
   ]
  },
  {
   "cell_type": "code",
   "execution_count": 145,
   "id": "5549a490",
   "metadata": {},
   "outputs": [
    {
     "data": {
      "text/plain": [
       "0.00011053430732728716"
      ]
     },
     "execution_count": 145,
     "metadata": {},
     "output_type": "execute_result"
    }
   ],
   "source": [
    "stat, p = normaltest(notas1.rating)\n",
    "p"
   ]
  },
  {
   "cell_type": "code",
   "execution_count": 148,
   "id": "f2c9a5ff",
   "metadata": {},
   "outputs": [
    {
     "data": {
      "text/plain": [
       "RanksumsResult(statistic=5.804393160178378, pvalue=6.459953581747862e-09)"
      ]
     },
     "execution_count": 148,
     "metadata": {},
     "output_type": "execute_result"
    }
   ],
   "source": [
    "nao_parametrico = ranksums(notas1.rating, rating.rating)\n",
    "nao_parametrico"
   ]
  },
  {
   "cell_type": "code",
   "execution_count": null,
   "id": "7afd98ad",
   "metadata": {},
   "outputs": [],
   "source": []
  }
 ],
 "metadata": {
  "kernelspec": {
   "display_name": "Python 3 (ipykernel)",
   "language": "python",
   "name": "python3"
  },
  "language_info": {
   "codemirror_mode": {
    "name": "ipython",
    "version": 3
   },
   "file_extension": ".py",
   "mimetype": "text/x-python",
   "name": "python",
   "nbconvert_exporter": "python",
   "pygments_lexer": "ipython3",
   "version": "3.10.6"
  }
 },
 "nbformat": 4,
 "nbformat_minor": 5
}
