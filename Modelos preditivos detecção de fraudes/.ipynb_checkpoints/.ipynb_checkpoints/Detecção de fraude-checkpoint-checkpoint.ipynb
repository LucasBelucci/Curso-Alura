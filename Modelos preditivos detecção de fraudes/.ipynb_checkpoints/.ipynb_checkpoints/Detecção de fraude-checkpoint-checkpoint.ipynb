{
 "cells": [
  {
   "cell_type": "code",
   "execution_count": 1,
   "id": "2880bdc8",
   "metadata": {},
   "outputs": [],
   "source": [
    "import pandas as pd\n",
    "import numpy as np\n",
    "import seaborn as sns\n",
    "#import pandas_profiling\n",
    "#from pydantic_settings import BaseSettings"
   ]
  },
  {
   "cell_type": "code",
   "execution_count": 2,
   "id": "9fb05219",
   "metadata": {},
   "outputs": [
    {
     "data": {
      "text/html": [
       "<div>\n",
       "<style scoped>\n",
       "    .dataframe tbody tr th:only-of-type {\n",
       "        vertical-align: middle;\n",
       "    }\n",
       "\n",
       "    .dataframe tbody tr th {\n",
       "        vertical-align: top;\n",
       "    }\n",
       "\n",
       "    .dataframe thead th {\n",
       "        text-align: right;\n",
       "    }\n",
       "</style>\n",
       "<table border=\"1\" class=\"dataframe\">\n",
       "  <thead>\n",
       "    <tr style=\"text-align: right;\">\n",
       "      <th></th>\n",
       "      <th>step</th>\n",
       "      <th>type</th>\n",
       "      <th>amount</th>\n",
       "      <th>nameOrig</th>\n",
       "      <th>oldbalanceOrg</th>\n",
       "      <th>newbalanceOrig</th>\n",
       "      <th>nameDest</th>\n",
       "      <th>oldbalanceDest</th>\n",
       "      <th>newbalanceDest</th>\n",
       "      <th>isFraud</th>\n",
       "      <th>isFlaggedFraud</th>\n",
       "    </tr>\n",
       "  </thead>\n",
       "  <tbody>\n",
       "    <tr>\n",
       "      <th>0</th>\n",
       "      <td>1</td>\n",
       "      <td>PAYMENT</td>\n",
       "      <td>9839.64</td>\n",
       "      <td>C1231006815</td>\n",
       "      <td>170136.0</td>\n",
       "      <td>160296.36</td>\n",
       "      <td>M1979787155</td>\n",
       "      <td>0.0</td>\n",
       "      <td>0.0</td>\n",
       "      <td>0</td>\n",
       "      <td>0</td>\n",
       "    </tr>\n",
       "    <tr>\n",
       "      <th>1</th>\n",
       "      <td>1</td>\n",
       "      <td>PAYMENT</td>\n",
       "      <td>1864.28</td>\n",
       "      <td>C1666544295</td>\n",
       "      <td>21249.0</td>\n",
       "      <td>19384.72</td>\n",
       "      <td>M2044282225</td>\n",
       "      <td>0.0</td>\n",
       "      <td>0.0</td>\n",
       "      <td>0</td>\n",
       "      <td>0</td>\n",
       "    </tr>\n",
       "    <tr>\n",
       "      <th>2</th>\n",
       "      <td>1</td>\n",
       "      <td>TRANSFER</td>\n",
       "      <td>181.00</td>\n",
       "      <td>C1305486145</td>\n",
       "      <td>181.0</td>\n",
       "      <td>0.00</td>\n",
       "      <td>C553264065</td>\n",
       "      <td>0.0</td>\n",
       "      <td>0.0</td>\n",
       "      <td>1</td>\n",
       "      <td>0</td>\n",
       "    </tr>\n",
       "    <tr>\n",
       "      <th>3</th>\n",
       "      <td>1</td>\n",
       "      <td>CASH_OUT</td>\n",
       "      <td>181.00</td>\n",
       "      <td>C840083671</td>\n",
       "      <td>181.0</td>\n",
       "      <td>0.00</td>\n",
       "      <td>C38997010</td>\n",
       "      <td>21182.0</td>\n",
       "      <td>0.0</td>\n",
       "      <td>1</td>\n",
       "      <td>0</td>\n",
       "    </tr>\n",
       "    <tr>\n",
       "      <th>4</th>\n",
       "      <td>1</td>\n",
       "      <td>PAYMENT</td>\n",
       "      <td>11668.14</td>\n",
       "      <td>C2048537720</td>\n",
       "      <td>41554.0</td>\n",
       "      <td>29885.86</td>\n",
       "      <td>M1230701703</td>\n",
       "      <td>0.0</td>\n",
       "      <td>0.0</td>\n",
       "      <td>0</td>\n",
       "      <td>0</td>\n",
       "    </tr>\n",
       "  </tbody>\n",
       "</table>\n",
       "</div>"
      ],
      "text/plain": [
       "   step      type    amount     nameOrig  oldbalanceOrg  newbalanceOrig  \\\n",
       "0     1   PAYMENT   9839.64  C1231006815       170136.0       160296.36   \n",
       "1     1   PAYMENT   1864.28  C1666544295        21249.0        19384.72   \n",
       "2     1  TRANSFER    181.00  C1305486145          181.0            0.00   \n",
       "3     1  CASH_OUT    181.00   C840083671          181.0            0.00   \n",
       "4     1   PAYMENT  11668.14  C2048537720        41554.0        29885.86   \n",
       "\n",
       "      nameDest  oldbalanceDest  newbalanceDest  isFraud  isFlaggedFraud  \n",
       "0  M1979787155             0.0             0.0        0               0  \n",
       "1  M2044282225             0.0             0.0        0               0  \n",
       "2   C553264065             0.0             0.0        1               0  \n",
       "3    C38997010         21182.0             0.0        1               0  \n",
       "4  M1230701703             0.0             0.0        0               0  "
      ]
     },
     "execution_count": 2,
     "metadata": {},
     "output_type": "execute_result"
    }
   ],
   "source": [
    "dados = pd.read_csv('fraud_dataset_example.csv')\n",
    "dados.head()"
   ]
  },
  {
   "cell_type": "code",
   "execution_count": 3,
   "id": "79a9a6d1",
   "metadata": {},
   "outputs": [
    {
     "name": "stdout",
     "output_type": "stream",
     "text": [
      "<class 'pandas.core.frame.DataFrame'>\n",
      "RangeIndex: 101613 entries, 0 to 101612\n",
      "Data columns (total 11 columns):\n",
      " #   Column          Non-Null Count   Dtype  \n",
      "---  ------          --------------   -----  \n",
      " 0   step            101613 non-null  int64  \n",
      " 1   type            101613 non-null  object \n",
      " 2   amount          101613 non-null  float64\n",
      " 3   nameOrig        101613 non-null  object \n",
      " 4   oldbalanceOrg   101613 non-null  float64\n",
      " 5   newbalanceOrig  101613 non-null  float64\n",
      " 6   nameDest        101613 non-null  object \n",
      " 7   oldbalanceDest  101613 non-null  float64\n",
      " 8   newbalanceDest  101613 non-null  float64\n",
      " 9   isFraud         101613 non-null  int64  \n",
      " 10  isFlaggedFraud  101613 non-null  int64  \n",
      "dtypes: float64(5), int64(3), object(3)\n",
      "memory usage: 8.5+ MB\n"
     ]
    }
   ],
   "source": [
    "dados.info()"
   ]
  },
  {
   "cell_type": "code",
   "execution_count": 4,
   "id": "837ed3a8",
   "metadata": {},
   "outputs": [
    {
     "data": {
      "text/html": [
       "<div>\n",
       "<style scoped>\n",
       "    .dataframe tbody tr th:only-of-type {\n",
       "        vertical-align: middle;\n",
       "    }\n",
       "\n",
       "    .dataframe tbody tr th {\n",
       "        vertical-align: top;\n",
       "    }\n",
       "\n",
       "    .dataframe thead th {\n",
       "        text-align: right;\n",
       "    }\n",
       "</style>\n",
       "<table border=\"1\" class=\"dataframe\">\n",
       "  <thead>\n",
       "    <tr style=\"text-align: right;\">\n",
       "      <th></th>\n",
       "      <th>step</th>\n",
       "      <th>amount</th>\n",
       "      <th>oldbalanceOrg</th>\n",
       "      <th>newbalanceOrig</th>\n",
       "      <th>oldbalanceDest</th>\n",
       "      <th>newbalanceDest</th>\n",
       "      <th>isFraud</th>\n",
       "      <th>isFlaggedFraud</th>\n",
       "    </tr>\n",
       "  </thead>\n",
       "  <tbody>\n",
       "    <tr>\n",
       "      <th>count</th>\n",
       "      <td>101613.000000</td>\n",
       "      <td>1.016130e+05</td>\n",
       "      <td>1.016130e+05</td>\n",
       "      <td>1.016130e+05</td>\n",
       "      <td>1.016130e+05</td>\n",
       "      <td>1.016130e+05</td>\n",
       "      <td>101613.000000</td>\n",
       "      <td>101613.0</td>\n",
       "    </tr>\n",
       "    <tr>\n",
       "      <th>mean</th>\n",
       "      <td>8.523457</td>\n",
       "      <td>1.740901e+05</td>\n",
       "      <td>9.071753e+05</td>\n",
       "      <td>9.234992e+05</td>\n",
       "      <td>8.810428e+05</td>\n",
       "      <td>1.183998e+06</td>\n",
       "      <td>0.001142</td>\n",
       "      <td>0.0</td>\n",
       "    </tr>\n",
       "    <tr>\n",
       "      <th>std</th>\n",
       "      <td>1.820681</td>\n",
       "      <td>3.450199e+05</td>\n",
       "      <td>2.829575e+06</td>\n",
       "      <td>2.867319e+06</td>\n",
       "      <td>2.399949e+06</td>\n",
       "      <td>2.797761e+06</td>\n",
       "      <td>0.033768</td>\n",
       "      <td>0.0</td>\n",
       "    </tr>\n",
       "    <tr>\n",
       "      <th>min</th>\n",
       "      <td>1.000000</td>\n",
       "      <td>3.200000e-01</td>\n",
       "      <td>0.000000e+00</td>\n",
       "      <td>0.000000e+00</td>\n",
       "      <td>0.000000e+00</td>\n",
       "      <td>0.000000e+00</td>\n",
       "      <td>0.000000</td>\n",
       "      <td>0.0</td>\n",
       "    </tr>\n",
       "    <tr>\n",
       "      <th>25%</th>\n",
       "      <td>8.000000</td>\n",
       "      <td>1.001659e+04</td>\n",
       "      <td>0.000000e+00</td>\n",
       "      <td>0.000000e+00</td>\n",
       "      <td>0.000000e+00</td>\n",
       "      <td>0.000000e+00</td>\n",
       "      <td>0.000000</td>\n",
       "      <td>0.0</td>\n",
       "    </tr>\n",
       "    <tr>\n",
       "      <th>50%</th>\n",
       "      <td>9.000000</td>\n",
       "      <td>5.338541e+04</td>\n",
       "      <td>2.019047e+04</td>\n",
       "      <td>0.000000e+00</td>\n",
       "      <td>2.105800e+04</td>\n",
       "      <td>5.178343e+04</td>\n",
       "      <td>0.000000</td>\n",
       "      <td>0.0</td>\n",
       "    </tr>\n",
       "    <tr>\n",
       "      <th>75%</th>\n",
       "      <td>10.000000</td>\n",
       "      <td>2.124984e+05</td>\n",
       "      <td>1.947150e+05</td>\n",
       "      <td>2.192178e+05</td>\n",
       "      <td>5.919217e+05</td>\n",
       "      <td>1.063122e+06</td>\n",
       "      <td>0.000000</td>\n",
       "      <td>0.0</td>\n",
       "    </tr>\n",
       "    <tr>\n",
       "      <th>max</th>\n",
       "      <td>10.000000</td>\n",
       "      <td>1.000000e+07</td>\n",
       "      <td>3.893942e+07</td>\n",
       "      <td>3.894623e+07</td>\n",
       "      <td>3.400874e+07</td>\n",
       "      <td>3.894623e+07</td>\n",
       "      <td>1.000000</td>\n",
       "      <td>0.0</td>\n",
       "    </tr>\n",
       "  </tbody>\n",
       "</table>\n",
       "</div>"
      ],
      "text/plain": [
       "                step        amount  oldbalanceOrg  newbalanceOrig  \\\n",
       "count  101613.000000  1.016130e+05   1.016130e+05    1.016130e+05   \n",
       "mean        8.523457  1.740901e+05   9.071753e+05    9.234992e+05   \n",
       "std         1.820681  3.450199e+05   2.829575e+06    2.867319e+06   \n",
       "min         1.000000  3.200000e-01   0.000000e+00    0.000000e+00   \n",
       "25%         8.000000  1.001659e+04   0.000000e+00    0.000000e+00   \n",
       "50%         9.000000  5.338541e+04   2.019047e+04    0.000000e+00   \n",
       "75%        10.000000  2.124984e+05   1.947150e+05    2.192178e+05   \n",
       "max        10.000000  1.000000e+07   3.893942e+07    3.894623e+07   \n",
       "\n",
       "       oldbalanceDest  newbalanceDest        isFraud  isFlaggedFraud  \n",
       "count    1.016130e+05    1.016130e+05  101613.000000        101613.0  \n",
       "mean     8.810428e+05    1.183998e+06       0.001142             0.0  \n",
       "std      2.399949e+06    2.797761e+06       0.033768             0.0  \n",
       "min      0.000000e+00    0.000000e+00       0.000000             0.0  \n",
       "25%      0.000000e+00    0.000000e+00       0.000000             0.0  \n",
       "50%      2.105800e+04    5.178343e+04       0.000000             0.0  \n",
       "75%      5.919217e+05    1.063122e+06       0.000000             0.0  \n",
       "max      3.400874e+07    3.894623e+07       1.000000             0.0  "
      ]
     },
     "execution_count": 4,
     "metadata": {},
     "output_type": "execute_result"
    }
   ],
   "source": [
    "dados.describe()"
   ]
  },
  {
   "cell_type": "code",
   "execution_count": 5,
   "id": "243cb117",
   "metadata": {},
   "outputs": [
    {
     "data": {
      "text/html": [
       "<div>\n",
       "<style scoped>\n",
       "    .dataframe tbody tr th:only-of-type {\n",
       "        vertical-align: middle;\n",
       "    }\n",
       "\n",
       "    .dataframe tbody tr th {\n",
       "        vertical-align: top;\n",
       "    }\n",
       "\n",
       "    .dataframe thead th {\n",
       "        text-align: right;\n",
       "    }\n",
       "</style>\n",
       "<table border=\"1\" class=\"dataframe\">\n",
       "  <thead>\n",
       "    <tr style=\"text-align: right;\">\n",
       "      <th></th>\n",
       "      <th>step</th>\n",
       "      <th>amount</th>\n",
       "      <th>oldbalanceOrg</th>\n",
       "      <th>newbalanceOrig</th>\n",
       "      <th>oldbalanceDest</th>\n",
       "      <th>newbalanceDest</th>\n",
       "      <th>isFraud</th>\n",
       "      <th>isFlaggedFraud</th>\n",
       "    </tr>\n",
       "  </thead>\n",
       "  <tbody>\n",
       "    <tr>\n",
       "      <th>0</th>\n",
       "      <td>1</td>\n",
       "      <td>9839.64</td>\n",
       "      <td>170136.00</td>\n",
       "      <td>160296.36</td>\n",
       "      <td>0.00</td>\n",
       "      <td>0.00</td>\n",
       "      <td>0</td>\n",
       "      <td>0</td>\n",
       "    </tr>\n",
       "    <tr>\n",
       "      <th>1</th>\n",
       "      <td>1</td>\n",
       "      <td>1864.28</td>\n",
       "      <td>21249.00</td>\n",
       "      <td>19384.72</td>\n",
       "      <td>0.00</td>\n",
       "      <td>0.00</td>\n",
       "      <td>0</td>\n",
       "      <td>0</td>\n",
       "    </tr>\n",
       "    <tr>\n",
       "      <th>2</th>\n",
       "      <td>1</td>\n",
       "      <td>181.00</td>\n",
       "      <td>181.00</td>\n",
       "      <td>0.00</td>\n",
       "      <td>0.00</td>\n",
       "      <td>0.00</td>\n",
       "      <td>1</td>\n",
       "      <td>0</td>\n",
       "    </tr>\n",
       "    <tr>\n",
       "      <th>3</th>\n",
       "      <td>1</td>\n",
       "      <td>181.00</td>\n",
       "      <td>181.00</td>\n",
       "      <td>0.00</td>\n",
       "      <td>21182.00</td>\n",
       "      <td>0.00</td>\n",
       "      <td>1</td>\n",
       "      <td>0</td>\n",
       "    </tr>\n",
       "    <tr>\n",
       "      <th>4</th>\n",
       "      <td>1</td>\n",
       "      <td>11668.14</td>\n",
       "      <td>41554.00</td>\n",
       "      <td>29885.86</td>\n",
       "      <td>0.00</td>\n",
       "      <td>0.00</td>\n",
       "      <td>0</td>\n",
       "      <td>0</td>\n",
       "    </tr>\n",
       "    <tr>\n",
       "      <th>...</th>\n",
       "      <td>...</td>\n",
       "      <td>...</td>\n",
       "      <td>...</td>\n",
       "      <td>...</td>\n",
       "      <td>...</td>\n",
       "      <td>...</td>\n",
       "      <td>...</td>\n",
       "      <td>...</td>\n",
       "    </tr>\n",
       "    <tr>\n",
       "      <th>101608</th>\n",
       "      <td>10</td>\n",
       "      <td>7477.02</td>\n",
       "      <td>785.00</td>\n",
       "      <td>0.00</td>\n",
       "      <td>0.00</td>\n",
       "      <td>0.00</td>\n",
       "      <td>0</td>\n",
       "      <td>0</td>\n",
       "    </tr>\n",
       "    <tr>\n",
       "      <th>101609</th>\n",
       "      <td>10</td>\n",
       "      <td>282252.35</td>\n",
       "      <td>220339.29</td>\n",
       "      <td>0.00</td>\n",
       "      <td>95156.01</td>\n",
       "      <td>91286.97</td>\n",
       "      <td>0</td>\n",
       "      <td>0</td>\n",
       "    </tr>\n",
       "    <tr>\n",
       "      <th>101610</th>\n",
       "      <td>10</td>\n",
       "      <td>17289.01</td>\n",
       "      <td>0.00</td>\n",
       "      <td>0.00</td>\n",
       "      <td>0.00</td>\n",
       "      <td>0.00</td>\n",
       "      <td>0</td>\n",
       "      <td>0</td>\n",
       "    </tr>\n",
       "    <tr>\n",
       "      <th>101611</th>\n",
       "      <td>10</td>\n",
       "      <td>1347146.45</td>\n",
       "      <td>1605.00</td>\n",
       "      <td>0.00</td>\n",
       "      <td>541639.43</td>\n",
       "      <td>2186953.43</td>\n",
       "      <td>0</td>\n",
       "      <td>0</td>\n",
       "    </tr>\n",
       "    <tr>\n",
       "      <th>101612</th>\n",
       "      <td>10</td>\n",
       "      <td>469539.21</td>\n",
       "      <td>31133.00</td>\n",
       "      <td>0.00</td>\n",
       "      <td>0.00</td>\n",
       "      <td>469539.21</td>\n",
       "      <td>0</td>\n",
       "      <td>0</td>\n",
       "    </tr>\n",
       "  </tbody>\n",
       "</table>\n",
       "<p>101613 rows × 8 columns</p>\n",
       "</div>"
      ],
      "text/plain": [
       "        step      amount  oldbalanceOrg  newbalanceOrig  oldbalanceDest  \\\n",
       "0          1     9839.64      170136.00       160296.36            0.00   \n",
       "1          1     1864.28       21249.00        19384.72            0.00   \n",
       "2          1      181.00         181.00            0.00            0.00   \n",
       "3          1      181.00         181.00            0.00        21182.00   \n",
       "4          1    11668.14       41554.00        29885.86            0.00   \n",
       "...      ...         ...            ...             ...             ...   \n",
       "101608    10     7477.02         785.00            0.00            0.00   \n",
       "101609    10   282252.35      220339.29            0.00        95156.01   \n",
       "101610    10    17289.01           0.00            0.00            0.00   \n",
       "101611    10  1347146.45        1605.00            0.00       541639.43   \n",
       "101612    10   469539.21       31133.00            0.00            0.00   \n",
       "\n",
       "        newbalanceDest  isFraud  isFlaggedFraud  \n",
       "0                 0.00        0               0  \n",
       "1                 0.00        0               0  \n",
       "2                 0.00        1               0  \n",
       "3                 0.00        1               0  \n",
       "4                 0.00        0               0  \n",
       "...                ...      ...             ...  \n",
       "101608            0.00        0               0  \n",
       "101609        91286.97        0               0  \n",
       "101610            0.00        0               0  \n",
       "101611      2186953.43        0               0  \n",
       "101612       469539.21        0               0  \n",
       "\n",
       "[101613 rows x 8 columns]"
      ]
     },
     "execution_count": 5,
     "metadata": {},
     "output_type": "execute_result"
    }
   ],
   "source": [
    "dados.select_dtypes(exclude=['object'])"
   ]
  },
  {
   "cell_type": "code",
   "execution_count": 6,
   "id": "841c4d63",
   "metadata": {},
   "outputs": [
    {
     "data": {
      "image/png": "[encoded data removed]",
      "text/plain": [
       "<Figure size 640x480 with 1 Axes>"
      ]
     },
     "metadata": {},
     "output_type": "display_data"
    }
   ],
   "source": [
    "ax = sns.countplot(x='type', data=dados).set_title('Types')\n",
    "ax = sns.despine(right=True, top=True)"
   ]
  },
  {
   "cell_type": "code",
   "execution_count": 7,
   "id": "3963d4cc",
   "metadata": {},
   "outputs": [
    {
     "data": {
      "image/png": "[encoded data removed]",
      "text/plain": [
       "<Figure size 640x480 with 1 Axes>"
      ]
     },
     "metadata": {},
     "output_type": "display_data"
    }
   ],
   "source": [
    "ax = sns.countplot(x=dados.type, hue='isFraud', data=dados).set_title('Types')\n",
    "ax = sns.despine(right=True, top=True)"
   ]
  },
  {
   "cell_type": "code",
   "execution_count": 8,
   "id": "33590a18",
   "metadata": {},
   "outputs": [
    {
     "data": {
      "image/png": "[encoded data removed]",
      "text/plain": [
       "<Figure size 640x480 with 1 Axes>"
      ]
     },
     "metadata": {},
     "output_type": "display_data"
    }
   ],
   "source": [
    "ax = sns.scatterplot(x='amount', y='type', data=dados)"
   ]
  },
  {
   "cell_type": "code",
   "execution_count": 9,
   "id": "69148cac",
   "metadata": {},
   "outputs": [
    {
     "data": {
      "text/plain": [
       "Index(['step', 'type', 'amount', 'nameOrig', 'oldbalanceOrg', 'newbalanceOrig',\n",
       "       'nameDest', 'oldbalanceDest', 'newbalanceDest', 'isFraud',\n",
       "       'isFlaggedFraud'],\n",
       "      dtype='object')"
      ]
     },
     "execution_count": 9,
     "metadata": {},
     "output_type": "execute_result"
    }
   ],
   "source": [
    "dados.columns"
   ]
  },
  {
   "cell_type": "code",
   "execution_count": 10,
   "id": "45a21ea7",
   "metadata": {},
   "outputs": [
    {
     "data": {
      "text/html": [
       "<div>\n",
       "<style scoped>\n",
       "    .dataframe tbody tr th:only-of-type {\n",
       "        vertical-align: middle;\n",
       "    }\n",
       "\n",
       "    .dataframe tbody tr th {\n",
       "        vertical-align: top;\n",
       "    }\n",
       "\n",
       "    .dataframe thead th {\n",
       "        text-align: right;\n",
       "    }\n",
       "</style>\n",
       "<table border=\"1\" class=\"dataframe\">\n",
       "  <thead>\n",
       "    <tr style=\"text-align: right;\">\n",
       "      <th></th>\n",
       "      <th>isFraud</th>\n",
       "      <th>isFlaggedFraud</th>\n",
       "      <th>step</th>\n",
       "      <th>type</th>\n",
       "      <th>amount</th>\n",
       "      <th>nameOrig</th>\n",
       "      <th>oldbalanceOrg</th>\n",
       "      <th>newbalanceOrig</th>\n",
       "      <th>nameDest</th>\n",
       "      <th>oldbalanceDest</th>\n",
       "      <th>newbalanceDest</th>\n",
       "    </tr>\n",
       "  </thead>\n",
       "  <tbody>\n",
       "    <tr>\n",
       "      <th>0</th>\n",
       "      <td>0</td>\n",
       "      <td>0</td>\n",
       "      <td>1</td>\n",
       "      <td>PAYMENT</td>\n",
       "      <td>9839.64</td>\n",
       "      <td>C1231006815</td>\n",
       "      <td>170136.0</td>\n",
       "      <td>160296.36</td>\n",
       "      <td>M1979787155</td>\n",
       "      <td>0.0</td>\n",
       "      <td>0.0</td>\n",
       "    </tr>\n",
       "    <tr>\n",
       "      <th>1</th>\n",
       "      <td>0</td>\n",
       "      <td>0</td>\n",
       "      <td>1</td>\n",
       "      <td>PAYMENT</td>\n",
       "      <td>1864.28</td>\n",
       "      <td>C1666544295</td>\n",
       "      <td>21249.0</td>\n",
       "      <td>19384.72</td>\n",
       "      <td>M2044282225</td>\n",
       "      <td>0.0</td>\n",
       "      <td>0.0</td>\n",
       "    </tr>\n",
       "    <tr>\n",
       "      <th>2</th>\n",
       "      <td>1</td>\n",
       "      <td>0</td>\n",
       "      <td>1</td>\n",
       "      <td>TRANSFER</td>\n",
       "      <td>181.00</td>\n",
       "      <td>C1305486145</td>\n",
       "      <td>181.0</td>\n",
       "      <td>0.00</td>\n",
       "      <td>C553264065</td>\n",
       "      <td>0.0</td>\n",
       "      <td>0.0</td>\n",
       "    </tr>\n",
       "    <tr>\n",
       "      <th>3</th>\n",
       "      <td>1</td>\n",
       "      <td>0</td>\n",
       "      <td>1</td>\n",
       "      <td>CASH_OUT</td>\n",
       "      <td>181.00</td>\n",
       "      <td>C840083671</td>\n",
       "      <td>181.0</td>\n",
       "      <td>0.00</td>\n",
       "      <td>C38997010</td>\n",
       "      <td>21182.0</td>\n",
       "      <td>0.0</td>\n",
       "    </tr>\n",
       "    <tr>\n",
       "      <th>4</th>\n",
       "      <td>0</td>\n",
       "      <td>0</td>\n",
       "      <td>1</td>\n",
       "      <td>PAYMENT</td>\n",
       "      <td>11668.14</td>\n",
       "      <td>C2048537720</td>\n",
       "      <td>41554.0</td>\n",
       "      <td>29885.86</td>\n",
       "      <td>M1230701703</td>\n",
       "      <td>0.0</td>\n",
       "      <td>0.0</td>\n",
       "    </tr>\n",
       "  </tbody>\n",
       "</table>\n",
       "</div>"
      ],
      "text/plain": [
       "   isFraud  isFlaggedFraud  step      type    amount     nameOrig  \\\n",
       "0        0               0     1   PAYMENT   9839.64  C1231006815   \n",
       "1        0               0     1   PAYMENT   1864.28  C1666544295   \n",
       "2        1               0     1  TRANSFER    181.00  C1305486145   \n",
       "3        1               0     1  CASH_OUT    181.00   C840083671   \n",
       "4        0               0     1   PAYMENT  11668.14  C2048537720   \n",
       "\n",
       "   oldbalanceOrg  newbalanceOrig     nameDest  oldbalanceDest  newbalanceDest  \n",
       "0       170136.0       160296.36  M1979787155             0.0             0.0  \n",
       "1        21249.0        19384.72  M2044282225             0.0             0.0  \n",
       "2          181.0            0.00   C553264065             0.0             0.0  \n",
       "3          181.0            0.00    C38997010         21182.0             0.0  \n",
       "4        41554.0        29885.86  M1230701703             0.0             0.0  "
      ]
     },
     "execution_count": 10,
     "metadata": {},
     "output_type": "execute_result"
    }
   ],
   "source": [
    "dados = dados[['isFraud', 'isFlaggedFraud', 'step', 'type', 'amount', 'nameOrig', 'oldbalanceOrg', 'newbalanceOrig',\n",
    "       'nameDest', 'oldbalanceDest', 'newbalanceDest']]\n",
    "dados.head()"
   ]
  },
  {
   "cell_type": "code",
   "execution_count": 11,
   "id": "248f4955",
   "metadata": {},
   "outputs": [],
   "source": [
    "colunas = {\n",
    "    'isFraud':'fraude',\n",
    "    'isFlaggedFraud':'super_fraude',\n",
    "    'step':'tempo',\n",
    "    'type':'tipo',\n",
    "    'amount':'valor',\n",
    "    'nameOrig':'cliente1',\n",
    "    'oldbalanceOrg':'saldo_inicial_c1',\n",
    "    'newbalanceOrig':'novo_saldo_c1',\n",
    "    'nameDest':'cliente2',\n",
    "    'oldbalanceDest':'saldo_inicial_c2',\n",
    "    'newbalanceDest':'novo_saldo_c2'\n",
    "    \n",
    "}"
   ]
  },
  {
   "cell_type": "code",
   "execution_count": 12,
   "id": "446b8c98",
   "metadata": {},
   "outputs": [
    {
     "data": {
      "text/html": [
       "<div>\n",
       "<style scoped>\n",
       "    .dataframe tbody tr th:only-of-type {\n",
       "        vertical-align: middle;\n",
       "    }\n",
       "\n",
       "    .dataframe tbody tr th {\n",
       "        vertical-align: top;\n",
       "    }\n",
       "\n",
       "    .dataframe thead th {\n",
       "        text-align: right;\n",
       "    }\n",
       "</style>\n",
       "<table border=\"1\" class=\"dataframe\">\n",
       "  <thead>\n",
       "    <tr style=\"text-align: right;\">\n",
       "      <th></th>\n",
       "      <th>fraude</th>\n",
       "      <th>super_fraude</th>\n",
       "      <th>tempo</th>\n",
       "      <th>tipo</th>\n",
       "      <th>valor</th>\n",
       "      <th>cliente1</th>\n",
       "      <th>saldo_inicial_c1</th>\n",
       "      <th>novo_saldo_c1</th>\n",
       "      <th>cliente2</th>\n",
       "      <th>saldo_inicial_c2</th>\n",
       "      <th>novo_saldo_c2</th>\n",
       "    </tr>\n",
       "  </thead>\n",
       "  <tbody>\n",
       "    <tr>\n",
       "      <th>0</th>\n",
       "      <td>0</td>\n",
       "      <td>0</td>\n",
       "      <td>1</td>\n",
       "      <td>PAYMENT</td>\n",
       "      <td>9839.64</td>\n",
       "      <td>C1231006815</td>\n",
       "      <td>170136.0</td>\n",
       "      <td>160296.36</td>\n",
       "      <td>M1979787155</td>\n",
       "      <td>0.0</td>\n",
       "      <td>0.0</td>\n",
       "    </tr>\n",
       "    <tr>\n",
       "      <th>1</th>\n",
       "      <td>0</td>\n",
       "      <td>0</td>\n",
       "      <td>1</td>\n",
       "      <td>PAYMENT</td>\n",
       "      <td>1864.28</td>\n",
       "      <td>C1666544295</td>\n",
       "      <td>21249.0</td>\n",
       "      <td>19384.72</td>\n",
       "      <td>M2044282225</td>\n",
       "      <td>0.0</td>\n",
       "      <td>0.0</td>\n",
       "    </tr>\n",
       "    <tr>\n",
       "      <th>2</th>\n",
       "      <td>1</td>\n",
       "      <td>0</td>\n",
       "      <td>1</td>\n",
       "      <td>TRANSFER</td>\n",
       "      <td>181.00</td>\n",
       "      <td>C1305486145</td>\n",
       "      <td>181.0</td>\n",
       "      <td>0.00</td>\n",
       "      <td>C553264065</td>\n",
       "      <td>0.0</td>\n",
       "      <td>0.0</td>\n",
       "    </tr>\n",
       "    <tr>\n",
       "      <th>3</th>\n",
       "      <td>1</td>\n",
       "      <td>0</td>\n",
       "      <td>1</td>\n",
       "      <td>CASH_OUT</td>\n",
       "      <td>181.00</td>\n",
       "      <td>C840083671</td>\n",
       "      <td>181.0</td>\n",
       "      <td>0.00</td>\n",
       "      <td>C38997010</td>\n",
       "      <td>21182.0</td>\n",
       "      <td>0.0</td>\n",
       "    </tr>\n",
       "    <tr>\n",
       "      <th>4</th>\n",
       "      <td>0</td>\n",
       "      <td>0</td>\n",
       "      <td>1</td>\n",
       "      <td>PAYMENT</td>\n",
       "      <td>11668.14</td>\n",
       "      <td>C2048537720</td>\n",
       "      <td>41554.0</td>\n",
       "      <td>29885.86</td>\n",
       "      <td>M1230701703</td>\n",
       "      <td>0.0</td>\n",
       "      <td>0.0</td>\n",
       "    </tr>\n",
       "  </tbody>\n",
       "</table>\n",
       "</div>"
      ],
      "text/plain": [
       "   fraude  super_fraude  tempo      tipo     valor     cliente1  \\\n",
       "0       0             0      1   PAYMENT   9839.64  C1231006815   \n",
       "1       0             0      1   PAYMENT   1864.28  C1666544295   \n",
       "2       1             0      1  TRANSFER    181.00  C1305486145   \n",
       "3       1             0      1  CASH_OUT    181.00   C840083671   \n",
       "4       0             0      1   PAYMENT  11668.14  C2048537720   \n",
       "\n",
       "   saldo_inicial_c1  novo_saldo_c1     cliente2  saldo_inicial_c2  \\\n",
       "0          170136.0      160296.36  M1979787155               0.0   \n",
       "1           21249.0       19384.72  M2044282225               0.0   \n",
       "2             181.0           0.00   C553264065               0.0   \n",
       "3             181.0           0.00    C38997010           21182.0   \n",
       "4           41554.0       29885.86  M1230701703               0.0   \n",
       "\n",
       "   novo_saldo_c2  \n",
       "0            0.0  \n",
       "1            0.0  \n",
       "2            0.0  \n",
       "3            0.0  \n",
       "4            0.0  "
      ]
     },
     "execution_count": 12,
     "metadata": {},
     "output_type": "execute_result"
    }
   ],
   "source": [
    "dados = dados.rename(columns = colunas)\n",
    "dados.head()"
   ]
  },
  {
   "cell_type": "code",
   "execution_count": 13,
   "id": "8cdb154d",
   "metadata": {},
   "outputs": [
    {
     "data": {
      "text/html": [
       "<div>\n",
       "<style scoped>\n",
       "    .dataframe tbody tr th:only-of-type {\n",
       "        vertical-align: middle;\n",
       "    }\n",
       "\n",
       "    .dataframe tbody tr th {\n",
       "        vertical-align: top;\n",
       "    }\n",
       "\n",
       "    .dataframe thead th {\n",
       "        text-align: right;\n",
       "    }\n",
       "</style>\n",
       "<table border=\"1\" class=\"dataframe\">\n",
       "  <thead>\n",
       "    <tr style=\"text-align: right;\">\n",
       "      <th></th>\n",
       "      <th>fraude</th>\n",
       "      <th>super_fraude</th>\n",
       "      <th>tempo</th>\n",
       "      <th>valor</th>\n",
       "      <th>saldo_inicial_c1</th>\n",
       "      <th>novo_saldo_c1</th>\n",
       "      <th>saldo_inicial_c2</th>\n",
       "      <th>novo_saldo_c2</th>\n",
       "    </tr>\n",
       "  </thead>\n",
       "  <tbody>\n",
       "    <tr>\n",
       "      <th>count</th>\n",
       "      <td>101613.000000</td>\n",
       "      <td>101613.0</td>\n",
       "      <td>101613.000000</td>\n",
       "      <td>1.016130e+05</td>\n",
       "      <td>1.016130e+05</td>\n",
       "      <td>1.016130e+05</td>\n",
       "      <td>1.016130e+05</td>\n",
       "      <td>1.016130e+05</td>\n",
       "    </tr>\n",
       "    <tr>\n",
       "      <th>mean</th>\n",
       "      <td>0.001142</td>\n",
       "      <td>0.0</td>\n",
       "      <td>8.523457</td>\n",
       "      <td>1.740901e+05</td>\n",
       "      <td>9.071753e+05</td>\n",
       "      <td>9.234992e+05</td>\n",
       "      <td>8.810428e+05</td>\n",
       "      <td>1.183998e+06</td>\n",
       "    </tr>\n",
       "    <tr>\n",
       "      <th>std</th>\n",
       "      <td>0.033768</td>\n",
       "      <td>0.0</td>\n",
       "      <td>1.820681</td>\n",
       "      <td>3.450199e+05</td>\n",
       "      <td>2.829575e+06</td>\n",
       "      <td>2.867319e+06</td>\n",
       "      <td>2.399949e+06</td>\n",
       "      <td>2.797761e+06</td>\n",
       "    </tr>\n",
       "    <tr>\n",
       "      <th>min</th>\n",
       "      <td>0.000000</td>\n",
       "      <td>0.0</td>\n",
       "      <td>1.000000</td>\n",
       "      <td>3.200000e-01</td>\n",
       "      <td>0.000000e+00</td>\n",
       "      <td>0.000000e+00</td>\n",
       "      <td>0.000000e+00</td>\n",
       "      <td>0.000000e+00</td>\n",
       "    </tr>\n",
       "    <tr>\n",
       "      <th>25%</th>\n",
       "      <td>0.000000</td>\n",
       "      <td>0.0</td>\n",
       "      <td>8.000000</td>\n",
       "      <td>1.001659e+04</td>\n",
       "      <td>0.000000e+00</td>\n",
       "      <td>0.000000e+00</td>\n",
       "      <td>0.000000e+00</td>\n",
       "      <td>0.000000e+00</td>\n",
       "    </tr>\n",
       "    <tr>\n",
       "      <th>50%</th>\n",
       "      <td>0.000000</td>\n",
       "      <td>0.0</td>\n",
       "      <td>9.000000</td>\n",
       "      <td>5.338541e+04</td>\n",
       "      <td>2.019047e+04</td>\n",
       "      <td>0.000000e+00</td>\n",
       "      <td>2.105800e+04</td>\n",
       "      <td>5.178343e+04</td>\n",
       "    </tr>\n",
       "    <tr>\n",
       "      <th>75%</th>\n",
       "      <td>0.000000</td>\n",
       "      <td>0.0</td>\n",
       "      <td>10.000000</td>\n",
       "      <td>2.124984e+05</td>\n",
       "      <td>1.947150e+05</td>\n",
       "      <td>2.192178e+05</td>\n",
       "      <td>5.919217e+05</td>\n",
       "      <td>1.063122e+06</td>\n",
       "    </tr>\n",
       "    <tr>\n",
       "      <th>max</th>\n",
       "      <td>1.000000</td>\n",
       "      <td>0.0</td>\n",
       "      <td>10.000000</td>\n",
       "      <td>1.000000e+07</td>\n",
       "      <td>3.893942e+07</td>\n",
       "      <td>3.894623e+07</td>\n",
       "      <td>3.400874e+07</td>\n",
       "      <td>3.894623e+07</td>\n",
       "    </tr>\n",
       "  </tbody>\n",
       "</table>\n",
       "</div>"
      ],
      "text/plain": [
       "              fraude  super_fraude          tempo         valor  \\\n",
       "count  101613.000000      101613.0  101613.000000  1.016130e+05   \n",
       "mean        0.001142           0.0       8.523457  1.740901e+05   \n",
       "std         0.033768           0.0       1.820681  3.450199e+05   \n",
       "min         0.000000           0.0       1.000000  3.200000e-01   \n",
       "25%         0.000000           0.0       8.000000  1.001659e+04   \n",
       "50%         0.000000           0.0       9.000000  5.338541e+04   \n",
       "75%         0.000000           0.0      10.000000  2.124984e+05   \n",
       "max         1.000000           0.0      10.000000  1.000000e+07   \n",
       "\n",
       "       saldo_inicial_c1  novo_saldo_c1  saldo_inicial_c2  novo_saldo_c2  \n",
       "count      1.016130e+05   1.016130e+05      1.016130e+05   1.016130e+05  \n",
       "mean       9.071753e+05   9.234992e+05      8.810428e+05   1.183998e+06  \n",
       "std        2.829575e+06   2.867319e+06      2.399949e+06   2.797761e+06  \n",
       "min        0.000000e+00   0.000000e+00      0.000000e+00   0.000000e+00  \n",
       "25%        0.000000e+00   0.000000e+00      0.000000e+00   0.000000e+00  \n",
       "50%        2.019047e+04   0.000000e+00      2.105800e+04   5.178343e+04  \n",
       "75%        1.947150e+05   2.192178e+05      5.919217e+05   1.063122e+06  \n",
       "max        3.893942e+07   3.894623e+07      3.400874e+07   3.894623e+07  "
      ]
     },
     "execution_count": 13,
     "metadata": {},
     "output_type": "execute_result"
    }
   ],
   "source": [
    "dados.describe()"
   ]
  },
  {
   "cell_type": "code",
   "execution_count": 14,
   "id": "3b6c2fb7",
   "metadata": {},
   "outputs": [
    {
     "data": {
      "text/plain": [
       "fraude              0\n",
       "super_fraude        0\n",
       "tempo               0\n",
       "tipo                0\n",
       "valor               0\n",
       "cliente1            0\n",
       "saldo_inicial_c1    0\n",
       "novo_saldo_c1       0\n",
       "cliente2            0\n",
       "saldo_inicial_c2    0\n",
       "novo_saldo_c2       0\n",
       "dtype: int64"
      ]
     },
     "execution_count": 14,
     "metadata": {},
     "output_type": "execute_result"
    }
   ],
   "source": [
    "dados.isnull().sum()"
   ]
  },
  {
   "cell_type": "code",
   "execution_count": 15,
   "id": "de12de38",
   "metadata": {},
   "outputs": [
    {
     "data": {
      "text/html": [
       "<div>\n",
       "<style scoped>\n",
       "    .dataframe tbody tr th:only-of-type {\n",
       "        vertical-align: middle;\n",
       "    }\n",
       "\n",
       "    .dataframe tbody tr th {\n",
       "        vertical-align: top;\n",
       "    }\n",
       "\n",
       "    .dataframe thead th {\n",
       "        text-align: right;\n",
       "    }\n",
       "</style>\n",
       "<table border=\"1\" class=\"dataframe\">\n",
       "  <thead>\n",
       "    <tr style=\"text-align: right;\">\n",
       "      <th></th>\n",
       "      <th>count</th>\n",
       "      <th>mean</th>\n",
       "      <th>std</th>\n",
       "      <th>min</th>\n",
       "      <th>25%</th>\n",
       "      <th>50%</th>\n",
       "      <th>75%</th>\n",
       "      <th>max</th>\n",
       "    </tr>\n",
       "  </thead>\n",
       "  <tbody>\n",
       "    <tr>\n",
       "      <th>fraude</th>\n",
       "      <td>101613.0</td>\n",
       "      <td>1.141586e-03</td>\n",
       "      <td>3.376824e-02</td>\n",
       "      <td>0.00</td>\n",
       "      <td>0.00</td>\n",
       "      <td>0.00</td>\n",
       "      <td>0.00</td>\n",
       "      <td>1.00</td>\n",
       "    </tr>\n",
       "    <tr>\n",
       "      <th>super_fraude</th>\n",
       "      <td>101613.0</td>\n",
       "      <td>0.000000e+00</td>\n",
       "      <td>0.000000e+00</td>\n",
       "      <td>0.00</td>\n",
       "      <td>0.00</td>\n",
       "      <td>0.00</td>\n",
       "      <td>0.00</td>\n",
       "      <td>0.00</td>\n",
       "    </tr>\n",
       "    <tr>\n",
       "      <th>tempo</th>\n",
       "      <td>101613.0</td>\n",
       "      <td>8.523457e+00</td>\n",
       "      <td>1.820681e+00</td>\n",
       "      <td>1.00</td>\n",
       "      <td>8.00</td>\n",
       "      <td>9.00</td>\n",
       "      <td>10.00</td>\n",
       "      <td>10.00</td>\n",
       "    </tr>\n",
       "    <tr>\n",
       "      <th>valor</th>\n",
       "      <td>101613.0</td>\n",
       "      <td>1.740901e+05</td>\n",
       "      <td>3.450199e+05</td>\n",
       "      <td>0.32</td>\n",
       "      <td>10016.59</td>\n",
       "      <td>53385.41</td>\n",
       "      <td>212498.40</td>\n",
       "      <td>10000000.00</td>\n",
       "    </tr>\n",
       "    <tr>\n",
       "      <th>saldo_inicial_c1</th>\n",
       "      <td>101613.0</td>\n",
       "      <td>9.071753e+05</td>\n",
       "      <td>2.829575e+06</td>\n",
       "      <td>0.00</td>\n",
       "      <td>0.00</td>\n",
       "      <td>20190.47</td>\n",
       "      <td>194715.00</td>\n",
       "      <td>38939424.03</td>\n",
       "    </tr>\n",
       "    <tr>\n",
       "      <th>novo_saldo_c1</th>\n",
       "      <td>101613.0</td>\n",
       "      <td>9.234992e+05</td>\n",
       "      <td>2.867319e+06</td>\n",
       "      <td>0.00</td>\n",
       "      <td>0.00</td>\n",
       "      <td>0.00</td>\n",
       "      <td>219217.76</td>\n",
       "      <td>38946233.02</td>\n",
       "    </tr>\n",
       "    <tr>\n",
       "      <th>saldo_inicial_c2</th>\n",
       "      <td>101613.0</td>\n",
       "      <td>8.810428e+05</td>\n",
       "      <td>2.399949e+06</td>\n",
       "      <td>0.00</td>\n",
       "      <td>0.00</td>\n",
       "      <td>21058.00</td>\n",
       "      <td>591921.70</td>\n",
       "      <td>34008736.98</td>\n",
       "    </tr>\n",
       "    <tr>\n",
       "      <th>novo_saldo_c2</th>\n",
       "      <td>101613.0</td>\n",
       "      <td>1.183998e+06</td>\n",
       "      <td>2.797761e+06</td>\n",
       "      <td>0.00</td>\n",
       "      <td>0.00</td>\n",
       "      <td>51783.43</td>\n",
       "      <td>1063121.64</td>\n",
       "      <td>38946233.02</td>\n",
       "    </tr>\n",
       "  </tbody>\n",
       "</table>\n",
       "</div>"
      ],
      "text/plain": [
       "                     count          mean           std   min       25%  \\\n",
       "fraude            101613.0  1.141586e-03  3.376824e-02  0.00      0.00   \n",
       "super_fraude      101613.0  0.000000e+00  0.000000e+00  0.00      0.00   \n",
       "tempo             101613.0  8.523457e+00  1.820681e+00  1.00      8.00   \n",
       "valor             101613.0  1.740901e+05  3.450199e+05  0.32  10016.59   \n",
       "saldo_inicial_c1  101613.0  9.071753e+05  2.829575e+06  0.00      0.00   \n",
       "novo_saldo_c1     101613.0  9.234992e+05  2.867319e+06  0.00      0.00   \n",
       "saldo_inicial_c2  101613.0  8.810428e+05  2.399949e+06  0.00      0.00   \n",
       "novo_saldo_c2     101613.0  1.183998e+06  2.797761e+06  0.00      0.00   \n",
       "\n",
       "                       50%         75%          max  \n",
       "fraude                0.00        0.00         1.00  \n",
       "super_fraude          0.00        0.00         0.00  \n",
       "tempo                 9.00       10.00        10.00  \n",
       "valor             53385.41   212498.40  10000000.00  \n",
       "saldo_inicial_c1  20190.47   194715.00  38939424.03  \n",
       "novo_saldo_c1         0.00   219217.76  38946233.02  \n",
       "saldo_inicial_c2  21058.00   591921.70  34008736.98  \n",
       "novo_saldo_c2     51783.43  1063121.64  38946233.02  "
      ]
     },
     "execution_count": 15,
     "metadata": {},
     "output_type": "execute_result"
    }
   ],
   "source": [
    "dados.describe().T"
   ]
  },
  {
   "cell_type": "code",
   "execution_count": 16,
   "id": "39b44996",
   "metadata": {},
   "outputs": [
    {
     "data": {
      "text/plain": [
       "(101613, 11)"
      ]
     },
     "execution_count": 16,
     "metadata": {},
     "output_type": "execute_result"
    }
   ],
   "source": [
    "dados.shape"
   ]
  },
  {
   "cell_type": "code",
   "execution_count": 17,
   "id": "1600b0f8",
   "metadata": {},
   "outputs": [
    {
     "name": "stdout",
     "output_type": "stream",
     "text": [
      "<class 'pandas.core.frame.DataFrame'>\n",
      "RangeIndex: 101613 entries, 0 to 101612\n",
      "Data columns (total 11 columns):\n",
      " #   Column            Non-Null Count   Dtype  \n",
      "---  ------            --------------   -----  \n",
      " 0   fraude            101613 non-null  int64  \n",
      " 1   super_fraude      101613 non-null  int64  \n",
      " 2   tempo             101613 non-null  int64  \n",
      " 3   tipo              101613 non-null  object \n",
      " 4   valor             101613 non-null  float64\n",
      " 5   cliente1          101613 non-null  object \n",
      " 6   saldo_inicial_c1  101613 non-null  float64\n",
      " 7   novo_saldo_c1     101613 non-null  float64\n",
      " 8   cliente2          101613 non-null  object \n",
      " 9   saldo_inicial_c2  101613 non-null  float64\n",
      " 10  novo_saldo_c2     101613 non-null  float64\n",
      "dtypes: float64(5), int64(3), object(3)\n",
      "memory usage: 8.5+ MB\n"
     ]
    }
   ],
   "source": [
    "dados.info()"
   ]
  },
  {
   "cell_type": "code",
   "execution_count": 18,
   "id": "861b9a9d",
   "metadata": {},
   "outputs": [
    {
     "data": {
      "text/plain": [
       "fraude\n",
       "0    101497\n",
       "1       116\n",
       "Name: tempo, dtype: int64"
      ]
     },
     "execution_count": 18,
     "metadata": {},
     "output_type": "execute_result"
    }
   ],
   "source": [
    "dados.groupby('fraude').tempo.count()"
   ]
  },
  {
   "cell_type": "code",
   "execution_count": 19,
   "id": "a48ede0b",
   "metadata": {},
   "outputs": [],
   "source": [
    "#pandas_profiling.ProfileReport(dados)"
   ]
  },
  {
   "cell_type": "code",
   "execution_count": 20,
   "id": "0c722aea",
   "metadata": {},
   "outputs": [
    {
     "data": {
      "text/html": [
       "<div>\n",
       "<style scoped>\n",
       "    .dataframe tbody tr th:only-of-type {\n",
       "        vertical-align: middle;\n",
       "    }\n",
       "\n",
       "    .dataframe tbody tr th {\n",
       "        vertical-align: top;\n",
       "    }\n",
       "\n",
       "    .dataframe thead th {\n",
       "        text-align: right;\n",
       "    }\n",
       "</style>\n",
       "<table border=\"1\" class=\"dataframe\">\n",
       "  <thead>\n",
       "    <tr style=\"text-align: right;\">\n",
       "      <th></th>\n",
       "      <th>fraude</th>\n",
       "      <th>super_fraude</th>\n",
       "      <th>tempo</th>\n",
       "      <th>valor</th>\n",
       "      <th>cliente1</th>\n",
       "      <th>saldo_inicial_c1</th>\n",
       "      <th>novo_saldo_c1</th>\n",
       "      <th>cliente2</th>\n",
       "      <th>saldo_inicial_c2</th>\n",
       "      <th>novo_saldo_c2</th>\n",
       "      <th>tipo_CASH_IN</th>\n",
       "      <th>tipo_CASH_OUT</th>\n",
       "      <th>tipo_DEBIT</th>\n",
       "      <th>tipo_PAYMENT</th>\n",
       "      <th>tipo_TRANSFER</th>\n",
       "    </tr>\n",
       "  </thead>\n",
       "  <tbody>\n",
       "    <tr>\n",
       "      <th>0</th>\n",
       "      <td>0</td>\n",
       "      <td>0</td>\n",
       "      <td>1</td>\n",
       "      <td>9839.64</td>\n",
       "      <td>C1231006815</td>\n",
       "      <td>170136.0</td>\n",
       "      <td>160296.36</td>\n",
       "      <td>M1979787155</td>\n",
       "      <td>0.0</td>\n",
       "      <td>0.0</td>\n",
       "      <td>0</td>\n",
       "      <td>0</td>\n",
       "      <td>0</td>\n",
       "      <td>1</td>\n",
       "      <td>0</td>\n",
       "    </tr>\n",
       "    <tr>\n",
       "      <th>1</th>\n",
       "      <td>0</td>\n",
       "      <td>0</td>\n",
       "      <td>1</td>\n",
       "      <td>1864.28</td>\n",
       "      <td>C1666544295</td>\n",
       "      <td>21249.0</td>\n",
       "      <td>19384.72</td>\n",
       "      <td>M2044282225</td>\n",
       "      <td>0.0</td>\n",
       "      <td>0.0</td>\n",
       "      <td>0</td>\n",
       "      <td>0</td>\n",
       "      <td>0</td>\n",
       "      <td>1</td>\n",
       "      <td>0</td>\n",
       "    </tr>\n",
       "    <tr>\n",
       "      <th>2</th>\n",
       "      <td>1</td>\n",
       "      <td>0</td>\n",
       "      <td>1</td>\n",
       "      <td>181.00</td>\n",
       "      <td>C1305486145</td>\n",
       "      <td>181.0</td>\n",
       "      <td>0.00</td>\n",
       "      <td>C553264065</td>\n",
       "      <td>0.0</td>\n",
       "      <td>0.0</td>\n",
       "      <td>0</td>\n",
       "      <td>0</td>\n",
       "      <td>0</td>\n",
       "      <td>0</td>\n",
       "      <td>1</td>\n",
       "    </tr>\n",
       "    <tr>\n",
       "      <th>3</th>\n",
       "      <td>1</td>\n",
       "      <td>0</td>\n",
       "      <td>1</td>\n",
       "      <td>181.00</td>\n",
       "      <td>C840083671</td>\n",
       "      <td>181.0</td>\n",
       "      <td>0.00</td>\n",
       "      <td>C38997010</td>\n",
       "      <td>21182.0</td>\n",
       "      <td>0.0</td>\n",
       "      <td>0</td>\n",
       "      <td>1</td>\n",
       "      <td>0</td>\n",
       "      <td>0</td>\n",
       "      <td>0</td>\n",
       "    </tr>\n",
       "    <tr>\n",
       "      <th>4</th>\n",
       "      <td>0</td>\n",
       "      <td>0</td>\n",
       "      <td>1</td>\n",
       "      <td>11668.14</td>\n",
       "      <td>C2048537720</td>\n",
       "      <td>41554.0</td>\n",
       "      <td>29885.86</td>\n",
       "      <td>M1230701703</td>\n",
       "      <td>0.0</td>\n",
       "      <td>0.0</td>\n",
       "      <td>0</td>\n",
       "      <td>0</td>\n",
       "      <td>0</td>\n",
       "      <td>1</td>\n",
       "      <td>0</td>\n",
       "    </tr>\n",
       "  </tbody>\n",
       "</table>\n",
       "</div>"
      ],
      "text/plain": [
       "   fraude  super_fraude  tempo     valor     cliente1  saldo_inicial_c1  \\\n",
       "0       0             0      1   9839.64  C1231006815          170136.0   \n",
       "1       0             0      1   1864.28  C1666544295           21249.0   \n",
       "2       1             0      1    181.00  C1305486145             181.0   \n",
       "3       1             0      1    181.00   C840083671             181.0   \n",
       "4       0             0      1  11668.14  C2048537720           41554.0   \n",
       "\n",
       "   novo_saldo_c1     cliente2  saldo_inicial_c2  novo_saldo_c2  tipo_CASH_IN  \\\n",
       "0      160296.36  M1979787155               0.0            0.0             0   \n",
       "1       19384.72  M2044282225               0.0            0.0             0   \n",
       "2           0.00   C553264065               0.0            0.0             0   \n",
       "3           0.00    C38997010           21182.0            0.0             0   \n",
       "4       29885.86  M1230701703               0.0            0.0             0   \n",
       "\n",
       "   tipo_CASH_OUT  tipo_DEBIT  tipo_PAYMENT  tipo_TRANSFER  \n",
       "0              0           0             1              0  \n",
       "1              0           0             1              0  \n",
       "2              0           0             0              1  \n",
       "3              1           0             0              0  \n",
       "4              0           0             1              0  "
      ]
     },
     "execution_count": 20,
     "metadata": {},
     "output_type": "execute_result"
    }
   ],
   "source": [
    "dados = pd.get_dummies(data=dados, columns=['tipo'])\n",
    "dados.head()"
   ]
  },
  {
   "cell_type": "code",
   "execution_count": 21,
   "id": "e5e0414b",
   "metadata": {},
   "outputs": [],
   "source": [
    "dados.drop(columns=['cliente1', 'cliente2', 'super_fraude'], axis=1, inplace=True)"
   ]
  },
  {
   "cell_type": "code",
   "execution_count": 22,
   "id": "29c62fd5",
   "metadata": {},
   "outputs": [
    {
     "data": {
      "text/html": [
       "<div>\n",
       "<style scoped>\n",
       "    .dataframe tbody tr th:only-of-type {\n",
       "        vertical-align: middle;\n",
       "    }\n",
       "\n",
       "    .dataframe tbody tr th {\n",
       "        vertical-align: top;\n",
       "    }\n",
       "\n",
       "    .dataframe thead th {\n",
       "        text-align: right;\n",
       "    }\n",
       "</style>\n",
       "<table border=\"1\" class=\"dataframe\">\n",
       "  <thead>\n",
       "    <tr style=\"text-align: right;\">\n",
       "      <th></th>\n",
       "      <th>fraude</th>\n",
       "      <th>tempo</th>\n",
       "      <th>valor</th>\n",
       "      <th>saldo_inicial_c1</th>\n",
       "      <th>novo_saldo_c1</th>\n",
       "      <th>saldo_inicial_c2</th>\n",
       "      <th>novo_saldo_c2</th>\n",
       "      <th>tipo_CASH_IN</th>\n",
       "      <th>tipo_CASH_OUT</th>\n",
       "      <th>tipo_DEBIT</th>\n",
       "      <th>tipo_PAYMENT</th>\n",
       "      <th>tipo_TRANSFER</th>\n",
       "    </tr>\n",
       "  </thead>\n",
       "  <tbody>\n",
       "    <tr>\n",
       "      <th>0</th>\n",
       "      <td>0</td>\n",
       "      <td>1</td>\n",
       "      <td>9839.64</td>\n",
       "      <td>170136.0</td>\n",
       "      <td>160296.36</td>\n",
       "      <td>0.0</td>\n",
       "      <td>0.0</td>\n",
       "      <td>0</td>\n",
       "      <td>0</td>\n",
       "      <td>0</td>\n",
       "      <td>1</td>\n",
       "      <td>0</td>\n",
       "    </tr>\n",
       "    <tr>\n",
       "      <th>1</th>\n",
       "      <td>0</td>\n",
       "      <td>1</td>\n",
       "      <td>1864.28</td>\n",
       "      <td>21249.0</td>\n",
       "      <td>19384.72</td>\n",
       "      <td>0.0</td>\n",
       "      <td>0.0</td>\n",
       "      <td>0</td>\n",
       "      <td>0</td>\n",
       "      <td>0</td>\n",
       "      <td>1</td>\n",
       "      <td>0</td>\n",
       "    </tr>\n",
       "    <tr>\n",
       "      <th>2</th>\n",
       "      <td>1</td>\n",
       "      <td>1</td>\n",
       "      <td>181.00</td>\n",
       "      <td>181.0</td>\n",
       "      <td>0.00</td>\n",
       "      <td>0.0</td>\n",
       "      <td>0.0</td>\n",
       "      <td>0</td>\n",
       "      <td>0</td>\n",
       "      <td>0</td>\n",
       "      <td>0</td>\n",
       "      <td>1</td>\n",
       "    </tr>\n",
       "    <tr>\n",
       "      <th>3</th>\n",
       "      <td>1</td>\n",
       "      <td>1</td>\n",
       "      <td>181.00</td>\n",
       "      <td>181.0</td>\n",
       "      <td>0.00</td>\n",
       "      <td>21182.0</td>\n",
       "      <td>0.0</td>\n",
       "      <td>0</td>\n",
       "      <td>1</td>\n",
       "      <td>0</td>\n",
       "      <td>0</td>\n",
       "      <td>0</td>\n",
       "    </tr>\n",
       "    <tr>\n",
       "      <th>4</th>\n",
       "      <td>0</td>\n",
       "      <td>1</td>\n",
       "      <td>11668.14</td>\n",
       "      <td>41554.0</td>\n",
       "      <td>29885.86</td>\n",
       "      <td>0.0</td>\n",
       "      <td>0.0</td>\n",
       "      <td>0</td>\n",
       "      <td>0</td>\n",
       "      <td>0</td>\n",
       "      <td>1</td>\n",
       "      <td>0</td>\n",
       "    </tr>\n",
       "  </tbody>\n",
       "</table>\n",
       "</div>"
      ],
      "text/plain": [
       "   fraude  tempo     valor  saldo_inicial_c1  novo_saldo_c1  saldo_inicial_c2  \\\n",
       "0       0      1   9839.64          170136.0      160296.36               0.0   \n",
       "1       0      1   1864.28           21249.0       19384.72               0.0   \n",
       "2       1      1    181.00             181.0           0.00               0.0   \n",
       "3       1      1    181.00             181.0           0.00           21182.0   \n",
       "4       0      1  11668.14           41554.0       29885.86               0.0   \n",
       "\n",
       "   novo_saldo_c2  tipo_CASH_IN  tipo_CASH_OUT  tipo_DEBIT  tipo_PAYMENT  \\\n",
       "0            0.0             0              0           0             1   \n",
       "1            0.0             0              0           0             1   \n",
       "2            0.0             0              0           0             0   \n",
       "3            0.0             0              1           0             0   \n",
       "4            0.0             0              0           0             1   \n",
       "\n",
       "   tipo_TRANSFER  \n",
       "0              0  \n",
       "1              0  \n",
       "2              1  \n",
       "3              0  \n",
       "4              0  "
      ]
     },
     "execution_count": 22,
     "metadata": {},
     "output_type": "execute_result"
    }
   ],
   "source": [
    "dados.head()"
   ]
  },
  {
   "cell_type": "code",
   "execution_count": 23,
   "id": "90fbdb1c",
   "metadata": {},
   "outputs": [],
   "source": [
    "X = dados.drop(['fraude'], axis=1)\n",
    "y = dados['fraude']"
   ]
  },
  {
   "cell_type": "code",
   "execution_count": 24,
   "id": "74c0d346",
   "metadata": {},
   "outputs": [],
   "source": [
    "from sklearn.model_selection import train_test_split"
   ]
  },
  {
   "cell_type": "code",
   "execution_count": 25,
   "id": "ade40c59",
   "metadata": {},
   "outputs": [],
   "source": [
    "SEED = 42\n",
    "\n",
    "X_train, X_test, y_train, y_test = train_test_split(X, y, test_size=0.25, random_state = SEED)"
   ]
  },
  {
   "cell_type": "code",
   "execution_count": 26,
   "id": "2c8f0545",
   "metadata": {},
   "outputs": [],
   "source": [
    "from sklearn.linear_model import LogisticRegression"
   ]
  },
  {
   "cell_type": "code",
   "execution_count": 27,
   "id": "98bf0cda",
   "metadata": {},
   "outputs": [],
   "source": [
    "model = LogisticRegression(max_iter = 1000, random_state = SEED)"
   ]
  },
  {
   "cell_type": "code",
   "execution_count": 28,
   "id": "fcf438d6",
   "metadata": {},
   "outputs": [],
   "source": [
    "model.fit(X_train, y_train)\n",
    "y_pred = model.predict(X_test)"
   ]
  },
  {
   "cell_type": "code",
   "execution_count": 29,
   "id": "b639f78b",
   "metadata": {},
   "outputs": [],
   "source": [
    "from sklearn import metrics"
   ]
  },
  {
   "cell_type": "code",
   "execution_count": 30,
   "id": "fed1005e",
   "metadata": {},
   "outputs": [
    {
     "name": "stdout",
     "output_type": "stream",
     "text": [
      "Acurácia:  0.9989765391276965\n",
      "Precisão:  0.2\n",
      "Recall:  0.043478260869565216\n",
      "F1:  0.07142857142857142\n"
     ]
    }
   ],
   "source": [
    "print(f'Acurácia: ', metrics.accuracy_score(y_test, y_pred))\n",
    "print(f'Precisão: ', metrics.precision_score(y_test, y_pred))\n",
    "print(f'Recall: ', metrics.recall_score(y_test, y_pred))\n",
    "print(f'F1: ', metrics.f1_score(y_test, y_pred))"
   ]
  },
  {
   "cell_type": "code",
   "execution_count": 31,
   "id": "2aeb92fc",
   "metadata": {},
   "outputs": [],
   "source": [
    "import matplotlib.pyplot as plt\n",
    "from sklearn.metrics import confusion_matrix\n",
    "from sklearn.datasets import make_classification\n",
    "from sklearn.metrics import ConfusionMatrixDisplay"
   ]
  },
  {
   "cell_type": "code",
   "execution_count": 32,
   "id": "1d5aad30",
   "metadata": {},
   "outputs": [
    {
     "data": {
      "text/plain": [
       "<sklearn.metrics._plot.confusion_matrix.ConfusionMatrixDisplay at 0x1c99b83b550>"
      ]
     },
     "execution_count": 32,
     "metadata": {},
     "output_type": "execute_result"
    },
    {
     "data": {
      "image/png": "[encoded data removed]",
      "text/plain": [
       "<Figure size 640x480 with 2 Axes>"
      ]
     },
     "metadata": {},
     "output_type": "display_data"
    }
   ],
   "source": [
    "cm = confusion_matrix(y_test, y_pred)\n",
    "disp = ConfusionMatrixDisplay(confusion_matrix = cm)\n",
    "disp.plot()"
   ]
  },
  {
   "cell_type": "code",
   "execution_count": 33,
   "id": "4fec4c40",
   "metadata": {},
   "outputs": [
    {
     "data": {
      "text/plain": [
       "<matplotlib.legend.Legend at 0x1c9820c8c10>"
      ]
     },
     "execution_count": 33,
     "metadata": {},
     "output_type": "execute_result"
    },
    {
     "data": {
      "image/png": "[encoded data removed]",
      "text/plain": [
       "<Figure size 1200x800 with 1 Axes>"
      ]
     },
     "metadata": {},
     "output_type": "display_data"
    }
   ],
   "source": [
    "y_pred_prob = model.predict_proba(X_test)[::,1]\n",
    "fpr, tpr, _ = metrics.roc_curve(y_test, y_pred_prob)\n",
    "auc = metrics.roc_auc_score(y_test, y_pred_prob)\n",
    "\n",
    "plt.rcParams['figure.figsize'] = (12., 8.)\n",
    "plt.plot(fpr, tpr, label = 'Logistic Regression, auc = '+str(auc) )\n",
    "plt.plot([0, 1], [0, 1], color = 'red', lw=2, linestyle = '--')\n",
    "plt.legend(loc=4)\n"
   ]
  },
  {
   "cell_type": "code",
   "execution_count": 34,
   "id": "8cf8a989",
   "metadata": {},
   "outputs": [],
   "source": [
    "from imblearn.over_sampling import SMOTE"
   ]
  },
  {
   "cell_type": "code",
   "execution_count": 35,
   "id": "06d76712",
   "metadata": {},
   "outputs": [],
   "source": [
    "smote = SMOTE(random_state=SEED)"
   ]
  },
  {
   "cell_type": "code",
   "execution_count": 36,
   "id": "31f76943",
   "metadata": {},
   "outputs": [],
   "source": [
    "X = dados.drop(['fraude'], axis=1)\n",
    "y = dados['fraude']"
   ]
  },
  {
   "cell_type": "code",
   "execution_count": 37,
   "id": "cb58885b",
   "metadata": {},
   "outputs": [
    {
     "data": {
      "text/html": [
       "<div>\n",
       "<style scoped>\n",
       "    .dataframe tbody tr th:only-of-type {\n",
       "        vertical-align: middle;\n",
       "    }\n",
       "\n",
       "    .dataframe tbody tr th {\n",
       "        vertical-align: top;\n",
       "    }\n",
       "\n",
       "    .dataframe thead th {\n",
       "        text-align: right;\n",
       "    }\n",
       "</style>\n",
       "<table border=\"1\" class=\"dataframe\">\n",
       "  <thead>\n",
       "    <tr style=\"text-align: right;\">\n",
       "      <th></th>\n",
       "      <th>tempo</th>\n",
       "      <th>valor</th>\n",
       "      <th>saldo_inicial_c1</th>\n",
       "      <th>novo_saldo_c1</th>\n",
       "      <th>saldo_inicial_c2</th>\n",
       "      <th>novo_saldo_c2</th>\n",
       "      <th>tipo_CASH_IN</th>\n",
       "      <th>tipo_CASH_OUT</th>\n",
       "      <th>tipo_DEBIT</th>\n",
       "      <th>tipo_PAYMENT</th>\n",
       "      <th>tipo_TRANSFER</th>\n",
       "      <th>fraude</th>\n",
       "    </tr>\n",
       "  </thead>\n",
       "  <tbody>\n",
       "    <tr>\n",
       "      <th>0</th>\n",
       "      <td>1</td>\n",
       "      <td>9839.640000</td>\n",
       "      <td>170136.000000</td>\n",
       "      <td>160296.36</td>\n",
       "      <td>0.000000</td>\n",
       "      <td>0.000000</td>\n",
       "      <td>0</td>\n",
       "      <td>0</td>\n",
       "      <td>0</td>\n",
       "      <td>1</td>\n",
       "      <td>0</td>\n",
       "      <td>0</td>\n",
       "    </tr>\n",
       "    <tr>\n",
       "      <th>1</th>\n",
       "      <td>1</td>\n",
       "      <td>1864.280000</td>\n",
       "      <td>21249.000000</td>\n",
       "      <td>19384.72</td>\n",
       "      <td>0.000000</td>\n",
       "      <td>0.000000</td>\n",
       "      <td>0</td>\n",
       "      <td>0</td>\n",
       "      <td>0</td>\n",
       "      <td>1</td>\n",
       "      <td>0</td>\n",
       "      <td>0</td>\n",
       "    </tr>\n",
       "    <tr>\n",
       "      <th>2</th>\n",
       "      <td>1</td>\n",
       "      <td>181.000000</td>\n",
       "      <td>181.000000</td>\n",
       "      <td>0.00</td>\n",
       "      <td>0.000000</td>\n",
       "      <td>0.000000</td>\n",
       "      <td>0</td>\n",
       "      <td>0</td>\n",
       "      <td>0</td>\n",
       "      <td>0</td>\n",
       "      <td>1</td>\n",
       "      <td>1</td>\n",
       "    </tr>\n",
       "    <tr>\n",
       "      <th>3</th>\n",
       "      <td>1</td>\n",
       "      <td>181.000000</td>\n",
       "      <td>181.000000</td>\n",
       "      <td>0.00</td>\n",
       "      <td>21182.000000</td>\n",
       "      <td>0.000000</td>\n",
       "      <td>0</td>\n",
       "      <td>1</td>\n",
       "      <td>0</td>\n",
       "      <td>0</td>\n",
       "      <td>0</td>\n",
       "      <td>1</td>\n",
       "    </tr>\n",
       "    <tr>\n",
       "      <th>4</th>\n",
       "      <td>1</td>\n",
       "      <td>11668.140000</td>\n",
       "      <td>41554.000000</td>\n",
       "      <td>29885.86</td>\n",
       "      <td>0.000000</td>\n",
       "      <td>0.000000</td>\n",
       "      <td>0</td>\n",
       "      <td>0</td>\n",
       "      <td>0</td>\n",
       "      <td>1</td>\n",
       "      <td>0</td>\n",
       "      <td>0</td>\n",
       "    </tr>\n",
       "    <tr>\n",
       "      <th>...</th>\n",
       "      <td>...</td>\n",
       "      <td>...</td>\n",
       "      <td>...</td>\n",
       "      <td>...</td>\n",
       "      <td>...</td>\n",
       "      <td>...</td>\n",
       "      <td>...</td>\n",
       "      <td>...</td>\n",
       "      <td>...</td>\n",
       "      <td>...</td>\n",
       "      <td>...</td>\n",
       "      <td>...</td>\n",
       "    </tr>\n",
       "    <tr>\n",
       "      <th>202989</th>\n",
       "      <td>5</td>\n",
       "      <td>17608.962863</td>\n",
       "      <td>17608.962863</td>\n",
       "      <td>0.00</td>\n",
       "      <td>0.000000</td>\n",
       "      <td>0.000000</td>\n",
       "      <td>0</td>\n",
       "      <td>0</td>\n",
       "      <td>0</td>\n",
       "      <td>0</td>\n",
       "      <td>1</td>\n",
       "      <td>1</td>\n",
       "    </tr>\n",
       "    <tr>\n",
       "      <th>202990</th>\n",
       "      <td>7</td>\n",
       "      <td>12116.291013</td>\n",
       "      <td>12116.291013</td>\n",
       "      <td>0.00</td>\n",
       "      <td>0.000000</td>\n",
       "      <td>0.000000</td>\n",
       "      <td>0</td>\n",
       "      <td>0</td>\n",
       "      <td>0</td>\n",
       "      <td>0</td>\n",
       "      <td>1</td>\n",
       "      <td>1</td>\n",
       "    </tr>\n",
       "    <tr>\n",
       "      <th>202991</th>\n",
       "      <td>1</td>\n",
       "      <td>231612.880715</td>\n",
       "      <td>231612.880715</td>\n",
       "      <td>0.00</td>\n",
       "      <td>1945.589357</td>\n",
       "      <td>9370.603471</td>\n",
       "      <td>0</td>\n",
       "      <td>0</td>\n",
       "      <td>0</td>\n",
       "      <td>0</td>\n",
       "      <td>0</td>\n",
       "      <td>1</td>\n",
       "    </tr>\n",
       "    <tr>\n",
       "      <th>202992</th>\n",
       "      <td>9</td>\n",
       "      <td>547325.144758</td>\n",
       "      <td>547325.144758</td>\n",
       "      <td>0.00</td>\n",
       "      <td>0.000000</td>\n",
       "      <td>0.000000</td>\n",
       "      <td>0</td>\n",
       "      <td>0</td>\n",
       "      <td>0</td>\n",
       "      <td>0</td>\n",
       "      <td>1</td>\n",
       "      <td>1</td>\n",
       "    </tr>\n",
       "    <tr>\n",
       "      <th>202993</th>\n",
       "      <td>4</td>\n",
       "      <td>159298.594420</td>\n",
       "      <td>159298.594420</td>\n",
       "      <td>0.00</td>\n",
       "      <td>0.000000</td>\n",
       "      <td>0.000000</td>\n",
       "      <td>0</td>\n",
       "      <td>0</td>\n",
       "      <td>0</td>\n",
       "      <td>0</td>\n",
       "      <td>1</td>\n",
       "      <td>1</td>\n",
       "    </tr>\n",
       "  </tbody>\n",
       "</table>\n",
       "<p>202994 rows × 12 columns</p>\n",
       "</div>"
      ],
      "text/plain": [
       "        tempo          valor  saldo_inicial_c1  novo_saldo_c1  \\\n",
       "0           1    9839.640000     170136.000000      160296.36   \n",
       "1           1    1864.280000      21249.000000       19384.72   \n",
       "2           1     181.000000        181.000000           0.00   \n",
       "3           1     181.000000        181.000000           0.00   \n",
       "4           1   11668.140000      41554.000000       29885.86   \n",
       "...       ...            ...               ...            ...   \n",
       "202989      5   17608.962863      17608.962863           0.00   \n",
       "202990      7   12116.291013      12116.291013           0.00   \n",
       "202991      1  231612.880715     231612.880715           0.00   \n",
       "202992      9  547325.144758     547325.144758           0.00   \n",
       "202993      4  159298.594420     159298.594420           0.00   \n",
       "\n",
       "        saldo_inicial_c2  novo_saldo_c2  tipo_CASH_IN  tipo_CASH_OUT  \\\n",
       "0               0.000000       0.000000             0              0   \n",
       "1               0.000000       0.000000             0              0   \n",
       "2               0.000000       0.000000             0              0   \n",
       "3           21182.000000       0.000000             0              1   \n",
       "4               0.000000       0.000000             0              0   \n",
       "...                  ...            ...           ...            ...   \n",
       "202989          0.000000       0.000000             0              0   \n",
       "202990          0.000000       0.000000             0              0   \n",
       "202991       1945.589357    9370.603471             0              0   \n",
       "202992          0.000000       0.000000             0              0   \n",
       "202993          0.000000       0.000000             0              0   \n",
       "\n",
       "        tipo_DEBIT  tipo_PAYMENT  tipo_TRANSFER  fraude  \n",
       "0                0             1              0       0  \n",
       "1                0             1              0       0  \n",
       "2                0             0              1       1  \n",
       "3                0             0              0       1  \n",
       "4                0             1              0       0  \n",
       "...            ...           ...            ...     ...  \n",
       "202989           0             0              1       1  \n",
       "202990           0             0              1       1  \n",
       "202991           0             0              0       1  \n",
       "202992           0             0              1       1  \n",
       "202993           0             0              1       1  \n",
       "\n",
       "[202994 rows x 12 columns]"
      ]
     },
     "execution_count": 37,
     "metadata": {},
     "output_type": "execute_result"
    }
   ],
   "source": [
    "x_resampled, y_resampled = smote.fit_resample(X, y)\n",
    "dados_balanceados = pd.concat([x_resampled, y_resampled], axis=1)\n",
    "dados_balanceados"
   ]
  },
  {
   "cell_type": "code",
   "execution_count": 38,
   "id": "b1311577",
   "metadata": {},
   "outputs": [
    {
     "data": {
      "text/plain": [
       "fraude\n",
       "0    101497\n",
       "1    101497\n",
       "Name: tempo, dtype: int64"
      ]
     },
     "execution_count": 38,
     "metadata": {},
     "output_type": "execute_result"
    }
   ],
   "source": [
    "dados_balanceados.groupby('fraude').tempo.count()"
   ]
  },
  {
   "cell_type": "code",
   "execution_count": 39,
   "id": "b681d989",
   "metadata": {},
   "outputs": [
    {
     "data": {
      "image/png": "[encoded data removed]",
      "text/plain": [
       "<Figure size 1200x400 with 1 Axes>"
      ]
     },
     "metadata": {},
     "output_type": "display_data"
    }
   ],
   "source": [
    "plt.figure(figsize=(12,4))\n",
    "ax = sns.countplot(x='fraude', data=dados_balanceados)\n"
   ]
  },
  {
   "cell_type": "code",
   "execution_count": 40,
   "id": "719b5e63",
   "metadata": {},
   "outputs": [],
   "source": [
    "X = dados_balanceados.drop(['fraude'], axis=1)\n",
    "y = dados_balanceados['fraude']"
   ]
  },
  {
   "cell_type": "code",
   "execution_count": 41,
   "id": "824e5adf",
   "metadata": {},
   "outputs": [],
   "source": [
    "X_train, X_test, y_train, y_test = train_test_split(X, y, test_size=0.25, random_state = SEED)"
   ]
  },
  {
   "cell_type": "code",
   "execution_count": 42,
   "id": "7dbaa653",
   "metadata": {},
   "outputs": [],
   "source": [
    "model = LogisticRegression(max_iter = 1000, random_state = SEED)\n",
    "\n",
    "model.fit(X_train, y_train)\n",
    "y_pred = model.predict(X_test)\n"
   ]
  },
  {
   "cell_type": "code",
   "execution_count": 43,
   "id": "1498a802",
   "metadata": {},
   "outputs": [
    {
     "name": "stdout",
     "output_type": "stream",
     "text": [
      "Acurácia:  0.9417722516699837\n",
      "Precisão:  0.9241993556945234\n",
      "Recall:  0.9623125493291239\n",
      "F1:  0.9428709521507975\n"
     ]
    }
   ],
   "source": [
    "\n",
    "print(f'Acurácia: ', metrics.accuracy_score(y_test, y_pred))\n",
    "print(f'Precisão: ', metrics.precision_score(y_test, y_pred))\n",
    "print(f'Recall: ', metrics.recall_score(y_test, y_pred))\n",
    "print(f'F1: ', metrics.f1_score(y_test, y_pred))"
   ]
  },
  {
   "cell_type": "code",
   "execution_count": 44,
   "id": "c8208a1b",
   "metadata": {},
   "outputs": [
    {
     "data": {
      "text/plain": [
       "<sklearn.metrics._plot.confusion_matrix.ConfusionMatrixDisplay at 0x1c99ecd0490>"
      ]
     },
     "execution_count": 44,
     "metadata": {},
     "output_type": "execute_result"
    },
    {
     "data": {
      "image/png": "[encoded data removed]",
      "text/plain": [
       "<Figure size 1200x800 with 2 Axes>"
      ]
     },
     "metadata": {},
     "output_type": "display_data"
    }
   ],
   "source": [
    "cm = confusion_matrix(y_test, y_pred)\n",
    "disp = ConfusionMatrixDisplay(confusion_matrix = cm)\n",
    "disp.plot()"
   ]
  },
  {
   "cell_type": "code",
   "execution_count": 45,
   "id": "0317ccca",
   "metadata": {},
   "outputs": [
    {
     "data": {
      "text/plain": [
       "<matplotlib.legend.Legend at 0x1c9a66167a0>"
      ]
     },
     "execution_count": 45,
     "metadata": {},
     "output_type": "execute_result"
    },
    {
     "data": {
      "image/png": "[encoded data removed]",
      "text/plain": [
       "<Figure size 1200x800 with 1 Axes>"
      ]
     },
     "metadata": {},
     "output_type": "display_data"
    }
   ],
   "source": [
    "y_pred_prob = model.predict_proba(X_test)[::,1]\n",
    "fpr, tpr, _ = metrics.roc_curve(y_test, y_pred_prob)\n",
    "auc = metrics.roc_auc_score(y_test, y_pred_prob)\n",
    "\n",
    "plt.rcParams['figure.figsize'] = (12., 8.)\n",
    "plt.plot(fpr, tpr, label = 'Logistic Regression, auc = '+str(auc) )\n",
    "plt.plot([0, 1], [0, 1], color = 'red', lw=2, linestyle = '--')\n",
    "plt.legend(loc=4)"
   ]
  },
  {
   "cell_type": "code",
   "execution_count": 46,
   "id": "e4a50fd4",
   "metadata": {},
   "outputs": [],
   "source": [
    "from sklearn.tree import DecisionTreeClassifier"
   ]
  },
  {
   "cell_type": "code",
   "execution_count": 47,
   "id": "b8f6a25f",
   "metadata": {},
   "outputs": [],
   "source": [
    "dt = DecisionTreeClassifier(max_depth=5, random_state=SEED)"
   ]
  },
  {
   "cell_type": "code",
   "execution_count": 48,
   "id": "c06b0d01",
   "metadata": {},
   "outputs": [],
   "source": [
    "def metricas(y_test, y_pred):\n",
    "    print(f'Acurácia: ', metrics.accuracy_score(y_test, y_pred))\n",
    "    print(f'Precisão: ', metrics.precision_score(y_test, y_pred))\n",
    "    print(f'Recall: ', metrics.recall_score(y_test, y_pred))\n",
    "    print(f'F1: ', metrics.f1_score(y_test, y_pred))\n",
    "    \n",
    "def conf_matrix(cm, y_test, y_pred):\n",
    "    cm = confusion_matrix(y_test, y_pred)\n",
    "    disp = ConfusionMatrixDisplay(confusion_matrix = cm)\n",
    "    disp.plot()\n",
    "    \n",
    "def curva_roc(X_test, y_test):\n",
    "    y_pred_prob = model.predict_proba(X_test)[::,1]\n",
    "    fpr, tpr, _ = metrics.roc_curve(y_test, y_pred_prob)\n",
    "    auc = metrics.roc_auc_score(y_test, y_pred_prob)\n",
    "\n",
    "    plt.rcParams['figure.figsize'] = (12., 8.)\n",
    "    plt.plot(fpr, tpr, label = 'Logistic Regression, auc = '+str(auc) )\n",
    "    plt.plot([0, 1], [0, 1], color = 'red', lw=2, linestyle = '--')\n",
    "    plt.legend(loc=4)"
   ]
  },
  {
   "cell_type": "code",
   "execution_count": 49,
   "id": "b559ebed",
   "metadata": {},
   "outputs": [
    {
     "name": "stdout",
     "output_type": "stream",
     "text": [
      "Acurácia:  0.9622849711324362\n",
      "Precisão:  0.9381639982043992\n",
      "Recall:  0.9897000789265983\n",
      "F1:  0.9632432017206943\n"
     ]
    }
   ],
   "source": [
    "dt.fit(X_train, y_train)\n",
    "y_pred_tree = dt.predict(X_test)\n",
    "\n",
    "metricas(y_test, y_pred_tree)"
   ]
  },
  {
   "cell_type": "code",
   "execution_count": 52,
   "id": "219246f3",
   "metadata": {},
   "outputs": [
    {
     "data": {
      "text/plain": [
       "<sklearn.metrics._plot.confusion_matrix.ConfusionMatrixDisplay at 0x1c9a021abf0>"
      ]
     },
     "execution_count": 52,
     "metadata": {},
     "output_type": "execute_result"
    },
    {
     "data": {
      "image/png": "[encoded data removed]",
      "text/plain": [
       "<Figure size 1200x800 with 2 Axes>"
      ]
     },
     "metadata": {},
     "output_type": "display_data"
    }
   ],
   "source": [
    "cm = confusion_matrix(y_test, y_pred_tree)\n",
    "disp = ConfusionMatrixDisplay(confusion_matrix = cm)\n",
    "disp.plot()\n",
    "    "
   ]
  },
  {
   "cell_type": "code",
   "execution_count": 53,
   "id": "c4828cfa",
   "metadata": {},
   "outputs": [
    {
     "data": {
      "text/plain": [
       "<matplotlib.legend.Legend at 0x1c9a4cad630>"
      ]
     },
     "execution_count": 53,
     "metadata": {},
     "output_type": "execute_result"
    },
    {
     "data": {
      "image/png": "[encoded data removed]",
      "text/plain": [
       "<Figure size 1200x800 with 1 Axes>"
      ]
     },
     "metadata": {},
     "output_type": "display_data"
    }
   ],
   "source": [
    "y_pred_prob = dt.predict_proba(X_test)[::,1]\n",
    "fpr, tpr, _ = metrics.roc_curve(y_test, y_pred_prob)\n",
    "auc = metrics.roc_auc_score(y_test, y_pred_prob)\n",
    "\n",
    "plt.rcParams['figure.figsize'] = (12., 8.)\n",
    "plt.plot(fpr, tpr, label = 'Logistic Regression, auc = '+str(auc) )\n",
    "plt.plot([0, 1], [0, 1], color = 'red', lw=2, linestyle = '--')\n",
    "plt.legend(loc=4)"
   ]
  },
  {
   "cell_type": "code",
   "execution_count": 54,
   "id": "0f42bad2",
   "metadata": {},
   "outputs": [],
   "source": [
    "from sklearn.ensemble import RandomForestClassifier"
   ]
  },
  {
   "cell_type": "code",
   "execution_count": 55,
   "id": "961a470f",
   "metadata": {},
   "outputs": [],
   "source": [
    "rf = RandomForestClassifier(max_depth = 5, random_state = SEED)"
   ]
  },
  {
   "cell_type": "code",
   "execution_count": 57,
   "id": "5673dbbb",
   "metadata": {},
   "outputs": [
    {
     "name": "stdout",
     "output_type": "stream",
     "text": [
      "Acurácia:  0.9723738398786183\n",
      "Precisão:  0.9705165500432424\n",
      "Recall:  0.9742699289660616\n",
      "F1:  0.9723896175509079\n"
     ]
    }
   ],
   "source": [
    "model = rf.fit(X_train, y_train)\n",
    "y_pred_rf = rf.predict(X_test)\n",
    "\n",
    "metricas(y_test, y_pred_rf)"
   ]
  },
  {
   "cell_type": "code",
   "execution_count": 58,
   "id": "193dc4fb",
   "metadata": {},
   "outputs": [
    {
     "data": {
      "text/plain": [
       "<sklearn.metrics._plot.confusion_matrix.ConfusionMatrixDisplay at 0x1c9a63e40d0>"
      ]
     },
     "execution_count": 58,
     "metadata": {},
     "output_type": "execute_result"
    },
    {
     "data": {
      "image/png": "[encoded data removed]",
      "text/plain": [
       "<Figure size 1200x800 with 2 Axes>"
      ]
     },
     "metadata": {},
     "output_type": "display_data"
    }
   ],
   "source": [
    "cm = confusion_matrix(y_test, y_pred_rf)\n",
    "disp = ConfusionMatrixDisplay(confusion_matrix = cm)\n",
    "disp.plot()"
   ]
  },
  {
   "cell_type": "code",
   "execution_count": 59,
   "id": "ed3c51e1",
   "metadata": {},
   "outputs": [
    {
     "data": {
      "text/plain": [
       "<matplotlib.legend.Legend at 0x1c9a606aa40>"
      ]
     },
     "execution_count": 59,
     "metadata": {},
     "output_type": "execute_result"
    },
    {
     "data": {
      "image/png": "[encoded data removed]",
      "text/plain": [
       "<Figure size 1200x800 with 1 Axes>"
      ]
     },
     "metadata": {},
     "output_type": "display_data"
    }
   ],
   "source": [
    "y_pred_prob = rf.predict_proba(X_test)[::,1]\n",
    "fpr, tpr, _ = metrics.roc_curve(y_test, y_pred_prob)\n",
    "auc = metrics.roc_auc_score(y_test, y_pred_prob)\n",
    "\n",
    "plt.rcParams['figure.figsize'] = (12., 8.)\n",
    "plt.plot(fpr, tpr, label = 'Logistic Regression, auc = '+str(auc) )\n",
    "plt.plot([0, 1], [0, 1], color = 'red', lw=2, linestyle = '--')\n",
    "plt.legend(loc=4)"
   ]
  },
  {
   "cell_type": "code",
   "execution_count": 61,
   "id": "c00c7a04",
   "metadata": {},
   "outputs": [],
   "source": [
    "classifiers = [\n",
    "    LogisticRegression(max_iter=1000, random_state=SEED),\n",
    "    DecisionTreeClassifier(max_depth=5, random_state=SEED),\n",
    "    RandomForestClassifier(max_depth=5, random_state=SEED)\n",
    "]"
   ]
  },
  {
   "cell_type": "code",
   "execution_count": 63,
   "id": "98380b2d",
   "metadata": {
    "scrolled": false
   },
   "outputs": [
    {
     "name": "stdout",
     "output_type": "stream",
     "text": [
      "==============================\n",
      "LogisticRegression\n",
      "**Resultados**\n",
      "Acurácia:  0.9417722516699837\n",
      "Precisão:  0.9241993556945234\n",
      "Recall:  0.9623125493291239\n",
      "F1:  0.9428709521507975\n",
      "==============================\n",
      "DecisionTreeClassifier\n",
      "**Resultados**\n",
      "Acurácia:  0.9622849711324362\n",
      "Precisão:  0.9381639982043992\n",
      "Recall:  0.9897000789265983\n",
      "F1:  0.9632432017206943\n",
      "==============================\n",
      "RandomForestClassifier\n",
      "**Resultados**\n",
      "Acurácia:  0.9723738398786183\n",
      "Precisão:  0.9705165500432424\n",
      "Recall:  0.9742699289660616\n",
      "F1:  0.9723896175509079\n"
     ]
    },
    {
     "data": {
      "image/png": "[encoded data removed]",
      "text/plain": [
       "<Figure size 1200x800 with 2 Axes>"
      ]
     },
     "metadata": {},
     "output_type": "display_data"
    },
    {
     "data": {
      "image/png": "[encoded data removed]",
      "text/plain": [
       "<Figure size 1200x800 with 2 Axes>"
      ]
     },
     "metadata": {},
     "output_type": "display_data"
    },
    {
     "data": {
      "image/png": "[encoded data removed]",
      "text/plain": [
       "<Figure size 1200x800 with 2 Axes>"
      ]
     },
     "metadata": {},
     "output_type": "display_data"
    }
   ],
   "source": [
    "for clf in classifiers:\n",
    "    clf.fit(X_train, y_train)\n",
    "    name = clf.__class__.__name__\n",
    "    print('='*30)\n",
    "    print(name)\n",
    "    print('**Resultados**')\n",
    "    \n",
    "    y_pred = clf.predict(X_test)\n",
    "    \n",
    "    metricas(y_test, y_pred)\n",
    "    \n",
    "    cm = confusion_matrix(y_test, y_pred)\n",
    "    disp = ConfusionMatrixDisplay(confusion_matrix = cm)\n",
    "    disp.plot()\n",
    "    "
   ]
  },
  {
   "cell_type": "code",
   "execution_count": 67,
   "id": "260821d0",
   "metadata": {},
   "outputs": [],
   "source": [
    "n_estimators = np.arange(20, 200, step=20)\n",
    "criterion = ['gini', 'entropy']\n",
    "max_features = ['auto', 'sqrt', 'log2']\n",
    "max_depth = list(np.arange(2, 10, step=1))\n",
    "min_samples_split = np.arange(2, 10, step=2)\n",
    "min_samples_leaf = [1, 2, 4]\n",
    "bootstrap = [True, False]"
   ]
  },
  {
   "cell_type": "code",
   "execution_count": 68,
   "id": "241808b9",
   "metadata": {},
   "outputs": [],
   "source": [
    "param_grid = {\n",
    "    'n_estimators': n_estimators,\n",
    "    'criterion': criterion,\n",
    "    'max_features': max_features,\n",
    "    'min_samples_split': min_samples_split,\n",
    "    'min_samples_leaf': min_samples_leaf,\n",
    "    'bootstrap': bootstrap,\n",
    "}"
   ]
  },
  {
   "cell_type": "code",
   "execution_count": 70,
   "id": "170620b1",
   "metadata": {},
   "outputs": [],
   "source": [
    "from sklearn.model_selection import RandomizedSearchCV"
   ]
  },
  {
   "cell_type": "code",
   "execution_count": 71,
   "id": "f8f43fb5",
   "metadata": {},
   "outputs": [],
   "source": [
    "SEED = 70\n",
    "\n",
    "rforest = RandomForestClassifier(random_state = SEED)"
   ]
  },
  {
   "cell_type": "code",
   "execution_count": 72,
   "id": "cf6f8c08",
   "metadata": {},
   "outputs": [],
   "source": [
    "random_cv = RandomizedSearchCV(\n",
    "    rforest, param_grid, n_iter=5, cv=3, scoring='recall', n_jobs=-1, random_state=SEED)"
   ]
  },
  {
   "cell_type": "code",
   "execution_count": 74,
   "id": "18cc21b8",
   "metadata": {},
   "outputs": [],
   "source": [
    "rcv = random_cv.fit(X_train, y_train)"
   ]
  },
  {
   "cell_type": "code",
   "execution_count": 75,
   "id": "144ccf20",
   "metadata": {},
   "outputs": [
    {
     "data": {
      "text/html": [
       "<div>\n",
       "<style scoped>\n",
       "    .dataframe tbody tr th:only-of-type {\n",
       "        vertical-align: middle;\n",
       "    }\n",
       "\n",
       "    .dataframe tbody tr th {\n",
       "        vertical-align: top;\n",
       "    }\n",
       "\n",
       "    .dataframe thead th {\n",
       "        text-align: right;\n",
       "    }\n",
       "</style>\n",
       "<table border=\"1\" class=\"dataframe\">\n",
       "  <thead>\n",
       "    <tr style=\"text-align: right;\">\n",
       "      <th></th>\n",
       "      <th>mean_fit_time</th>\n",
       "      <th>std_fit_time</th>\n",
       "      <th>mean_score_time</th>\n",
       "      <th>std_score_time</th>\n",
       "      <th>param_n_estimators</th>\n",
       "      <th>param_min_samples_split</th>\n",
       "      <th>param_min_samples_leaf</th>\n",
       "      <th>param_max_features</th>\n",
       "      <th>param_criterion</th>\n",
       "      <th>param_bootstrap</th>\n",
       "      <th>params</th>\n",
       "      <th>split0_test_score</th>\n",
       "      <th>split1_test_score</th>\n",
       "      <th>split2_test_score</th>\n",
       "      <th>mean_test_score</th>\n",
       "      <th>std_test_score</th>\n",
       "      <th>rank_test_score</th>\n",
       "    </tr>\n",
       "  </thead>\n",
       "  <tbody>\n",
       "    <tr>\n",
       "      <th>0</th>\n",
       "      <td>40.960127</td>\n",
       "      <td>1.437325</td>\n",
       "      <td>1.092939</td>\n",
       "      <td>0.123571</td>\n",
       "      <td>160</td>\n",
       "      <td>8</td>\n",
       "      <td>4</td>\n",
       "      <td>sqrt</td>\n",
       "      <td>gini</td>\n",
       "      <td>True</td>\n",
       "      <td>{'n_estimators': 160, 'min_samples_split': 8, ...</td>\n",
       "      <td>0.999409</td>\n",
       "      <td>0.999842</td>\n",
       "      <td>0.999488</td>\n",
       "      <td>0.999580</td>\n",
       "      <td>0.000188</td>\n",
       "      <td>5</td>\n",
       "    </tr>\n",
       "    <tr>\n",
       "      <th>1</th>\n",
       "      <td>35.627203</td>\n",
       "      <td>1.554691</td>\n",
       "      <td>0.889579</td>\n",
       "      <td>0.033214</td>\n",
       "      <td>100</td>\n",
       "      <td>6</td>\n",
       "      <td>2</td>\n",
       "      <td>sqrt</td>\n",
       "      <td>entropy</td>\n",
       "      <td>False</td>\n",
       "      <td>{'n_estimators': 100, 'min_samples_split': 6, ...</td>\n",
       "      <td>0.999527</td>\n",
       "      <td>0.999882</td>\n",
       "      <td>0.999567</td>\n",
       "      <td>0.999659</td>\n",
       "      <td>0.000159</td>\n",
       "      <td>4</td>\n",
       "    </tr>\n",
       "    <tr>\n",
       "      <th>2</th>\n",
       "      <td>30.389378</td>\n",
       "      <td>1.287906</td>\n",
       "      <td>0.758119</td>\n",
       "      <td>0.078073</td>\n",
       "      <td>80</td>\n",
       "      <td>2</td>\n",
       "      <td>1</td>\n",
       "      <td>sqrt</td>\n",
       "      <td>entropy</td>\n",
       "      <td>False</td>\n",
       "      <td>{'n_estimators': 80, 'min_samples_split': 2, '...</td>\n",
       "      <td>0.999606</td>\n",
       "      <td>0.999803</td>\n",
       "      <td>0.999606</td>\n",
       "      <td>0.999672</td>\n",
       "      <td>0.000093</td>\n",
       "      <td>3</td>\n",
       "    </tr>\n",
       "    <tr>\n",
       "      <th>3</th>\n",
       "      <td>34.988098</td>\n",
       "      <td>1.542686</td>\n",
       "      <td>1.252883</td>\n",
       "      <td>0.148796</td>\n",
       "      <td>120</td>\n",
       "      <td>8</td>\n",
       "      <td>1</td>\n",
       "      <td>log2</td>\n",
       "      <td>gini</td>\n",
       "      <td>False</td>\n",
       "      <td>{'n_estimators': 120, 'min_samples_split': 8, ...</td>\n",
       "      <td>0.999567</td>\n",
       "      <td>0.999882</td>\n",
       "      <td>0.999606</td>\n",
       "      <td>0.999685</td>\n",
       "      <td>0.000140</td>\n",
       "      <td>2</td>\n",
       "    </tr>\n",
       "    <tr>\n",
       "      <th>4</th>\n",
       "      <td>22.254728</td>\n",
       "      <td>0.683462</td>\n",
       "      <td>0.448284</td>\n",
       "      <td>0.020739</td>\n",
       "      <td>100</td>\n",
       "      <td>2</td>\n",
       "      <td>1</td>\n",
       "      <td>sqrt</td>\n",
       "      <td>entropy</td>\n",
       "      <td>True</td>\n",
       "      <td>{'n_estimators': 100, 'min_samples_split': 2, ...</td>\n",
       "      <td>0.999645</td>\n",
       "      <td>0.999921</td>\n",
       "      <td>0.999645</td>\n",
       "      <td>0.999737</td>\n",
       "      <td>0.000130</td>\n",
       "      <td>1</td>\n",
       "    </tr>\n",
       "  </tbody>\n",
       "</table>\n",
       "</div>"
      ],
      "text/plain": [
       "   mean_fit_time  std_fit_time  mean_score_time  std_score_time  \\\n",
       "0      40.960127      1.437325         1.092939        0.123571   \n",
       "1      35.627203      1.554691         0.889579        0.033214   \n",
       "2      30.389378      1.287906         0.758119        0.078073   \n",
       "3      34.988098      1.542686         1.252883        0.148796   \n",
       "4      22.254728      0.683462         0.448284        0.020739   \n",
       "\n",
       "  param_n_estimators param_min_samples_split param_min_samples_leaf  \\\n",
       "0                160                       8                      4   \n",
       "1                100                       6                      2   \n",
       "2                 80                       2                      1   \n",
       "3                120                       8                      1   \n",
       "4                100                       2                      1   \n",
       "\n",
       "  param_max_features param_criterion param_bootstrap  \\\n",
       "0               sqrt            gini            True   \n",
       "1               sqrt         entropy           False   \n",
       "2               sqrt         entropy           False   \n",
       "3               log2            gini           False   \n",
       "4               sqrt         entropy            True   \n",
       "\n",
       "                                              params  split0_test_score  \\\n",
       "0  {'n_estimators': 160, 'min_samples_split': 8, ...           0.999409   \n",
       "1  {'n_estimators': 100, 'min_samples_split': 6, ...           0.999527   \n",
       "2  {'n_estimators': 80, 'min_samples_split': 2, '...           0.999606   \n",
       "3  {'n_estimators': 120, 'min_samples_split': 8, ...           0.999567   \n",
       "4  {'n_estimators': 100, 'min_samples_split': 2, ...           0.999645   \n",
       "\n",
       "   split1_test_score  split2_test_score  mean_test_score  std_test_score  \\\n",
       "0           0.999842           0.999488         0.999580        0.000188   \n",
       "1           0.999882           0.999567         0.999659        0.000159   \n",
       "2           0.999803           0.999606         0.999672        0.000093   \n",
       "3           0.999882           0.999606         0.999685        0.000140   \n",
       "4           0.999921           0.999645         0.999737        0.000130   \n",
       "\n",
       "   rank_test_score  \n",
       "0                5  \n",
       "1                4  \n",
       "2                3  \n",
       "3                2  \n",
       "4                1  "
      ]
     },
     "execution_count": 75,
     "metadata": {},
     "output_type": "execute_result"
    }
   ],
   "source": [
    "pd.DataFrame(rcv.cv_results_)"
   ]
  },
  {
   "cell_type": "code",
   "execution_count": 76,
   "id": "65f2bbfd",
   "metadata": {},
   "outputs": [
    {
     "data": {
      "text/plain": [
       "{'n_estimators': 100,\n",
       " 'min_samples_split': 2,\n",
       " 'min_samples_leaf': 1,\n",
       " 'max_features': 'sqrt',\n",
       " 'criterion': 'entropy',\n",
       " 'bootstrap': True}"
      ]
     },
     "execution_count": 76,
     "metadata": {},
     "output_type": "execute_result"
    }
   ],
   "source": [
    "rcv.best_params_"
   ]
  },
  {
   "cell_type": "code",
   "execution_count": 78,
   "id": "dece617e",
   "metadata": {},
   "outputs": [],
   "source": [
    "rfn = RandomForestClassifier(**rcv.best_params_, random_state=SEED)\n",
    "\n",
    "rfn.fit(X_train, y_train)\n",
    "y_pred = rfn.predict(X_test)"
   ]
  },
  {
   "cell_type": "code",
   "execution_count": 79,
   "id": "0dc7ae0b",
   "metadata": {},
   "outputs": [
    {
     "name": "stdout",
     "output_type": "stream",
     "text": [
      "Acurácia:  0.9991921023074346\n",
      "Precisão:  0.9986203634356893\n",
      "Recall:  0.9997632202052091\n",
      "F1:  0.9991914650259324\n"
     ]
    }
   ],
   "source": [
    "metricas(y_test, y_pred)"
   ]
  },
  {
   "cell_type": "code",
   "execution_count": 80,
   "id": "29f95cd9",
   "metadata": {},
   "outputs": [
    {
     "data": {
      "text/plain": [
       "<sklearn.metrics._plot.confusion_matrix.ConfusionMatrixDisplay at 0x1c9ab47f250>"
      ]
     },
     "execution_count": 80,
     "metadata": {},
     "output_type": "execute_result"
    },
    {
     "data": {
      "image/png": "[encoded data removed]",
      "text/plain": [
       "<Figure size 1200x800 with 2 Axes>"
      ]
     },
     "metadata": {},
     "output_type": "display_data"
    }
   ],
   "source": [
    "cm = confusion_matrix(y_test, y_pred)\n",
    "disp = ConfusionMatrixDisplay(confusion_matrix = cm)\n",
    "disp.plot()"
   ]
  },
  {
   "cell_type": "code",
   "execution_count": 82,
   "id": "ea6db440",
   "metadata": {},
   "outputs": [
    {
     "data": {
      "text/plain": [
       "<matplotlib.legend.Legend at 0x1c9acdd1690>"
      ]
     },
     "execution_count": 82,
     "metadata": {},
     "output_type": "execute_result"
    },
    {
     "data": {
      "image/png": "[encoded data removed]",
      "text/plain": [
       "<Figure size 1200x800 with 1 Axes>"
      ]
     },
     "metadata": {},
     "output_type": "display_data"
    }
   ],
   "source": [
    "y_pred_prob = rfn.predict_proba(X_test)[::,1]\n",
    "fpr, tpr, _ = metrics.roc_curve(y_test, y_pred_prob)\n",
    "auc = metrics.roc_auc_score(y_test, y_pred_prob)\n",
    "\n",
    "plt.rcParams['figure.figsize'] = (12., 8.)\n",
    "plt.plot(fpr, tpr, label = 'Logistic Regression, auc = '+str(auc) )\n",
    "plt.plot([0, 1], [0, 1], color = 'red', lw=2, linestyle = '--')\n",
    "plt.legend(loc=4)"
   ]
  },
  {
   "cell_type": "code",
   "execution_count": null,
   "id": "c80d9cea",
   "metadata": {},
   "outputs": [],
   "source": []
  }
 ],
 "metadata": {
  "kernelspec": {
   "display_name": "Python 3 (ipykernel)",
   "language": "python",
   "name": "python3"
  },
  "language_info": {
   "codemirror_mode": {
    "name": "ipython",
    "version": 3
   },
   "file_extension": ".py",
   "mimetype": "text/x-python",
   "name": "python",
   "nbconvert_exporter": "python",
   "pygments_lexer": "ipython3",
   "version": "3.10.6"
  }
 },
 "nbformat": 4,
 "nbformat_minor": 5
}
